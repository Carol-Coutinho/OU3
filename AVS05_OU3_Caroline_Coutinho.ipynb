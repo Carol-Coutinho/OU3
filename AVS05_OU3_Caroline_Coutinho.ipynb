{
  "nbformat": 4,
  "nbformat_minor": 0,
  "metadata": {
    "colab": {
      "provenance": [],
      "collapsed_sections": [],
      "mount_file_id": "19Risjd41NMVHC7PNmsVU9g5flrlOygk1",
      "authorship_tag": "ABX9TyO8srsQEy3wEAnHBawdkynp",
      "include_colab_link": true
    },
    "kernelspec": {
      "name": "python3",
      "display_name": "Python 3"
    },
    "language_info": {
      "name": "python"
    }
  },
  "cells": [
    {
      "cell_type": "markdown",
      "metadata": {
        "id": "view-in-github",
        "colab_type": "text"
      },
      "source": [
        "<a href=\"https://colab.research.google.com/github/Carol-Coutinho/OU3/blob/main/AVS05_OU3_Caroline_Coutinho.ipynb\" target=\"_parent\"><img src=\"https://colab.research.google.com/assets/colab-badge.svg\" alt=\"Open In Colab\"/></a>"
      ]
    },
    {
      "cell_type": "markdown",
      "metadata": {
        "id": "y-ZCDSjbqraV"
      },
      "source": [
        "## AVS_05_OU3\n",
        "\n",
        "Caroline Coutinho\n",
        "\n",
        "A partir de uma mistura equimolar dos componentes da sua AVS01, responder as seguintes questões:\n",
        "\n",
        "\n",
        "\n",
        "- Qual a concentração do componente mais leve no refervedor quando a fração destilada corresponder a 60% (em base molar)?\n",
        "\n",
        "\n",
        "- Qual a concentração do componente mais pesado no destilado de topo, quando a fração restante de mistura no refervedor for de 40%?\n",
        "\n",
        "Mistura escolhida: Tolueno e Benzeno"
      ]
    },
    {
      "cell_type": "markdown",
      "metadata": {
        "id": "p2lF6W9HrSH5"
      },
      "source": [
        "Primeiro vamos preparar o Kernel:"
      ]
    },
    {
      "cell_type": "code",
      "metadata": {
        "id": "bGaP4R8P2wVv",
        "colab": {
          "base_uri": "https://localhost:8080/"
        },
        "outputId": "919d6483-9dcc-4f39-df21-eda7f1a0d24f"
      },
      "source": [
        "# Preparando kernel\n",
        "import pandas as pd\n",
        "#import pickle\n",
        "!pip3 install pickle5\n",
        "import pickle5 as pickl\n",
        "import numpy as np\n",
        "import matplotlib.pyplot as plt "
      ],
      "execution_count": null,
      "outputs": [
        {
          "output_type": "stream",
          "name": "stdout",
          "text": [
            "Requirement already satisfied: pickle5 in /usr/local/lib/python3.7/dist-packages (0.0.11)\n"
          ]
        }
      ]
    },
    {
      "cell_type": "code",
      "metadata": {
        "id": "2EkTl3HVYzyE"
      },
      "source": [
        "# Para ler/carregar\n",
        "with open('/content/databank_properties.pickle', 'rb') as handle:\n",
        "    dados, all_units = pickl.load(handle)"
      ],
      "execution_count": null,
      "outputs": []
    },
    {
      "cell_type": "code",
      "metadata": {
        "id": "o6PNM-a0rXB4"
      },
      "source": [
        "# Carregamento das funções úteis\n",
        "from OU3_funcoes_uteis_v01 import *"
      ],
      "execution_count": null,
      "outputs": []
    },
    {
      "cell_type": "markdown",
      "metadata": {
        "id": "PD8QIJAAZ-4M"
      },
      "source": [
        "Buscando os componentes necessários: Tolueno e Benzeno.\n"
      ]
    },
    {
      "cell_type": "code",
      "metadata": {
        "id": "9Z_jR3XpcFHT",
        "colab": {
          "base_uri": "https://localhost:8080/",
          "height": 1000
        },
        "outputId": "ef57b3b7-f761-4850-eae2-f01363a8b307"
      },
      "source": [
        "# Buscando o primeiro componente:\n",
        "filtro1 = dados.name.str.contains('BENZENE')\n",
        "dados[filtro1]\n"
      ],
      "execution_count": null,
      "outputs": [
        {
          "output_type": "execute_result",
          "data": {
            "text/html": [
              "<div>\n",
              "<style scoped>\n",
              "    .dataframe tbody tr th:only-of-type {\n",
              "        vertical-align: middle;\n",
              "    }\n",
              "\n",
              "    .dataframe tbody tr th {\n",
              "        vertical-align: top;\n",
              "    }\n",
              "\n",
              "    .dataframe thead th {\n",
              "        text-align: right;\n",
              "    }\n",
              "</style>\n",
              "<table border=\"1\" class=\"dataframe\">\n",
              "  <thead>\n",
              "    <tr style=\"text-align: right;\">\n",
              "      <th></th>\n",
              "      <th>num</th>\n",
              "      <th>name</th>\n",
              "      <th>molar_mass</th>\n",
              "      <th>fusion_point</th>\n",
              "      <th>boiling_point</th>\n",
              "      <th>critical_temp</th>\n",
              "      <th>critical_pressure</th>\n",
              "      <th>critical_volume</th>\n",
              "      <th>zc</th>\n",
              "      <th>acentric_factor</th>\n",
              "      <th>liq_density</th>\n",
              "      <th>temp_ref_liq_density</th>\n",
              "      <th>dipole_moment</th>\n",
              "      <th>cp_a</th>\n",
              "      <th>cp_b</th>\n",
              "      <th>cp_c</th>\n",
              "      <th>cp_d</th>\n",
              "      <th>visc_b</th>\n",
              "      <th>visc_c</th>\n",
              "      <th>delta_h0f_gas</th>\n",
              "      <th>delta_g0f_gas</th>\n",
              "      <th>pvap_a</th>\n",
              "      <th>pvap_b</th>\n",
              "      <th>pvap_c</th>\n",
              "      <th>temp_max_pvap</th>\n",
              "      <th>temp_min_pvap</th>\n",
              "      <th>pvap_h_a</th>\n",
              "      <th>pvap_h_b</th>\n",
              "      <th>pvap_h_c</th>\n",
              "      <th>pvap_h_d</th>\n",
              "      <th>delta_h_vap_bp</th>\n",
              "    </tr>\n",
              "  </thead>\n",
              "  <tbody>\n",
              "    <tr>\n",
              "      <th>14</th>\n",
              "      <td>383</td>\n",
              "      <td>1,2,3-TRIMETHYLBENZENE</td>\n",
              "      <td>120.195</td>\n",
              "      <td>247.7</td>\n",
              "      <td>449.2</td>\n",
              "      <td>664.5</td>\n",
              "      <td>34.1</td>\n",
              "      <td>430.0</td>\n",
              "      <td>0.270</td>\n",
              "      <td>0.390</td>\n",
              "      <td>0.894</td>\n",
              "      <td>293.0</td>\n",
              "      <td>0.6</td>\n",
              "      <td>-1.658000</td>\n",
              "      <td>0.151300</td>\n",
              "      <td>-0.000079</td>\n",
              "      <td>1.579000e-08</td>\n",
              "      <td>NaN</td>\n",
              "      <td>NaN</td>\n",
              "      <td>-2.29</td>\n",
              "      <td>29.77</td>\n",
              "      <td>16.2121</td>\n",
              "      <td>3670.22</td>\n",
              "      <td>-66.07</td>\n",
              "      <td>479.00</td>\n",
              "      <td>329.0</td>\n",
              "      <td>NaN</td>\n",
              "      <td>NaN</td>\n",
              "      <td>NaN</td>\n",
              "      <td>NaN</td>\n",
              "      <td>9570.0</td>\n",
              "    </tr>\n",
              "    <tr>\n",
              "      <th>16</th>\n",
              "      <td>384</td>\n",
              "      <td>1,2,4-TRIMETHYLBENZENE</td>\n",
              "      <td>120.195</td>\n",
              "      <td>227.0</td>\n",
              "      <td>442.5</td>\n",
              "      <td>649.1</td>\n",
              "      <td>31.9</td>\n",
              "      <td>430.0</td>\n",
              "      <td>0.258</td>\n",
              "      <td>0.390</td>\n",
              "      <td>0.880</td>\n",
              "      <td>289.0</td>\n",
              "      <td>0.3</td>\n",
              "      <td>-1.115000</td>\n",
              "      <td>0.149000</td>\n",
              "      <td>-0.000078</td>\n",
              "      <td>1.523000e-08</td>\n",
              "      <td>872.74</td>\n",
              "      <td>297.75</td>\n",
              "      <td>-3.33</td>\n",
              "      <td>27.95</td>\n",
              "      <td>16.2190</td>\n",
              "      <td>3622.58</td>\n",
              "      <td>-64.59</td>\n",
              "      <td>471.00</td>\n",
              "      <td>324.0</td>\n",
              "      <td>56.241</td>\n",
              "      <td>-7256.56</td>\n",
              "      <td>-5.459</td>\n",
              "      <td>7.270</td>\n",
              "      <td>9380.0</td>\n",
              "    </tr>\n",
              "    <tr>\n",
              "      <th>24</th>\n",
              "      <td>385</td>\n",
              "      <td>1,3,5-TRIMETHYLBENZENE</td>\n",
              "      <td>120.195</td>\n",
              "      <td>228.4</td>\n",
              "      <td>437.9</td>\n",
              "      <td>637.3</td>\n",
              "      <td>30.9</td>\n",
              "      <td>433.0</td>\n",
              "      <td>0.260</td>\n",
              "      <td>0.398</td>\n",
              "      <td>0.865</td>\n",
              "      <td>293.0</td>\n",
              "      <td>0.1</td>\n",
              "      <td>-4.679000</td>\n",
              "      <td>0.160600</td>\n",
              "      <td>-0.000088</td>\n",
              "      <td>1.839000e-08</td>\n",
              "      <td>437.52</td>\n",
              "      <td>268.27</td>\n",
              "      <td>3.84</td>\n",
              "      <td>28.19</td>\n",
              "      <td>16.2893</td>\n",
              "      <td>3614.19</td>\n",
              "      <td>-63.57</td>\n",
              "      <td>466.00</td>\n",
              "      <td>321.0</td>\n",
              "      <td>58.041</td>\n",
              "      <td>-7326.78</td>\n",
              "      <td>-5.706</td>\n",
              "      <td>7.220</td>\n",
              "      <td>9330.0</td>\n",
              "    </tr>\n",
              "    <tr>\n",
              "      <th>28</th>\n",
              "      <td>407</td>\n",
              "      <td>1,4-DIETHYLBENZENE</td>\n",
              "      <td>134.222</td>\n",
              "      <td>231.0</td>\n",
              "      <td>456.9</td>\n",
              "      <td>657.9</td>\n",
              "      <td>27.7</td>\n",
              "      <td>480.0</td>\n",
              "      <td>0.250</td>\n",
              "      <td>0.403</td>\n",
              "      <td>0.862</td>\n",
              "      <td>293.0</td>\n",
              "      <td>0.1</td>\n",
              "      <td>-8.937000</td>\n",
              "      <td>0.207100</td>\n",
              "      <td>-0.000133</td>\n",
              "      <td>3.370000e-08</td>\n",
              "      <td>NaN</td>\n",
              "      <td>NaN</td>\n",
              "      <td>-5.32</td>\n",
              "      <td>32.95</td>\n",
              "      <td>16.1140</td>\n",
              "      <td>3657.22</td>\n",
              "      <td>-71.18</td>\n",
              "      <td>487.00</td>\n",
              "      <td>335.0</td>\n",
              "      <td>NaN</td>\n",
              "      <td>NaN</td>\n",
              "      <td>NaN</td>\n",
              "      <td>NaN</td>\n",
              "      <td>9410.0</td>\n",
              "    </tr>\n",
              "    <tr>\n",
              "      <th>45</th>\n",
              "      <td>380</td>\n",
              "      <td>1-METHYL-2-ETHYLBENZENE</td>\n",
              "      <td>120.195</td>\n",
              "      <td>192.3</td>\n",
              "      <td>438.3</td>\n",
              "      <td>651.0</td>\n",
              "      <td>30.0</td>\n",
              "      <td>460.0</td>\n",
              "      <td>0.260</td>\n",
              "      <td>0.294</td>\n",
              "      <td>0.881</td>\n",
              "      <td>293.0</td>\n",
              "      <td>0.0</td>\n",
              "      <td>-3.928000</td>\n",
              "      <td>0.167100</td>\n",
              "      <td>-0.000098</td>\n",
              "      <td>2.228000e-08</td>\n",
              "      <td>NaN</td>\n",
              "      <td>NaN</td>\n",
              "      <td>0.29</td>\n",
              "      <td>31.33</td>\n",
              "      <td>16.1253</td>\n",
              "      <td>3535.33</td>\n",
              "      <td>-65.85</td>\n",
              "      <td>467.00</td>\n",
              "      <td>321.0</td>\n",
              "      <td>64.337</td>\n",
              "      <td>-7662.94</td>\n",
              "      <td>-6.617</td>\n",
              "      <td>7.180</td>\n",
              "      <td>9290.0</td>\n",
              "    </tr>\n",
              "    <tr>\n",
              "      <th>46</th>\n",
              "      <td>404</td>\n",
              "      <td>1-METHYL-2-ISOPROPYLBENZENE</td>\n",
              "      <td>134.222</td>\n",
              "      <td>NaN</td>\n",
              "      <td>451.5</td>\n",
              "      <td>670.0</td>\n",
              "      <td>28.6</td>\n",
              "      <td>NaN</td>\n",
              "      <td>NaN</td>\n",
              "      <td>0.277</td>\n",
              "      <td>0.876</td>\n",
              "      <td>293.0</td>\n",
              "      <td>0.0</td>\n",
              "      <td>NaN</td>\n",
              "      <td>NaN</td>\n",
              "      <td>NaN</td>\n",
              "      <td>NaN</td>\n",
              "      <td>NaN</td>\n",
              "      <td>NaN</td>\n",
              "      <td>0.00</td>\n",
              "      <td>0.00</td>\n",
              "      <td>15.9809</td>\n",
              "      <td>3564.52</td>\n",
              "      <td>-70.00</td>\n",
              "      <td>481.00</td>\n",
              "      <td>330.0</td>\n",
              "      <td>NaN</td>\n",
              "      <td>NaN</td>\n",
              "      <td>NaN</td>\n",
              "      <td>NaN</td>\n",
              "      <td>0.0</td>\n",
              "    </tr>\n",
              "    <tr>\n",
              "      <th>47</th>\n",
              "      <td>405</td>\n",
              "      <td>1-METHYL-2-ISOPROPYLBENZENE</td>\n",
              "      <td>134.222</td>\n",
              "      <td>NaN</td>\n",
              "      <td>448.3</td>\n",
              "      <td>666.0</td>\n",
              "      <td>29.0</td>\n",
              "      <td>NaN</td>\n",
              "      <td>NaN</td>\n",
              "      <td>0.279</td>\n",
              "      <td>0.861</td>\n",
              "      <td>293.0</td>\n",
              "      <td>0.0</td>\n",
              "      <td>-11.646000</td>\n",
              "      <td>0.216500</td>\n",
              "      <td>-0.000145</td>\n",
              "      <td>3.887000e-08</td>\n",
              "      <td>NaN</td>\n",
              "      <td>NaN</td>\n",
              "      <td>-7.00</td>\n",
              "      <td>0.00</td>\n",
              "      <td>15.9811</td>\n",
              "      <td>3543.79</td>\n",
              "      <td>-69.22</td>\n",
              "      <td>478.00</td>\n",
              "      <td>328.0</td>\n",
              "      <td>67.726</td>\n",
              "      <td>-8033.58</td>\n",
              "      <td>-7.076</td>\n",
              "      <td>8.390</td>\n",
              "      <td>9110.0</td>\n",
              "    </tr>\n",
              "    <tr>\n",
              "      <th>48</th>\n",
              "      <td>381</td>\n",
              "      <td>1-METHYL-3-ETHYLBENZENE</td>\n",
              "      <td>120.195</td>\n",
              "      <td>177.6</td>\n",
              "      <td>434.5</td>\n",
              "      <td>637.0</td>\n",
              "      <td>28.0</td>\n",
              "      <td>490.0</td>\n",
              "      <td>0.260</td>\n",
              "      <td>0.360</td>\n",
              "      <td>0.865</td>\n",
              "      <td>293.0</td>\n",
              "      <td>0.0</td>\n",
              "      <td>-6.926000</td>\n",
              "      <td>0.174200</td>\n",
              "      <td>-0.000104</td>\n",
              "      <td>2.388000e+00</td>\n",
              "      <td>8.00</td>\n",
              "      <td>0.00</td>\n",
              "      <td>0.00</td>\n",
              "      <td>-0.46</td>\n",
              "      <td>30.2200</td>\n",
              "      <td>16.15</td>\n",
              "      <td>3521.08</td>\n",
              "      <td>-64.64</td>\n",
              "      <td>463.0</td>\n",
              "      <td>318.000</td>\n",
              "      <td>65.67</td>\n",
              "      <td>-7678.110</td>\n",
              "      <td>-6.815</td>\n",
              "      <td>7.2</td>\n",
              "    </tr>\n",
              "    <tr>\n",
              "      <th>49</th>\n",
              "      <td>382</td>\n",
              "      <td>1-METHYL-4-ETHYLBENZENE</td>\n",
              "      <td>120.195</td>\n",
              "      <td>210.8</td>\n",
              "      <td>435.2</td>\n",
              "      <td>640.0</td>\n",
              "      <td>29.0</td>\n",
              "      <td>470.0</td>\n",
              "      <td>0.260</td>\n",
              "      <td>0.322</td>\n",
              "      <td>0.861</td>\n",
              "      <td>293.0</td>\n",
              "      <td>0.0</td>\n",
              "      <td>-6.523000</td>\n",
              "      <td>0.171400</td>\n",
              "      <td>-0.000101</td>\n",
              "      <td>2.279000e-08</td>\n",
              "      <td>463.17</td>\n",
              "      <td>266.08</td>\n",
              "      <td>-0.49</td>\n",
              "      <td>30.28</td>\n",
              "      <td>16.1135</td>\n",
              "      <td>3516.31</td>\n",
              "      <td>-64.23</td>\n",
              "      <td>463.00</td>\n",
              "      <td>318.0</td>\n",
              "      <td>61.404</td>\n",
              "      <td>-7422.59</td>\n",
              "      <td>-6.212</td>\n",
              "      <td>7.230</td>\n",
              "      <td>9180.0</td>\n",
              "    </tr>\n",
              "    <tr>\n",
              "      <th>50</th>\n",
              "      <td>406</td>\n",
              "      <td>1-METHYL-4-ISOPROPYLBENZENE</td>\n",
              "      <td>134.222</td>\n",
              "      <td>200.0</td>\n",
              "      <td>450.3</td>\n",
              "      <td>653.0</td>\n",
              "      <td>27.9</td>\n",
              "      <td>NaN</td>\n",
              "      <td>NaN</td>\n",
              "      <td>0.371</td>\n",
              "      <td>0.857</td>\n",
              "      <td>293.0</td>\n",
              "      <td>0.0</td>\n",
              "      <td>NaN</td>\n",
              "      <td>NaN</td>\n",
              "      <td>NaN</td>\n",
              "      <td>NaN</td>\n",
              "      <td>NaN</td>\n",
              "      <td>NaN</td>\n",
              "      <td>0.00</td>\n",
              "      <td>0.00</td>\n",
              "      <td>15.9424</td>\n",
              "      <td>3539.21</td>\n",
              "      <td>-70.10</td>\n",
              "      <td>480.00</td>\n",
              "      <td>329.0</td>\n",
              "      <td>63.225</td>\n",
              "      <td>-7800.97</td>\n",
              "      <td>-6.432</td>\n",
              "      <td>8.410</td>\n",
              "      <td>0.0</td>\n",
              "    </tr>\n",
              "    <tr>\n",
              "      <th>161</th>\n",
              "      <td>242</td>\n",
              "      <td>BENZENE</td>\n",
              "      <td>78.114</td>\n",
              "      <td>278.7</td>\n",
              "      <td>353.3</td>\n",
              "      <td>562.1</td>\n",
              "      <td>48.3</td>\n",
              "      <td>259.0</td>\n",
              "      <td>0.271</td>\n",
              "      <td>0.212</td>\n",
              "      <td>0.885</td>\n",
              "      <td>289.0</td>\n",
              "      <td>0.0</td>\n",
              "      <td>-0.409341</td>\n",
              "      <td>0.077624</td>\n",
              "      <td>-0.000026</td>\n",
              "      <td>4.404292e-21</td>\n",
              "      <td>545.64</td>\n",
              "      <td>265.34</td>\n",
              "      <td>19.82</td>\n",
              "      <td>30.99</td>\n",
              "      <td>15.9008</td>\n",
              "      <td>2788.51</td>\n",
              "      <td>-52.36</td>\n",
              "      <td>377.00</td>\n",
              "      <td>280.0</td>\n",
              "      <td>52.100</td>\n",
              "      <td>-5557.61</td>\n",
              "      <td>-5.072</td>\n",
              "      <td>3.610</td>\n",
              "      <td>7352.0</td>\n",
              "    </tr>\n",
              "    <tr>\n",
              "      <th>168</th>\n",
              "      <td>238</td>\n",
              "      <td>BROMOBENZENE</td>\n",
              "      <td>157.010</td>\n",
              "      <td>242.3</td>\n",
              "      <td>429.3</td>\n",
              "      <td>670.0</td>\n",
              "      <td>44.6</td>\n",
              "      <td>324.0</td>\n",
              "      <td>0.263</td>\n",
              "      <td>0.249</td>\n",
              "      <td>1.495</td>\n",
              "      <td>293.0</td>\n",
              "      <td>1.5</td>\n",
              "      <td>-6.880000</td>\n",
              "      <td>0.127800</td>\n",
              "      <td>-0.000097</td>\n",
              "      <td>2.894000e-08</td>\n",
              "      <td>508.18</td>\n",
              "      <td>302.42</td>\n",
              "      <td>25.10</td>\n",
              "      <td>33.11</td>\n",
              "      <td>15.7972</td>\n",
              "      <td>3313.00</td>\n",
              "      <td>-67.71</td>\n",
              "      <td>450.00</td>\n",
              "      <td>320.0</td>\n",
              "      <td>56.566</td>\n",
              "      <td>-7005.23</td>\n",
              "      <td>-5.548</td>\n",
              "      <td>5.590</td>\n",
              "      <td>0.0</td>\n",
              "    </tr>\n",
              "    <tr>\n",
              "      <th>182</th>\n",
              "      <td>239</td>\n",
              "      <td>CHLOROBENZENE</td>\n",
              "      <td>112.559</td>\n",
              "      <td>227.6</td>\n",
              "      <td>404.9</td>\n",
              "      <td>632.4</td>\n",
              "      <td>44.6</td>\n",
              "      <td>308.0</td>\n",
              "      <td>0.265</td>\n",
              "      <td>0.249</td>\n",
              "      <td>1.106</td>\n",
              "      <td>293.0</td>\n",
              "      <td>1.6</td>\n",
              "      <td>-8.094000</td>\n",
              "      <td>0.134500</td>\n",
              "      <td>-0.000108</td>\n",
              "      <td>3.407000e-08</td>\n",
              "      <td>477.76</td>\n",
              "      <td>276.22</td>\n",
              "      <td>12.39</td>\n",
              "      <td>23.70</td>\n",
              "      <td>16.0676</td>\n",
              "      <td>3295.12</td>\n",
              "      <td>-55.60</td>\n",
              "      <td>420.00</td>\n",
              "      <td>320.0</td>\n",
              "      <td>57.251</td>\n",
              "      <td>-6684.47</td>\n",
              "      <td>-5.686</td>\n",
              "      <td>4.980</td>\n",
              "      <td>8735.0</td>\n",
              "    </tr>\n",
              "    <tr>\n",
              "      <th>248</th>\n",
              "      <td>325</td>\n",
              "      <td>ETHYLBENZENE</td>\n",
              "      <td>106.168</td>\n",
              "      <td>178.2</td>\n",
              "      <td>409.3</td>\n",
              "      <td>617.1</td>\n",
              "      <td>35.6</td>\n",
              "      <td>374.0</td>\n",
              "      <td>0.263</td>\n",
              "      <td>0.301</td>\n",
              "      <td>0.867</td>\n",
              "      <td>293.0</td>\n",
              "      <td>0.4</td>\n",
              "      <td>-10.294000</td>\n",
              "      <td>0.168900</td>\n",
              "      <td>-0.000115</td>\n",
              "      <td>3.107000e-08</td>\n",
              "      <td>472.82</td>\n",
              "      <td>264.22</td>\n",
              "      <td>7.12</td>\n",
              "      <td>31.21</td>\n",
              "      <td>16.0195</td>\n",
              "      <td>3279.47</td>\n",
              "      <td>-59.95</td>\n",
              "      <td>450.00</td>\n",
              "      <td>300.0</td>\n",
              "      <td>58.100</td>\n",
              "      <td>-6792.54</td>\n",
              "      <td>-5.802</td>\n",
              "      <td>5.750</td>\n",
              "      <td>8500.0</td>\n",
              "    </tr>\n",
              "    <tr>\n",
              "      <th>257</th>\n",
              "      <td>240</td>\n",
              "      <td>FLUOROBENZENE</td>\n",
              "      <td>96.104</td>\n",
              "      <td>234.0</td>\n",
              "      <td>358.5</td>\n",
              "      <td>560.1</td>\n",
              "      <td>44.9</td>\n",
              "      <td>271.0</td>\n",
              "      <td>0.265</td>\n",
              "      <td>0.245</td>\n",
              "      <td>1.024</td>\n",
              "      <td>293.0</td>\n",
              "      <td>1.4</td>\n",
              "      <td>-9.250000</td>\n",
              "      <td>0.135400</td>\n",
              "      <td>-0.000106</td>\n",
              "      <td>3.237000e-08</td>\n",
              "      <td>452.06</td>\n",
              "      <td>252.89</td>\n",
              "      <td>-27.86</td>\n",
              "      <td>-16.50</td>\n",
              "      <td>16.5487</td>\n",
              "      <td>3181.78</td>\n",
              "      <td>-37.59</td>\n",
              "      <td>370.00</td>\n",
              "      <td>250.0</td>\n",
              "      <td>55.141</td>\n",
              "      <td>-5819.21</td>\n",
              "      <td>-5.489</td>\n",
              "      <td>3.880</td>\n",
              "      <td>0.0</td>\n",
              "    </tr>\n",
              "    <tr>\n",
              "      <th>273</th>\n",
              "      <td>241</td>\n",
              "      <td>IODOBENZENE</td>\n",
              "      <td>204.011</td>\n",
              "      <td>241.8</td>\n",
              "      <td>461.4</td>\n",
              "      <td>721.0</td>\n",
              "      <td>44.6</td>\n",
              "      <td>351.0</td>\n",
              "      <td>0.265</td>\n",
              "      <td>0.246</td>\n",
              "      <td>1.855</td>\n",
              "      <td>277.0</td>\n",
              "      <td>1.4</td>\n",
              "      <td>-6.992000</td>\n",
              "      <td>0.132900</td>\n",
              "      <td>-0.000108</td>\n",
              "      <td>3.447000e-08</td>\n",
              "      <td>565.72</td>\n",
              "      <td>331.21</td>\n",
              "      <td>38.85</td>\n",
              "      <td>44.88</td>\n",
              "      <td>16.1454</td>\n",
              "      <td>3776.53</td>\n",
              "      <td>-64.38</td>\n",
              "      <td>470.00</td>\n",
              "      <td>290.0</td>\n",
              "      <td>57.691</td>\n",
              "      <td>-7589.50</td>\n",
              "      <td>-5.646</td>\n",
              "      <td>6.460</td>\n",
              "      <td>9440.0</td>\n",
              "    </tr>\n",
              "    <tr>\n",
              "      <th>279</th>\n",
              "      <td>401</td>\n",
              "      <td>ISOBUTYLBENZENE</td>\n",
              "      <td>134.222</td>\n",
              "      <td>221.7</td>\n",
              "      <td>445.9</td>\n",
              "      <td>650.0</td>\n",
              "      <td>31.0</td>\n",
              "      <td>480.0</td>\n",
              "      <td>0.280</td>\n",
              "      <td>0.378</td>\n",
              "      <td>0.853</td>\n",
              "      <td>293.0</td>\n",
              "      <td>0.3</td>\n",
              "      <td>NaN</td>\n",
              "      <td>NaN</td>\n",
              "      <td>NaN</td>\n",
              "      <td>NaN</td>\n",
              "      <td>NaN</td>\n",
              "      <td>NaN</td>\n",
              "      <td>-5.15</td>\n",
              "      <td>0.00</td>\n",
              "      <td>15.9524</td>\n",
              "      <td>3512.47</td>\n",
              "      <td>-69.03</td>\n",
              "      <td>476.00</td>\n",
              "      <td>326.0</td>\n",
              "      <td>NaN</td>\n",
              "      <td>NaN</td>\n",
              "      <td>NaN</td>\n",
              "      <td>NaN</td>\n",
              "      <td>9040.0</td>\n",
              "    </tr>\n",
              "    <tr>\n",
              "      <th>287</th>\n",
              "      <td>379</td>\n",
              "      <td>ISOPROPYLBENZENE</td>\n",
              "      <td>120.195</td>\n",
              "      <td>177.1</td>\n",
              "      <td>425.6</td>\n",
              "      <td>631.0</td>\n",
              "      <td>31.7</td>\n",
              "      <td>428.0</td>\n",
              "      <td>0.260</td>\n",
              "      <td>0.335</td>\n",
              "      <td>0.862</td>\n",
              "      <td>293.0</td>\n",
              "      <td>0.4</td>\n",
              "      <td>-9.042000</td>\n",
              "      <td>0.187300</td>\n",
              "      <td>-0.000121</td>\n",
              "      <td>3.084000e-08</td>\n",
              "      <td>517.17</td>\n",
              "      <td>276.22</td>\n",
              "      <td>0.94</td>\n",
              "      <td>32.74</td>\n",
              "      <td>15.9722</td>\n",
              "      <td>3363.60</td>\n",
              "      <td>-63.37</td>\n",
              "      <td>454.00</td>\n",
              "      <td>311.0</td>\n",
              "      <td>46.941</td>\n",
              "      <td>-6285.25</td>\n",
              "      <td>-4.227</td>\n",
              "      <td>6.860</td>\n",
              "      <td>8970.0</td>\n",
              "    </tr>\n",
              "    <tr>\n",
              "      <th>294</th>\n",
              "      <td>236</td>\n",
              "      <td>M-DICHLOROBENZENE</td>\n",
              "      <td>147.004</td>\n",
              "      <td>248.4</td>\n",
              "      <td>446.0</td>\n",
              "      <td>684.0</td>\n",
              "      <td>38.0</td>\n",
              "      <td>359.0</td>\n",
              "      <td>0.240</td>\n",
              "      <td>0.260</td>\n",
              "      <td>1.288</td>\n",
              "      <td>293.0</td>\n",
              "      <td>1.4</td>\n",
              "      <td>-3.246000</td>\n",
              "      <td>0.131200</td>\n",
              "      <td>-0.000108</td>\n",
              "      <td>3.408000e-08</td>\n",
              "      <td>402.20</td>\n",
              "      <td>300.89</td>\n",
              "      <td>6.32</td>\n",
              "      <td>18.78</td>\n",
              "      <td>16.8173</td>\n",
              "      <td>4104.13</td>\n",
              "      <td>-43.15</td>\n",
              "      <td>475.00</td>\n",
              "      <td>326.0</td>\n",
              "      <td>NaN</td>\n",
              "      <td>NaN</td>\n",
              "      <td>NaN</td>\n",
              "      <td>NaN</td>\n",
              "      <td>9230.0</td>\n",
              "    </tr>\n",
              "    <tr>\n",
              "      <th>338</th>\n",
              "      <td>400</td>\n",
              "      <td>N-BUTYLBENZENE</td>\n",
              "      <td>134.222</td>\n",
              "      <td>185.2</td>\n",
              "      <td>456.4</td>\n",
              "      <td>660.5</td>\n",
              "      <td>28.5</td>\n",
              "      <td>497.0</td>\n",
              "      <td>0.261</td>\n",
              "      <td>0.392</td>\n",
              "      <td>0.860</td>\n",
              "      <td>293.0</td>\n",
              "      <td>0.4</td>\n",
              "      <td>-5.491000</td>\n",
              "      <td>0.189500</td>\n",
              "      <td>-0.000105</td>\n",
              "      <td>2.047000e-08</td>\n",
              "      <td>563.84</td>\n",
              "      <td>296.01</td>\n",
              "      <td>-3.30</td>\n",
              "      <td>34.58</td>\n",
              "      <td>16.0793</td>\n",
              "      <td>3633.40</td>\n",
              "      <td>-71.77</td>\n",
              "      <td>486.00</td>\n",
              "      <td>335.0</td>\n",
              "      <td>NaN</td>\n",
              "      <td>NaN</td>\n",
              "      <td>NaN</td>\n",
              "      <td>NaN</td>\n",
              "      <td>9380.0</td>\n",
              "    </tr>\n",
              "    <tr>\n",
              "      <th>376</th>\n",
              "      <td>378</td>\n",
              "      <td>N-PROPYLBENZENE</td>\n",
              "      <td>120.195</td>\n",
              "      <td>173.7</td>\n",
              "      <td>432.4</td>\n",
              "      <td>638.3</td>\n",
              "      <td>31.6</td>\n",
              "      <td>440.0</td>\n",
              "      <td>0.265</td>\n",
              "      <td>0.344</td>\n",
              "      <td>0.862</td>\n",
              "      <td>293.0</td>\n",
              "      <td>0.4</td>\n",
              "      <td>-7.473000</td>\n",
              "      <td>0.178800</td>\n",
              "      <td>-0.000110</td>\n",
              "      <td>2.582000e-08</td>\n",
              "      <td>527.45</td>\n",
              "      <td>282.65</td>\n",
              "      <td>1.87</td>\n",
              "      <td>32.80</td>\n",
              "      <td>16.0062</td>\n",
              "      <td>3433.84</td>\n",
              "      <td>-66.01</td>\n",
              "      <td>461.00</td>\n",
              "      <td>316.0</td>\n",
              "      <td>NaN</td>\n",
              "      <td>NaN</td>\n",
              "      <td>NaN</td>\n",
              "      <td>NaN</td>\n",
              "      <td>9140.0</td>\n",
              "    </tr>\n",
              "    <tr>\n",
              "      <th>386</th>\n",
              "      <td>235</td>\n",
              "      <td>O-DICHLOROBENZENE</td>\n",
              "      <td>147.004</td>\n",
              "      <td>256.1</td>\n",
              "      <td>453.6</td>\n",
              "      <td>697.3</td>\n",
              "      <td>40.5</td>\n",
              "      <td>360.0</td>\n",
              "      <td>0.225</td>\n",
              "      <td>0.272</td>\n",
              "      <td>1.306</td>\n",
              "      <td>293.0</td>\n",
              "      <td>2.3</td>\n",
              "      <td>-3.416000</td>\n",
              "      <td>0.131500</td>\n",
              "      <td>-0.000108</td>\n",
              "      <td>3.414000e-08</td>\n",
              "      <td>554.35</td>\n",
              "      <td>319.07</td>\n",
              "      <td>7.16</td>\n",
              "      <td>19.76</td>\n",
              "      <td>16.2799</td>\n",
              "      <td>3798.23</td>\n",
              "      <td>-59.84</td>\n",
              "      <td>483.00</td>\n",
              "      <td>331.0</td>\n",
              "      <td>NaN</td>\n",
              "      <td>NaN</td>\n",
              "      <td>NaN</td>\n",
              "      <td>NaN</td>\n",
              "      <td>9480.0</td>\n",
              "    </tr>\n",
              "    <tr>\n",
              "      <th>394</th>\n",
              "      <td>237</td>\n",
              "      <td>P-DICLOROBENZENE</td>\n",
              "      <td>147.004</td>\n",
              "      <td>326.3</td>\n",
              "      <td>447.3</td>\n",
              "      <td>685.0</td>\n",
              "      <td>39.0</td>\n",
              "      <td>372.0</td>\n",
              "      <td>0.260</td>\n",
              "      <td>0.270</td>\n",
              "      <td>1.248</td>\n",
              "      <td>328.0</td>\n",
              "      <td>0.0</td>\n",
              "      <td>-3.426000</td>\n",
              "      <td>0.132200</td>\n",
              "      <td>-0.000109</td>\n",
              "      <td>3.458000e-08</td>\n",
              "      <td>483.82</td>\n",
              "      <td>312.03</td>\n",
              "      <td>5.50</td>\n",
              "      <td>18.44</td>\n",
              "      <td>16.1135</td>\n",
              "      <td>3626.83</td>\n",
              "      <td>-64.64</td>\n",
              "      <td>477.00</td>\n",
              "      <td>326.0</td>\n",
              "      <td>NaN</td>\n",
              "      <td>NaN</td>\n",
              "      <td>NaN</td>\n",
              "      <td>NaN</td>\n",
              "      <td>9270.0</td>\n",
              "    </tr>\n",
              "    <tr>\n",
              "      <th>395</th>\n",
              "      <td>232</td>\n",
              "      <td>PERFLUOROBENZENE</td>\n",
              "      <td>186.056</td>\n",
              "      <td>NaN</td>\n",
              "      <td>353.4</td>\n",
              "      <td>516.7</td>\n",
              "      <td>32.6</td>\n",
              "      <td>NaN</td>\n",
              "      <td>NaN</td>\n",
              "      <td>0.400</td>\n",
              "      <td>NaN</td>\n",
              "      <td>0.0</td>\n",
              "      <td>0.0</td>\n",
              "      <td>8.660000</td>\n",
              "      <td>0.125800</td>\n",
              "      <td>-0.000109</td>\n",
              "      <td>3.477000e-08</td>\n",
              "      <td>NaN</td>\n",
              "      <td>NaN</td>\n",
              "      <td>-228.64</td>\n",
              "      <td>-210.18</td>\n",
              "      <td>16.1940</td>\n",
              "      <td>2827.53</td>\n",
              "      <td>-57.66</td>\n",
              "      <td>390.00</td>\n",
              "      <td>270.0</td>\n",
              "      <td>74.686</td>\n",
              "      <td>-6815.04</td>\n",
              "      <td>-8.318</td>\n",
              "      <td>5.310</td>\n",
              "      <td>0.0</td>\n",
              "    </tr>\n",
              "    <tr>\n",
              "      <th>424</th>\n",
              "      <td>402</td>\n",
              "      <td>SEC-BUTYLBENZENE</td>\n",
              "      <td>134.222</td>\n",
              "      <td>197.7</td>\n",
              "      <td>446.5</td>\n",
              "      <td>664.0</td>\n",
              "      <td>29.1</td>\n",
              "      <td>NaN</td>\n",
              "      <td>NaN</td>\n",
              "      <td>0.274</td>\n",
              "      <td>0.862</td>\n",
              "      <td>293.0</td>\n",
              "      <td>0.4</td>\n",
              "      <td>-15.560000</td>\n",
              "      <td>0.236300</td>\n",
              "      <td>-0.000172</td>\n",
              "      <td>5.140000e-08</td>\n",
              "      <td>582.66</td>\n",
              "      <td>295.82</td>\n",
              "      <td>-4.17</td>\n",
              "      <td>0.00</td>\n",
              "      <td>15.9999</td>\n",
              "      <td>3544.19</td>\n",
              "      <td>-68.10</td>\n",
              "      <td>476.00</td>\n",
              "      <td>325.0</td>\n",
              "      <td>NaN</td>\n",
              "      <td>NaN</td>\n",
              "      <td>NaN</td>\n",
              "      <td>NaN</td>\n",
              "      <td>9070.0</td>\n",
              "    </tr>\n",
              "    <tr>\n",
              "      <th>435</th>\n",
              "      <td>403</td>\n",
              "      <td>TERT-BUTYLBENZENE</td>\n",
              "      <td>134.222</td>\n",
              "      <td>215.3</td>\n",
              "      <td>442.3</td>\n",
              "      <td>660.0</td>\n",
              "      <td>29.3</td>\n",
              "      <td>NaN</td>\n",
              "      <td>NaN</td>\n",
              "      <td>0.265</td>\n",
              "      <td>0.867</td>\n",
              "      <td>293.0</td>\n",
              "      <td>0.5</td>\n",
              "      <td>-20.541000</td>\n",
              "      <td>0.263200</td>\n",
              "      <td>-0.000209</td>\n",
              "      <td>6.751000e-08</td>\n",
              "      <td>NaN</td>\n",
              "      <td>NaN</td>\n",
              "      <td>-5.42</td>\n",
              "      <td>0.00</td>\n",
              "      <td>15.9300</td>\n",
              "      <td>3462.28</td>\n",
              "      <td>-69.87</td>\n",
              "      <td>472.00</td>\n",
              "      <td>323.0</td>\n",
              "      <td>NaN</td>\n",
              "      <td>NaN</td>\n",
              "      <td>NaN</td>\n",
              "      <td>NaN</td>\n",
              "      <td>8990.0</td>\n",
              "    </tr>\n",
              "  </tbody>\n",
              "</table>\n",
              "</div>"
            ],
            "text/plain": [
              "     num                         name  ...  pvap_h_d  delta_h_vap_bp\n",
              "14   383       1,2,3-TRIMETHYLBENZENE  ...       NaN          9570.0\n",
              "16   384       1,2,4-TRIMETHYLBENZENE  ...     7.270          9380.0\n",
              "24   385       1,3,5-TRIMETHYLBENZENE  ...     7.220          9330.0\n",
              "28   407           1,4-DIETHYLBENZENE  ...       NaN          9410.0\n",
              "45   380      1-METHYL-2-ETHYLBENZENE  ...     7.180          9290.0\n",
              "46   404  1-METHYL-2-ISOPROPYLBENZENE  ...       NaN             0.0\n",
              "47   405  1-METHYL-2-ISOPROPYLBENZENE  ...     8.390          9110.0\n",
              "48   381      1-METHYL-3-ETHYLBENZENE  ...    -6.815             7.2\n",
              "49   382      1-METHYL-4-ETHYLBENZENE  ...     7.230          9180.0\n",
              "50   406  1-METHYL-4-ISOPROPYLBENZENE  ...     8.410             0.0\n",
              "161  242                      BENZENE  ...     3.610          7352.0\n",
              "168  238                 BROMOBENZENE  ...     5.590             0.0\n",
              "182  239               CHLOROBENZENE   ...     4.980          8735.0\n",
              "248  325                 ETHYLBENZENE  ...     5.750          8500.0\n",
              "257  240                FLUOROBENZENE  ...     3.880             0.0\n",
              "273  241                  IODOBENZENE  ...     6.460          9440.0\n",
              "279  401              ISOBUTYLBENZENE  ...       NaN          9040.0\n",
              "287  379             ISOPROPYLBENZENE  ...     6.860          8970.0\n",
              "294  236            M-DICHLOROBENZENE  ...       NaN          9230.0\n",
              "338  400               N-BUTYLBENZENE  ...       NaN          9380.0\n",
              "376  378              N-PROPYLBENZENE  ...       NaN          9140.0\n",
              "386  235            O-DICHLOROBENZENE  ...       NaN          9480.0\n",
              "394  237             P-DICLOROBENZENE  ...       NaN          9270.0\n",
              "395  232             PERFLUOROBENZENE  ...     5.310             0.0\n",
              "424  402             SEC-BUTYLBENZENE  ...       NaN          9070.0\n",
              "435  403            TERT-BUTYLBENZENE  ...       NaN          8990.0\n",
              "\n",
              "[26 rows x 31 columns]"
            ]
          },
          "metadata": {},
          "execution_count": 4
        }
      ]
    },
    {
      "cell_type": "code",
      "metadata": {
        "colab": {
          "base_uri": "https://localhost:8080/",
          "height": 117
        },
        "id": "W3rFFl3UdD3h",
        "outputId": "214edb07-8ce4-4a6e-ab79-ec3e2c300337"
      },
      "source": [
        "# Buscando o segundo componente: \n",
        "filtro2 = dados.name.str.contains('TOLUENE')\n",
        "dados[filtro2]"
      ],
      "execution_count": null,
      "outputs": [
        {
          "output_type": "execute_result",
          "data": {
            "text/html": [
              "<div>\n",
              "<style scoped>\n",
              "    .dataframe tbody tr th:only-of-type {\n",
              "        vertical-align: middle;\n",
              "    }\n",
              "\n",
              "    .dataframe tbody tr th {\n",
              "        vertical-align: top;\n",
              "    }\n",
              "\n",
              "    .dataframe thead th {\n",
              "        text-align: right;\n",
              "    }\n",
              "</style>\n",
              "<table border=\"1\" class=\"dataframe\">\n",
              "  <thead>\n",
              "    <tr style=\"text-align: right;\">\n",
              "      <th></th>\n",
              "      <th>num</th>\n",
              "      <th>name</th>\n",
              "      <th>molar_mass</th>\n",
              "      <th>fusion_point</th>\n",
              "      <th>boiling_point</th>\n",
              "      <th>critical_temp</th>\n",
              "      <th>critical_pressure</th>\n",
              "      <th>critical_volume</th>\n",
              "      <th>zc</th>\n",
              "      <th>acentric_factor</th>\n",
              "      <th>liq_density</th>\n",
              "      <th>temp_ref_liq_density</th>\n",
              "      <th>dipole_moment</th>\n",
              "      <th>cp_a</th>\n",
              "      <th>cp_b</th>\n",
              "      <th>cp_c</th>\n",
              "      <th>cp_d</th>\n",
              "      <th>visc_b</th>\n",
              "      <th>visc_c</th>\n",
              "      <th>delta_h0f_gas</th>\n",
              "      <th>delta_g0f_gas</th>\n",
              "      <th>pvap_a</th>\n",
              "      <th>pvap_b</th>\n",
              "      <th>pvap_c</th>\n",
              "      <th>temp_max_pvap</th>\n",
              "      <th>temp_min_pvap</th>\n",
              "      <th>pvap_h_a</th>\n",
              "      <th>pvap_h_b</th>\n",
              "      <th>pvap_h_c</th>\n",
              "      <th>pvap_h_d</th>\n",
              "      <th>delta_h_vap_bp</th>\n",
              "    </tr>\n",
              "  </thead>\n",
              "  <tbody>\n",
              "    <tr>\n",
              "      <th>440</th>\n",
              "      <td>286</td>\n",
              "      <td>TOLUENE</td>\n",
              "      <td>92.141</td>\n",
              "      <td>178.0</td>\n",
              "      <td>383.8</td>\n",
              "      <td>591.7</td>\n",
              "      <td>40.6</td>\n",
              "      <td>316.0</td>\n",
              "      <td>0.264</td>\n",
              "      <td>0.257</td>\n",
              "      <td>0.867</td>\n",
              "      <td>293.0</td>\n",
              "      <td>0.4</td>\n",
              "      <td>-5.817</td>\n",
              "      <td>0.1224</td>\n",
              "      <td>-0.000066</td>\n",
              "      <td>1.173000e-08</td>\n",
              "      <td>467.33</td>\n",
              "      <td>255.24</td>\n",
              "      <td>11.95</td>\n",
              "      <td>29.16</td>\n",
              "      <td>16.0137</td>\n",
              "      <td>3096.52</td>\n",
              "      <td>-53.67</td>\n",
              "      <td>410.0</td>\n",
              "      <td>280.0</td>\n",
              "      <td>56.785</td>\n",
              "      <td>-6283.5</td>\n",
              "      <td>-5.681</td>\n",
              "      <td>4.84</td>\n",
              "      <td>7930.0</td>\n",
              "    </tr>\n",
              "  </tbody>\n",
              "</table>\n",
              "</div>"
            ],
            "text/plain": [
              "     num     name  molar_mass  ...  pvap_h_c  pvap_h_d  delta_h_vap_bp\n",
              "440  286  TOLUENE      92.141  ...    -5.681      4.84          7930.0\n",
              "\n",
              "[1 rows x 31 columns]"
            ]
          },
          "metadata": {},
          "execution_count": 5
        }
      ]
    },
    {
      "cell_type": "markdown",
      "metadata": {
        "id": "9TIMw1Vudayg"
      },
      "source": [
        "Logo, pela pesquisa, sabemos que o número dos componentes desejados no banco de dados são 242 e 286.\n"
      ]
    },
    {
      "cell_type": "code",
      "metadata": {
        "colab": {
          "base_uri": "https://localhost:8080/"
        },
        "id": "iI04JAm0dh5z",
        "outputId": "6de4c640-8732-41a0-b194-2f006c9b347f"
      },
      "source": [
        "# O comprimento da lista será o número de componentes\n",
        "lista_componentes = [ 242, 286]\n",
        "nc = len(lista_componentes)\n",
        "nc"
      ],
      "execution_count": null,
      "outputs": [
        {
          "output_type": "execute_result",
          "data": {
            "text/plain": [
              "2"
            ]
          },
          "metadata": {},
          "execution_count": 6
        }
      ]
    },
    {
      "cell_type": "code",
      "metadata": {
        "colab": {
          "base_uri": "https://localhost:8080/"
        },
        "id": "paOKg2zQstqT",
        "outputId": "277cc1e1-4e19-45ff-d676-67bcdb4ab541"
      },
      "source": [
        "# Encontrando as temperaturas de ebulição dos dois componenetes: \n",
        "T_eb_comp = dados[dados['num'].isin(lista_componentes)]['boiling_point']\n",
        "T_eb_comp = T_eb_comp.tolist()\n",
        "T_eb_comp"
      ],
      "execution_count": null,
      "outputs": [
        {
          "output_type": "execute_result",
          "data": {
            "text/plain": [
              "[353.3, 383.8]"
            ]
          },
          "metadata": {},
          "execution_count": 7
        }
      ]
    },
    {
      "cell_type": "code",
      "metadata": {
        "id": "EEUzXboVsfU1"
      },
      "source": [
        "# Declarando a composição e as condições dadas:\n",
        "\n",
        "z = [0.5,0.5]\n",
        "FD = 0.6\n",
        "FR = 0.4\n"
      ],
      "execution_count": null,
      "outputs": []
    },
    {
      "cell_type": "markdown",
      "metadata": {
        "id": "ogyvuTm1sxkh"
      },
      "source": [
        "De acordo com o material de referência (OU3_texto05_v01_Dest_Batelada) o primeiro passo é calcular o alfa médio.\n",
        "O alfa médio será calculado através da equação a seguir (1) para uma faixa de temperatura entre os pontos de ebulição dos componenetrs.\n",
        "\n",
        "![1.png](data:image/png;base64,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)"
      ]
    },
    {
      "cell_type": "markdown",
      "metadata": {
        "id": "9FxGtnPRt05v"
      },
      "source": [
        "Iremos calcular as pressões de vapor através da equação de Antoine."
      ]
    },
    {
      "cell_type": "code",
      "metadata": {
        "colab": {
          "base_uri": "https://localhost:8080/"
        },
        "id": "k2FP6eY1uH9N",
        "outputId": "cbb7ebb2-628a-4134-e1d5-1383739e0246"
      },
      "source": [
        "# Faixa de temperatura:\n",
        "T_ant = np.linspace(T_eb_comp[0],T_eb_comp[1],20)\n",
        "T_ant"
      ],
      "execution_count": null,
      "outputs": [
        {
          "output_type": "execute_result",
          "data": {
            "text/plain": [
              "array([353.3       , 354.90526316, 356.51052632, 358.11578947,\n",
              "       359.72105263, 361.32631579, 362.93157895, 364.53684211,\n",
              "       366.14210526, 367.74736842, 369.35263158, 370.95789474,\n",
              "       372.56315789, 374.16842105, 375.77368421, 377.37894737,\n",
              "       378.98421053, 380.58947368, 382.19473684, 383.8       ])"
            ]
          },
          "metadata": {},
          "execution_count": 9
        }
      ]
    },
    {
      "cell_type": "code",
      "metadata": {
        "colab": {
          "base_uri": "https://localhost:8080/"
        },
        "id": "9s4Ef5rGuiM-",
        "outputId": "30cf99a1-343c-489c-bddd-2b5eb13066c5"
      },
      "source": [
        "# Calculando as pressões de vapor para o hexano:\n",
        "P_vap_hex = f_Pvap_Antoine_db(T_ant,lista_componentes[0],dados)\n",
        "P_vap_hex = np.array(P_vap_hex[0])\n",
        "P_vap_hex"
      ],
      "execution_count": null,
      "outputs": [
        {
          "output_type": "execute_result",
          "data": {
            "text/plain": [
              "array([ 761.1269264 ,  799.48217883,  839.3345605 ,  880.72351513,\n",
              "        923.68889256,  968.27093797, 1014.51028083, 1062.44792377,\n",
              "       1112.12523129, 1163.58391828, 1216.86603851, 1272.0139729 ,\n",
              "       1329.07041783, 1388.0783732 , 1449.08113055, 1512.12226101,\n",
              "       1577.24560327, 1644.49525141, 1713.91554282, 1785.55104594])"
            ]
          },
          "metadata": {},
          "execution_count": 10
        }
      ]
    },
    {
      "cell_type": "code",
      "metadata": {
        "colab": {
          "base_uri": "https://localhost:8080/"
        },
        "id": "IS0xB8dousr7",
        "outputId": "6d4f22c3-dad0-4dc8-c81b-2e9a4d47815e"
      },
      "source": [
        "# Calculando as pressões de vapor para o tolueno:\n",
        "P_vap_tol = f_Pvap_Antoine_db(T_ant,lista_componentes[1],dados)\n",
        "P_vap_tol = np.array(P_vap_tol[0])\n",
        "P_vap_tol\n"
      ],
      "execution_count": null,
      "outputs": [
        {
          "output_type": "execute_result",
          "data": {
            "text/plain": [
              "array([292.72125527, 309.29409177, 326.6144782 , 344.70667583,\n",
              "       363.5953638 , 383.3056357 , 403.86299589, 425.2933556 ,\n",
              "       447.62302877, 470.87872777, 495.0875588 , 520.27701715,\n",
              "       546.47498224, 573.70971245, 602.00983982, 631.40436448,\n",
              "       661.92264897, 693.5944124 , 726.44972439, 760.5189989 ])"
            ]
          },
          "metadata": {},
          "execution_count": 11
        }
      ]
    },
    {
      "cell_type": "code",
      "metadata": {
        "colab": {
          "base_uri": "https://localhost:8080/"
        },
        "id": "cqDHkVLju1FT",
        "outputId": "136b85da-68c5-43db-ff85-423e726b7047"
      },
      "source": [
        "# Cálculo do alfa através da equação 1:\n",
        "alfa = P_vap_hex/P_vap_tol\n",
        "alfa"
      ],
      "execution_count": null,
      "outputs": [
        {
          "output_type": "execute_result",
          "data": {
            "text/plain": [
              "array([2.60017649, 2.58486082, 2.56980206, 2.55499408, 2.54043089,\n",
              "       2.52610671, 2.51201593, 2.49815312, 2.48451299, 2.47109043,\n",
              "       2.45788046, 2.44487827, 2.43207916, 2.4194786 , 2.40707217,\n",
              "       2.39485557, 2.38282465, 2.37097535, 2.35930373, 2.34780597])"
            ]
          },
          "metadata": {},
          "execution_count": 12
        }
      ]
    },
    {
      "cell_type": "code",
      "metadata": {
        "colab": {
          "base_uri": "https://localhost:8080/"
        },
        "id": "FipT_Ft8xOmc",
        "outputId": "5187fb75-f839-499e-d38c-e5d8248ac9ef"
      },
      "source": [
        "# Calculo do alfa médio:\n",
        "\n",
        "alfa_medio = (alfa[0]+alfa[-1])/2\n",
        "alfa_medio "
      ],
      "execution_count": null,
      "outputs": [
        {
          "output_type": "execute_result",
          "data": {
            "text/plain": [
              "2.4739912305625036"
            ]
          },
          "metadata": {},
          "execution_count": 13
        }
      ]
    },
    {
      "cell_type": "code",
      "metadata": {
        "colab": {
          "base_uri": "https://localhost:8080/",
          "height": 514
        },
        "id": "BJ58cUkxvRNS",
        "outputId": "590d7acf-121b-40e6-b4c5-b129d09d49a3"
      },
      "source": [
        "# Plotando o gráfico para determinar o alfa médio:\n",
        "\n",
        "fig1, ax1 = plt.subplots(figsize =(8,8))\n",
        "ax1.plot(T_ant,alfa,label='alpha(T)')\n",
        "# Adicionando texto nos eixos - descrição\n",
        "ax1.set_xlabel('Temperatura [k]')\n",
        "ax1.set_ylabel('alpha')\n",
        "ax1.hlines(alfa_medio,340,400, colors='r', linestyles='dashed', label = 'Alpha médio')\n",
        "ax1.grid()\n",
        "ax1.legend()"
      ],
      "execution_count": null,
      "outputs": [
        {
          "output_type": "execute_result",
          "data": {
            "text/plain": [
              "<matplotlib.legend.Legend at 0x7ff1c0e3f8d0>"
            ]
          },
          "metadata": {},
          "execution_count": 14
        },
        {
          "output_type": "display_data",
          "data": {
            "image/png": "[encoded data removed]",
            "text/plain": [
              "<Figure size 576x576 with 1 Axes>"
            ]
          },
          "metadata": {
            "needs_background": "light"
          }
        }
      ]
    },
    {
      "cell_type": "markdown",
      "metadata": {
        "id": "u9IePXcBzBSo"
      },
      "source": [
        "De posse do alfa médio (2.47), podemos lançar mão da equação 38 do material para estimar a fração molar de hexano residual no refervedor.\n",
        "\n",
        "![1.png](data:image/png;base64,iVBORw0KGgoAAAANSUhEUgAAArcAAABNCAYAAAC8C0whAAAAAXNSR0IArs4c6QAAAARnQU1BAACxjwv8YQUAAAAJcEhZcwAADsMAAA7DAcdvqGQAAEULSURBVHhe7d0JvG7V+Afwnfib53nKTIZEhkpI5Jak1DU1dxspzUqiyC1SXZQoFHVVCJcMuYUGpVGGyDzPU8k85vzPd+nJtu13v9N+h3vO+n0++/Oe8757WMMz/NaznrX2SjOzKDIyMjIyMjIyMjLmAG5yw2dGRkZGRkZGRkbGCo9MbjMyMjIyMjIyMuYMclpCxgqBqpiutNJKN/yVkZGRMb/BPjrYxWwbM9oAefrXv/6VPm9yk5ukow7l82DllVeeChnM5DZjqkE8r7/++uJvf/tb8ctf/rK4wx3uUNzxjnfMBrwFaNvcjhkZ041e9PTPf/5z8ZOf/KS45z3vWdz85jcvbnazm8073dZO//znP4u//vWvxV/+8pfi73//e/r+pje9aTog/InjVre6VXGb29wm/baitJXyRz1Bucuk09/D1gVR1X7XXXdd8b3vfa/4/e9/X9znPvcp7nvf+xa3u93t/qstyd0f//jHJHvOJ3v3vve9izvf+c7FrW9961bKMygyuc2YajBC11xzTfHRj340Kdree+9d3OUud+k4iszoDdRe24ZxXFGMe0bGfAIdpavdomEIxkknnZTO3WyzzYp73eteieDOJyB83/zmN4tly5al41vf+lb6/u53v3txv/vdL7UhAvab3/ym+O1vf1tsuummxetf//riHve4R/ptRQDiiVD+9Kc/TbJxpzvdqbjFLW5R/OlPf0pk/fa3v/1QvpH8ILYXXnhhcfTRRxeXXXZZGiTc7W53K3bYYYfkfz0DtPd5551XHHXUUUn+1lhjjeL73/9+8YMf/KDYa6+9ii233PJGgjsJrPyaWdzwd0bGVIGSIbTvec97ilve8pbFVlttlYjttEx7rIgI4/i1r32tuPjii1N7il6Mqz0ZT8c09J+2gCxL04Fpko1Ro1fZ++EPf5j0FMFAFDpFZBGIBz/4wYm0nX322YnwmOUSSZtPQLwe9rCHJfJ3+eWXp3Zbb731ite97nXFC17wgmLhwoXFk570pEQGnfuUpzwl2b8VJVgiQnrccccVixcvLk4//fTirLPOKi644ILi85//fPHIRz4ykd1h6sI3fOELXyi++MUvpvs99KEPTW0pwPSNb3wjte3973//dK7zDA58f9BBBxUvetGLEsH9xCc+UXzlK18pVllllXRuRHrHjRz+ypg6cHBGhUaA73znO9NUyEYbbZSmRubjdFtb0KYGDJ/97GeLj3/848Vtb3vbZNjHgZjq4nwNWMK5TwqiHt/97ndTJMc05qTLM18Rum7qkxP93e9+l76byyBr6vqrX/0qkQmy2An008D+wx/+cPG5z30utVPd+QiE6NrTnva0YvXVVy+WLl2aCIZ0rrnengGkDpk3JS51LUieNhSdNV0ugvvkJz+5eOlLX5qIG19S9SfaSxvrp2g7n9W/y99B3XeB+L563zr4zTnOrZ5HbvjF1VZbLdWLDbv00ktTkAKx7aUuTSAvzhVI2nnnnYsDDjggRWD/7//+L9nK73znO0lf//GPfyRS/eUvfzldQ/buete7JvJr1gAJv+iii9K5k0ImtxlTB8rFyZ155pnJWG277bbJMGUMB9GK5cuXF6eeemqx/vrrF894xjNSNGjUgwVGlQG86qqrimOPPTZNHTKOkwSje/XVV6coyNe//vVUnl6Mf0a7oOucJpk87bTT0gDId3MZyAZie/zxx6eBpjp3kj2kBRnbZJNNUkTsk5/8ZBqMdTofwVmwYEHx2Mc+NhFiJMPz5jvCBok2XnvttSnKbRBQjSrGeWylgQc74TsR4GhH8unvOPwf3zk/viujfF+H+9X1oe/YIs+O88r3esQjHlEceeSRxdve9rYUoCAP55xzTvHyl788kctyekWUO57Zi801KBDNlsqB0BpYaScDBsGQRz/60el79xbNjTqZLaDHoP58ivMmiZyWkDF1oJCURf7O1ltvnRZJTGpqYy6AceRA5Ucht0bkRv6mLsdBbDlyzzW9+sxnPrN4whOekJ7d1lRgOIn47KVOzhFhUA4OgmHmHOStjbpNMv7dVzHAOPnkk9PszPOe97zUB3R9LveBukkZIH/nn39+GlwhE9qgWm//0xO/IRcf+9jHkoyKlJHdKuJ8kUqRW1E+5ATRmMttWga5EuV2IFoImdSEP/zhD8UVV1yR2l37mTZH3sgbefQ7omh9h2n5Sy65JMmn6KhAC+JnsKFdP/CBD6S++NKXvpT6BsEzOEM45as6Tx/Dz372szSIEWGVPnDGGWekv13nnCCB8la/+tWvpt9FPflAn/pZefWroA+C7j6e/elPfzrdy4xmOc/aAEj95R773bmu4Vvdq5OO+S4O7eh573vf+5Ic8cXPfe5zk/xpr1//+tcpJ9ds3I9+9KPU1g6Dqgc96EHFTjvtlNp4UvnMmdxmTBUolJH129/+9mKdddZJR05FGA7a9Nvf/nYy2qYtn/rUp6aI7aiBVDPYn/rUp5LB32KLLYpHPepRyai3RWyBwRahku5QjV50gudzGuGEGGTfMcZZ3kYPMskhitgidvL19N0o217kyqGfJ9m/no3QyPk0TW7QiQAhBHWDvvL5/v7Qhz5UPOQhD0nt5v9qXVxvylobk2vkFjGbLwEC9S6TW1PlBtRycBG8xz/+8UnvtWms30BskVU5pGRkgw02SL+TT20or5QvesADHpAWpBmQWQtimt79pMwhge9+97vTc+T16k/3EqFHjh/+8IenftPf73//+9N99I2ysJUIqMVZCLXoqWcizM574hOfmGYxRe/f9KY3JSLLlgoAeabcbPciE+pvluxVr3pVKp+AAt1CmpH3VVddNZ0XRLgO7oHUv/e9701tgCy7h3Y0yNJuPn/84x+nZ4jimpGTpqDddt9991QH8lyVz3EhpyVkTBUokREz5XrMYx6TFGVSyjFXYOpIpMGIXTrCuBaZMOwMtv5EbC1QGAWptkWcaTqGHtHtB8ojsmOhCaejvMqdMTqI+ph25ZS1v/w+A4xRR3gMmhEQUfrqtPEkwLYhRVahIwhmN+hqJ2gjKQemiMmqaGHMVlShLc3OIFMigMjbfIT2Eencf//900p/g/w60PtjjjkmDZIROKkg6667buofea78kXtpVylyIuPhlwwaDB4snirbVtfoV0TY/ZFUaQVBekVULex1X7nUyKd+5fc83wF2fTBw//nPf54IOAKJACO4iLVyiP6bGXPfX/ziF8keXnnllamsiPZaa62Vyqccb3nLW1I9O0F5IvKLlCOuBl98iLQy/yPG6rHPPvskn0KW2WFlM0souqstJum7M7nNmCpwQBLVRRfLBiRjMDBSDDojy8CJ6IyjTRl2fSnKJKLA0bY9UInIsKlGRnuQiLDyKJdVvsg3A478KH/GaIBonXvuuckZWigqItlvv/UDcoIImkFgWyYduQ0oA2KEQD396U9PJBSJobN1UG6RMFPDyIbIXpOcBhk2xY6gzUdoYwvHdtxxxzTANsAvI4icaKupd6TNOdqZXagGAtyvTn7qvkeEyTa78sAHPjDlQxvUkX8yaSBuMKMPzWIg4b7Tb+y06PEhhxxS7LnnnilK617ug6Qitu6BMPtEamOww9brc1Fr91EX9ZCC4VlSHzqR/IBzDfhPPPHEtK2XPW6VDSHXTu6NkEvRYC+lfYgIgyDDW9/61kSu+w02tIlMbjOmCkaUpjrWXHPNNPqbJlBoo1KkrSlqMk1Qzs985jNpOs0iCga3aphHAe0kFcHz11577dYJjLbXH7HqnFMaNN1Bm3A8IiX6Vrk7EYyM4aDf9JncRMSWsx6lTHoe5++ZnC0SUEdO2sAg9kFZ2LnHPe5xKSXmIx/5SCINnYAMi/6RV5G1JnKL0CBW6opwaIf5CJFuA3trDURFw0boL+QS4UTYkE7tqz+0mfMGsScB11ovcuCBBxYve9nLEmk95ZRTErkMuYzDYIUd870yKQcCi1guWrQoBXr0ubxXhJetokNycl0f9wORW9FV/yPo9EtZfPqOfBpYdoK6O1d5EdZddtklEW02Vg6uHFtyJ6ggQiwlYr/99kuRccQboUXURX0nOQuWyW3G1ICCIraMsumUppygcYNRYPxECPfdd98U4WMce3FgkwRDx9CIDJk6GxcMUkyhbbzxxmnU3za0O6ckQiHSwogPS6ARrWc961lp70hTgBntQp/RmYjoxB6jo4RnIpxyLTlrsjKMjHTCsPZBuSyos0AnXj5QhxiImRKOSF+nZzhX+yIcyBOi0Wt55hq0hcFDeQYJUTNAIB9mgPSX7x3d0Ms5wId5Lpm3F6xyyL0ty6A+0TcIIzkyEGPbygjCSU789opXvCLluMoDrpbFPRwQ9fGM+K78exVxXsgJks0Xew65i2g2uZOPS1b9LrJMfvfYY480ODC4i+jxpJDJbcZUgDJRGNMslCUM0DSAshsJW5lqGxZTm4zhigCDBe1qam5cgwXtZTECYy0iZVqsbXBMItLqpo4irabShiEuyinKrG+VPwx8RjsgF6I+ooicJSc4CqJZBjmxUt3AhVMW3W/brrRhH+im2RVESLqB6F0n+UNy1AcpM4hsio5p33i5gzLNV5nWDhEhtzAK6bLoSs6r9iQXPrV7tFMcVbhXkMYyqud7hgjpYYcdloig6PELX/jCtBCrfG2QVoOvSBuQphD3Il/snIir/YsterMIzSJMUemqDrmXQIZnuE453IOc+M5zXF+F58ndlXtslwUDfNcBf0xGEXMy6nt186ld/S5/XnpC7NqAGFfbaJzI5DZjKkCxGGv5OyJ9k1SKKpSNAUIQTQlGntQ0Q5mVkYEy4hbVZGxGDc9FNJFDDrjtVdqMKTlBkNzbSmjf6Z9hB0QMMscn0iX3sYlgZPQPTlYEEeG0iE+fjQr6jWMnh4iCaBgiiFi0jTbsA4KCfNufVlmlJgSxqAMCg6DInexGbgUL6CTS1nTPuQB9Qc4c/nZoH32i7giY7+i3XRCcp93ZEaSPbZGzKkVAoMWgwPllsGfuo8/dW185zz3dD3ySP5F8qSZk3jPYKLLhnsrjeufqIykkbJD7GLibdeMPpUwYwLPlZpXIs/6344HyQtzLvdld6xzcSwS1fCi751hoWIV7SHNAbm2iZcEnO+t5BgKCB6KzUiTU3eyB+pArh3o4B9k1WEDmR6nj3ZDJbcZUgLJTVEZInlJ1NDpJUNBYDUuhJ6mw/UBbiigZaY+rzAwkQ24PRI6+zeeSEQ7DdBwCgCCZDtM3jCyZqTqifqG8jD/HFgs/MtoB54c4cLoWUY1SJj1LZIm8iHBJgUAIDPLaHjirRxv2wXV0xrQz/WmSPfXwPORWHTuBTiDBSM9cj9yGfUA06S8ZAMQQYURYETX7WltgZlsskU/k1gJmOw9oJykldhRA8OxAUAbZMcMjym6gJJpq0ewb3vCGtFOA5+s3/WdA4X/lYEtsxYhQ0wH34e+QRiQWUbVQUJ8iy7bCPPTQQ4t3vOMdaRcF92DPEViHNBuv3zX1r489B5GWJuBeu+22WyLM7CRyLC/W4A4xtU2X8lehTNpC+d3n8MMPLzbccMNULmXfZpttUtqWetNhUWgkWdtakKceyqDuZsC87phdnhTyPrcZUwEKZZQqN4mDMPocR6SxV1B8RgWxsl0L5bX3IMPStrNsA9qTkWScRcKRQAZp1GCEGVTG15Y6nt1LP4bxRkhE9zh6hpHRFrHgxCO9QR+Eg3EdR8ZJIfGiL8MMjLSbCIepYYsp3G+UJGw+QV/SHf1jQYw+7Ed39A1CgKSIKJHnWAGOwHDISJ//OXSkwxQpGfSbZ3PMdMF1beptG/YBOVNHJAkhbdIdco9EIEqeJZJYB+exA1a1k2czE3NZntUV2dKOFo8Z1OhvskduyAXyy1aILNruS5uINDqPfNB514uiaz9tTK4QPdF5fYpAOs/5/kaO7UzBb0m50Xf2MPYcfShgY9Bsn3Fbc5F954iwItX6D/HURxENJU/+93Y6g0HPEhV1GNh7znOe85xESBFZRFOdIqrr3p4dNlUZdt111/R811TtJDnVFmRP3ZTfQY4takNsI33DtWYEDcYM7Nho5NbgQZtuv/32qS3oaJt61g9WmlWoPO+WMXFQZKNLUyH2zWOwg8xMCxgcuUg2x7ZoxPvJKfqklLcJHDxjIwLAeDK8HPqogaDa19b0GYMo368XUi3aKzpggYfI1fOf//yUv8VRkQmEmWH2yuBRghyayrZB++abb37jApSM4UF/Dj744OSERc60az/Ej1xYpGjqlDO1cpxcI7YiXEiIRTtIBOKHaHoWYoAMOxADpAVRqDr3YTGsfUCkEC86i/iYAlbeOiD59OyDH/xg8epXvzqRmTqQZ/W2Sl8EDilCbDL+FwitCKsgC5BPbbt06dJEUt/85jenHT6APIrMkkN9ZHCNSFb72j0RbrLhPKSRbfYMg2jXIYwBJFwUdPHixYloLlmyJH2GrLqPaDHf6F6eyXYqN4Lsuxi8KKNnG/yDZ3WbuXANmUGIyRjbjSzzHXX6on7Oc756qaPzJ0lqA+1qd0bGEGDcKcs0KMZcACPFWDE442pP/ScVggNlSHslEPpc5AQZtqDiXe96VxrsmCL0yaCrz6ihnawwV35EXftltAeyEauu+5VJjtyCFjM7Zga8rQlxs6cmIsvxkz/3Nr3rzUyiR/pSxA0RFjFGJtomtm1AmZAIB3LeJHvajl6rbzcZdV/nZ1luhnYiGwYWIqHkrRO0J4JJzgwsOvks92QH3U+E0//kE2EVFTXIKsPviLQoq8EL0qiPAwiswZrr3cf5CK0y06tyVF551McMl6MbsQW/u6/yssXKSM48pw6+97t2cL6ZkkF0exSYmIZTNM5DHojRarkD2wbSJPJjlGV0kZV8OpH7pT1oS2SQXnHu4zI2nivCxsAx+L1CGRGXyI9EVuTEibKJmIg8mYYbNcK4Kzu7kWWyHYQ8sr/9piOA8/WJRTlkxL6bUg1ELskLgivaTl6QEk43Pl3L6fvfUfds5VM20bjyApy6wzkxcGwbykcXRNyaEO2R0S60K5nRt/rZAWQDXynbhDi3Tp7K8HscgbprPUP6gBksAzWDM6kKzgvUXefvOKqI83spZxlxTS/XlZ/hmBZMpCRhSEz/2aaFALVpKNyrfD9/MxbeUEN4CGjG9EE/9RKJyOgNoQfjNjjIbRORqAPywakz5qaV2QSD0djcXiShGuUYBZQ3iFCWw/agLRFCtlc/DwJyjBiLQInAIgCmZKWqhIyIepajV71C+eRk2rJJikPTcdJJJ6Wp3lHIhzqSPVO93e5PVnspA5ua7Wp/kB5gdgChNaASkTSYYttGBf1DdtlAOatSWyLam9E/JtJqFE201kibQRLWH8Qg1cG9CSbyHMrs3qanfJ566qk9GY6M8UJ/IDSmYfRf7p/hMak21H8Mcr9GmbPm2E1xxQ4IprzGDeXulZRn9A42mX0e1ta7Xi6thS/ILjkZlgDQlSDfCE3TET7G5yigLm0FYMKuIu7ZrvYO0/+bbrpp4gtyYL0u2lvGDLBHZRtE4qUjeK7Fa72uV8iox0TIrbwr21vECsJhDVOAcbKq2nYbRtZhfAgjA2gloVwmEdxu0z4Z40U4F4n2nGDGcIj2NI1aHuiNA4M+i76KxhngMOpSE+TaluHeQUAMUjlu9Sw/M8iHc6q/ZUwWw/ZF9L9V7/rXLgBBOANxDtkgIyEHTWSUDxIxs72R17Q2Hdttt10KyLTlt+rQrZ38rn696HbY1bYI83yB/mWHzDTgD20F4JoQzzTIH6V8zQcM3XphSCiQw9++Y0jqlM733oJhVbTppPJKwWHgvgyZfJV47Vv5+QiuVXyeaVNli1S6GYW2EG3EEDUdUeY4qtf4v1qvuQL9Q6klyo9jVf8giHavfk4jlI1TN7WP6HUD/aG/rnEMWjfXuZejFzg/5Fs5bSVj6s/iMn/LyVceJD1kH/m1Kt0+j/astPDCgNnv7sGRG8BaWW8fyW7Epowo/6D1HxWibtpJfeLv+H+U5W1DNlzjUI9e+yLguigDG08uyLVFYv4mD2QmFpSB70477bQURCEjNsU3UOpUdvYHiRGZs6q86eCzRIyr5CPuXf3sF+qgnZrgHDLfyzQ5uyrKjTCNEuqr3CGTyjhoG2RkDIuhyC3BDWfCmIiK2pIijK+jLNyEnXG64oor0opkeVIUrw0wuvYHRFopMUNVnT4w1SCHj5FTBko4DuXTDtpFfpi2qjv8JprsXO3k0/++Lx+TiMSNA/oKqWWEfVb7bloQREIfTTuUkax0Q+ixqUvbLBl89nJdHdzLrAl97AXKSK6RWPZj+fLlKcft6U9/ekpdUhbv0LdfrzIC3TZDQz+QYCRWrqRn0iVbh9ET03oIjnP7qY/nKNOgbdA2tJG6imRrW7l/tr9SRnXTbqOSx7Zkw33YfmXtd9ZM3RBX0VpbwwlO2JLJPp7Ind01LrvsspQjiVyxHQioDeVdZ59OcvCBD3wg1UVZRoVh7UP0tbUhTffwDHX12VSfsl0VfRylXVUOekdGHf4elVxmZHTDwOSWgSPA73znO9PbOTgY0VifDMnxxx+f3rVdVjzKyCh7n7P9I41821A292UMEGzbZMjTq1Nk/yPVnB4izGC7dpRQfw6XY9hzzz2LvffeOy1IEGG2lY1P7WVvxD322CNtHu8aBFx0SlK5/T1tjWTFuPdKH3HEEcmYDxpFmWboo1Ea4EHAQOtDba4ftbmI4Pnnn5+c2TRCG9KDeJNOU5siCOp2yCGHpH0dr7766qH0QluxD730o/PYCXuCkmu58fbidNjixnv6kTmDUgNh5aIbpmRtIE7P1VMkT79YpKou0p3MAjhE7nqJcAU8w/nuNw36pQwW3r7xjW9MdUPe5QJeeOGFyZb4HBURb1M2YtDQT18AHWMrd9hhh+RXkFp52fpYapsdEwyODHRMHSsfUiuyKYCC3FmExl8NI9ed0KZ9cK32UfYmqKc0Crrdbfp6HPZU8Eb9vbr1/e9/f/JrRx55ZAoijXpAkZFRh4HJrVH4xz/+8US4JPdvscUWaZPoNddcM42uCTilKyseA8w4Uty2XmPKsDCYNvC21xvDYMqII6wqtf+VR2RIhNceiaMwdmV4pv3nTKFJlxB9YYRtX+NNHnEw1jbdjxXhFtQg4SIz2sxG/LZCcp6FeF4PqA6jLn/Gf2BgZHuW1772teltLZzmtBptcmcGI3ShCc5FAskpXaLbw0RcTN0ipr1Gisi01e90wht8EBGk5MUvfnFqb7/RC/Uh7+Sew1ReZFaE10s/2BODZ45W5A7plRvpHOf3Cs9xfa+D71HKgHs7IgqmTtpHBNTfsSfvqMrQpmyQRfdR5n6gbmw2+RDR52PItK3jdtppp/S9/id3+gyhZNv1ubZCNBFbb6zqpgvDoA37oL3dB3FtgvPoF1ntRUZHBfWjkyL6b3rTm5JseKPWZpttlvoBP5A6kv1UxrgxMLm1byxyi4StscYayYgwHBzVtttum6IqdkIog4BfeumlieTaWqNMfAcFBRKFtbBAnp38OwrvqAMHyHFygK4bVcSjDAZAJIGDYqQj8qAcImui2PEOZ+0SBkv7+JtRtn+j6JU3N7neVK0oQT9OO2Mw6Afy7XWy2t87tr29ikPlYFZ0cMJkUdTU38OA3CIw7EJdalAV2s/Abb/99isWLlyY2pmOIrPaWbSOjgQpYUPouilq+9/amkmf2PfUOXRMf/nbpzKY4eiVkAVpCDLdBHrtvmxIvySmV7ivATuCoI/YVFFCwQFtBf5uw5bWoS3ZUD7k1vR4v+ssXMcGete+leRki4xYQ7HVVlsVL3nJS1IgIGRNVN8Kd7ZRJPFtb3tbWumOeJKLbjLZL9q0D+6lfUSkR9WnbSLkExcwI8uHkVF1oJMCXV6D3GuaUkZGWxhYexgOjkQqgClBRp6gcwicGyJWfiWg3xgdo2hG0ui0yci4H0cW9y1/5/AdwkihfM/IMSqe2WSEPZOBZTiQW/caNSh2EGlGOIxz1N/fDII8srITNxrWZt4F7XvnORh79xJFGQW0rfvrY4MH7Vv+Xpkc6uV3ZfXpf9eU29S14fzjPP/HPVcU6Cttrx84rOiPth3lJKAO9KGuPtFvjvhb/+lH/9fBPeLoBudEuzriGp/+Z0/CyXue50pTsDDUe9WdR5+c6zzRTJ/ky0FO6Uvcoxf0Um4g6+yZRUvdppGriLZUPuSALkcbK7d7a2eH9CnneX89e6uubALC63zl7bXM/cJ9m2QjdDn+jsP/dRiknFGGkIe4h+/8H30fkLZitsvOByK9Bjhm9boNVoaBMrVpHwa9btwgs1JC+DcRfqRcO6s7n8bPexW32RXnZmSMCwOTWw6FwWB4Ca9ILqMGBBpRK4/QCTYHwCBzNghonQI7T1TVeeedd96NW74w9qYj7TfnN98xYPKtTIF6lrIg3K7vRPw8U/kYH/mtzqszxOEcux2djHgZFgjIPbKgTQpHkG9OLRZoINyxF697cuKiD5y1/EPfq7PpNVNu2r/tiE08lyESHTv77LPTAh/TutrU86VWyKt+3/vel0bkIsgGGfpFX1iVbMo07qN+Iszxt23avHkqVvH30n4Zg0Hb9iqjVbgGoRIl1OdXXnll+luajP7Xp+RaP48LnoXcOaT52NqPvSgvvjHzgcyQV+UniyKP9L1t0Fu6KLfS83qFsrJTUqnozNvf/vb0/nr2iC5pZ5Ews1yhR/TdwJgNNevjtZjan06WCd84oPxsF1tkpowdVhYLuM4888z0GWR93FA2ZEs7mREwy6UsZCT801xB6PYwNjRsRC9H3bP0segs/y+VIgaSDrMfDv6Dz56EPGTMXwzMjIzStt5660QUrV71+kMGDjgXBpigBwg2R8MJIGydpiwRHounTG+Ixh511FGJCDFYFmTJwzv55JPT/ayCXbx4cUqLcE/GTBTFoi3TRHX3p3TK5eAk5ZFR3DL8zyByQN0O5e0GhhWxE1VGSJWLoUUYDAyqRtfzOTjE0UiYIwM5uXKYEH55uqbB2nTa2lSbvO51rytOPPHEtPpY/tiiRYsSIfU7J8uh7b///sUJJ5xwo7ETQT/uuONS2bUtY3bYYYelaToLhTg9e0SaQvT6zAMPPDCdM9cczrRAvyB3+nOQQYR+RFKkCzz72c9OC0cNTOjkbrvtVmy55Zbpu9D5cYC+kUlgf+RYIrNWy7Mr6ki/pETJbWcz6IyUHwPLaUDYFgtudtlll0TC2Dr28uijj04RMLryyle+MrU//WbfLDZlB5xLj9Tf1PcBBxyQiP4oo5JlaGPyZBGgmTJyYKBr6t//9JvOWwCHeI8TyuaZBglslaCHgY0gjEE3W9+vHkwr1I+PMMgYpk7kkZ2o+rW6Q9tWn+V6QSe/SxMJn+uTj+eXlVEu/DgHwhkZK79mFjf83RcIr2gjI8uYxFY9jDSj4vcQdPCbaCAHKX/UtCISVD4H/I/QWXTFGAUpNP0nsonQWmDC0Me0T/nwXVM0M5yLqLDIieR393cdUF7RE7l8oiciks7tdHAqIiqd4HmiXOqtvpRdpMPqX/fXFlb9lkkqI4L4chrIJEMmn9iqb1NukvWRjCi3ercBRgpB5QzcX2oJx2kXDAdCrW+QB8TUEVFz5NY0sWnAMGjqIWLtb/2FZFgMYpBDZhBb/5vGU0eR91jpHtNbGc0gr9qOnEHIgrYVTSE3dMYuIk3tyfHQMVFa/S4PHDg+ci4Cgzi+4AUvSPmPIpYclnMRzID7uIc+JdttQT0RaQNF8mkGBLmlH+rOsRrQei59RGrJH2Jo5oN+9aInnuM6dTCt6ujUbuoqKiWabVGTsjRBOdkWu6OY9WB7LMR1nagXW+de9JzeIYu+Z8/CvkVUzN/qahaoyd71CjJEZuI5ZZRlQ3uGbBg8IODS0OixNAB6yxawsQbfkRccdlXdyAxZGgUMcgzoyCQ5ICPKx/9oy/BN0woyok0Neiyu1Md1UB/yYjAkt5V+1sH92Ft21QK8ql2lJ3beMBtjAFD1b3HwYc61ZqRcJuUwkBGIYRekzvg99MhuJ/w+38GuI7wZGePAQFaR4CJVSAwDbQEZobWKn9HuFA01veaTcnUyyH6zgGS99dZLxhKZMzWONItY7LXXXoncDhqxZNg8w0H5OMxqWZ2DwDHk3Y6mVa3aCTmQI+g5plEZF23F4DD2CHu1LZBBpFAdY7sj0WqOFOnUDq5Th7KhVg8jaNOF7t/p8LtRP4cWUFaGkhHTLlIiDFgQJORVP3i+siMXtidDrm2kb49R9TJgESFTbu1iSpBjISeiORYMWSBk2ydOGblXFuWOtkJeGEz/d4JyO4cDnW+Heqt/tA9CgkwgDZxPuU+1a7RtvyCTCDGCalCmP0Vw6eWCBQuSowo5GxTKrs/r6lk9nEcOpTvRAaRTXZXPIiODbOeoK6KLbCJXZFAbkOm41yARJPd1D7Yt9AgB8X+kEsT3vvMczy3D9UiA7ay058Ybb5yILf2gV4igVCD38BYsNq8TEfN9t4F8L1Av7SH6betBfapfOsFz6Tf7g+QqA8JDNhAYssEWsBvaZBBEmaK/ej30P7tCRrQfYqu8ZOR5z3teKldZDiZx0N+qXAwCbdSLbvu9ya7yIXyMNqrzb+VDP1fLHn3l073K8F2c38YALCOjH6w0K4B9eT6ncyqE1eF/xljemK1AEFPTaxY8MNgB5M4I8eCDDy523HHH9IkIdRJ6BlYuj6k3kSdT3JxWVYH6hbIrr2lxo9WlS5emaGPkwULU0We35mHcHXVQB1EEz7IXpU3EkQIQ9fSdFbzVqBoybN9bBkmKAONjKlh6hnYQJUE4ymBEEFt7YKpXk+HT5oipPpNW4jxlFbWV9mCbMWVSr2gLEKl3PofBSYhu62sRAXsaipCFM2ZITQ1bpaxuolWct3upu7QGOYVyDkVyPEdkSH332WeftNK4WscA8k82DJaibPMF2lDUSz/oR5EqAwazAdJ2DDSRpSBS9kXu1p6gTemnfVMNnkw36zcROwMTBNI+p55PpqULmZo+/PDDU8Q+QAbdQ/mUqwnIuH4M5zhqkE2HWQQDtDrbQ2+QU6lR7A6CrN2CANIRUWsge85FculL2BCk6hWveEWafSpHuaQTWfFP76UdiMzSMWVCkJcsWZIGimZmXC8aF/o0KqiDgavySC+ThmTwUI4E1smG65Bhdkrqyu67757kRRuxd36XjiSaB9pVf5NR6RhIcB3IgbbWVuzfXINBGB9JVqp9G3ZYIIPtNKlKj+pAXgyEbLlp15Dy7EkZ7AAdZleltvDLZTugX8JXNOmgstIXR7nc9F1KijQ2wYuDDjoolbksV2y8FCbbo7FNGRnjQN/klvKZ4jDlgyABImOkzomagmC8ROfKeW7ILeJEYXslt8ic/ExRGk66jYUhlI4zYoAZc4YEwSyTW8aVIY5IUBM4MkcdGBaEjaNiUNQfQXRPZZAGsOqqq/5PO5hKZiQ4R5unI/WuRVw5Fu1bbltwT20misf5NpWbcWJkROG0p3PVmXPlwBxG6lUyFMYNPEtEnTNUFySWs466BLlFYqvkVnSIU3Q9wu9ZytArGUNqzzjjjNRHDPN8gugl8kEmtDMZ07bSPAwEDRT0advkVq4nchsLNw1mkFuDLbM3gX7IrdkJsl4XURoVtJkZlPXXX792UNqJ3PqenGsPtgzYB/9LIeLY9Qk4X/6/WYvyM5ARtoC9QPz0Fag/nUU+tC+dZxc6TUm3Ce0uomjGzawN24yQlp9dJxvao0pu1RW5VUf2RB0jNcX5vZJb5ZGTbNp9rsEgiD6xheMit2bk2IE6cqutkVCfTbaU3hjwkOmyD3YdP6qv2RiDXuepRwR2pDUoJ10ah0xnZEBf5NapMVITXZD3FqBsRmeieZwsA1dWTBEmTthIzpRRKG6QpSoYVPmuDCpngkRxBhENZhiUh0JGFWJ0WTUaZQS5Kkdukbwgt+6lLvZHFDloUngwteiogzqYtrfYDjngBNTZMzg091afaAPfMwpGwYyEhXEiccqGJGs7RlEbMzKd2q5fxHOV01uQbIzOAYkyaEtl1WbajnF2PsMlyuR3/Wqgo0/DMXJuQW45Pe0Q5BY5cq6FaUb1pjh93ysZcy45RC669c9cA3khQ4intld/baGPOBWOx/fjILeIqcjtoORW/9E1/UmmRo2wC8pWHRwGtGcdua2DulpoaVGowaiIXCeoI71FAhBhemGaPHTJLAo9Mkik8/qxky1zjaNJ/9UjdMM9HE3ns8/6gs7r9zLGSW5B3ZRF+841sOXkr25gpd7jJrcCSJ4nfz7kpQ7KawaRbyjPyLI77h8BHP5Uqo16GLC9/OUvT/0uiEHe6+qdkTEK9MWOGGhT+oiWKEYZjCfl5DTkilUNqd9jSsJ96hTJ9b73aVpKFJhT9Z2peqNERpjiOIcBRXyNPOV3+a0XR+l+zlNGilp2IFFOEQyKSWmbDvm/naCc8VIJkZxwGp6BADJ05XZSbkaLYXMtx+Ac12lTB7LR9i4DysOZxnQ3Ioq4aM/I1+J4I0/XdwYGiI4dMxhNRlI6g/4ot3/0U/S3T+cgEAYrsSiuHzgfkeOIXT+fDgtigsAC+dFnEVEpy/K0g+6JYop41tW17cNzHOOeGqUD9CZslzQedtL3/jeIt3jUd3RQPyKUnXTc93SwrGdl0DHXh12kb0hOp/OBDMkDrhLbJjTdbxiQYeWp68MV/WAzp4ng0b9FixZ19XV+t5i0Kh/qIjgh3Q5BjiAIGURq+TO52OxWJrYZ40Rf5BZJsajI1DfyIxWBESXAVs5aUU/IrZhkoMsg2DFNZ7THQFeNI1JnsYWdBeSlWS3KEXBGVl2aNjNKBAYQQTI9LYpkpafoQmwY3QmeSfk830hTNLGqdAgDJxirpZsOxqqKcC7yCS3MQlAZEd9HnaskxG/Iu+llq2WRX2VzvvIwDkbO2s6UneiZ/mjTwUgPEKXjOGOkz7DJ11Ie5Fqbixgg2aIAyqWfRLjs9ykKgOhqY9DO2sGKWt8zeBaSITYie/pgEELmmvl6VNH0Wy8ge2QJEaLLPskZOaBLPkXRHM4jpwiT753v3EHksFzutg6o6lndMU54HlLApiBt2i7aWWqOxYDSJPwud5p+05cquVUn7W87NINN7V4H57GVUr/ktRuIigzTveo9A53apU42EGX2DZFRBnLhf+f59L9z/V1n53tBlGfYw7PVoc17DntME/hpQYI631Y+RIb5sHIwBvzPB9oJR8odHxCLKqUjIPQW8+V0hIxxoy9yy1AgsVbFc2wifIgOQmnKSjQNYTE9VzfCo0RIDefIEFYhWougmhJEhOWdWfiB4CJTtslBsII4UyzO13MtZkKUkF3K1QQGmYF2nSmUqsIyQMqrDt2O6rXg/vLwTBmFM5FfKOLaydBrE07L9I0IjygOB4UQgnYz5W8xjEGE8/RFm+BcTTvZS5ghiy3A9KdFQ9qds9TG+l8bRjswXsrMURuccGxRV9+rv2lZKRciwaZeIz80Y7Igo1IYDKroENk14yDnkYMyyNJnBpAIErn0adCmX22pNy2gR8pPNwYhVf2AjaCXCGs3581OkHcDQjpkK0C2TlqOnR0iDUj+ot/l29OrMpA0hJJ+6Y8mohokU2oF/aWXUgaC6PWKqmywUWyCQbtAA/tpQO47tgopZ9s9R4BCeScF/c+WIlzaYtTysCKiX19XJef+Z8PNTPIb7AH5NBMhqGFmT8DL9RkZY8WswveMWUIzM2vIZmZH5envWQM787GPfWxm2bJlM7Pkc2bWoM7MGsMbzv5v+H5W2GdWW221mec///kz3//+92dmjeANv/4bs0R15txzz525+uqrZ2ad1MysgZy5/vrr03UXXHDBzKyBSv8HvvWtb81sv/32M8uXL5+ZJcYzRx999MwsuZ6ZdbY3nPG/mCVkM7NGfuZZz3rWzHrrrTczS4TTc9qGe6qzdpolu+nvbs/xuzZRRoe6lq9xD9/3er9B4Jmeodz6IMofZfGpjI7oiyh3ua7uQSYWLFgws9FGG81cc8016XtHXflde/HFF8/MkugkA56dMTj6bU99oV9CvqK/9VOdDMS5+r3cj2zDMcccMzM72L3hm/FBOWaJ7cw222yTbIgy9gt1u/baa5MtmSVqje0WbaGNfHaD82bJVrJls85/5pxzzknPirZkW2cJ4Y26Um5Xf7OvbC0b98Y3vjG1dRXOYyf1wWte85p0LzZ6gw02SG0zSJu4Z5TRp7o6QudDBhzK7TyHvwPO/+lPfzqzcOHCmbPPPvuGb0cLzz/rrLNmFi1alNpZ+aYZ0c7veMc7Zvbbb78kK53gt9mBUfKl2rUT9M9ll10289znPndmdnA6Mruqf/W5smhzsn3dddf9j33IyBgX+orcGqHJCZMmIFIh0hD7Xtp03Mi+OsUfMOoTAXL9rBL8V2QvIAIisuFe7m9U6DqLmGL7q3KkVHRGtEBE1NSb6T6RR4nrneCZpsxmlS5FR0ReqqPRNhAjYvfXbv7u9hy/G+Gqu6M6UnYP3/d6v0HgmZ6h3No7yh9l8VkeyUOUu1zXgN8cvotjlOXvFbMGN8mgKL/ojhxynw65irNOYKKRHs+edRgpQj7rpG/4dnTQF/ol5Cv6Wz/VyUCcq9+r/ajscYwL2kq/laPKIZ/9otfyR1too16e5Ty2UwqPfWHXWWedNKWrLR0irCKt7GS0dYA8irwqU+RuVtsdtANZlv/o3KVLl6bIpTUE7Koy9AvPif4OOXCEzocMONzfeY66Z3Vr07ZAZ/iHSO+ok9NRQj0H1V/Xjqud2gJ5IBs4gTQ1ss2fj7vdMzICfVn/MGhhyPxtytnByDUJsd8YPFNzs6PTlE6AYJThfmEsPStAaXwf31F85NRWWpTJfUybyVuzCKtpwYhrTZUpj2n+QYx9RjO0sT5h1B2MvKPa31XoC31c7vtRQPmQBbm/UmtsbWf/UlOtFvfY9YNsKfO4oWzaTM6a6XVlkYu+IiFyStVDfUaNkDXT4/qV/huYNdmjToj2N/DpJq+DgGwj3hy/cob9CfsYpDDKrjzkEFEzzRs7izSRW2sh2Ec5+oiy/vCsIKaTgHqw++Ra244S2kAAhU/QluN8K1kb+qudpJ20oTvqrQ3Cto4SnkXGyHdZtjMyJoGxWjqkVWSCAjDWgzoPSi+HSoRGro9orxxRUbdu8EyRXkbf24uUKaNd6B8RC4veGHmDCdsdcTidwDAaJHHejOOonREZ5PRtV6NsHIoIl+84X2WeBLkln9rN9j72eD7hhBNSLvqKAuXnmLXpuKLfyEQ8U944+RlUhkJ2RYHHRc6b4PkGCqK2FvPK4yez1gvU1Y/MWvBrcY+Fvfbwdq58aYR3UlAPNls/adtRgp2RJ2wAgNiy9aO2J4E29Jcfs1NQG/Yn7KpZgUEHfBkZKyLGTm69ws/qS4tVBlVeTkd0gjMz1cahieAaKTNsTaTZM20rhkRZrJZHl6MBA48gerOVfYAtOkJ0O4HR1RflCP2oQD7MHHC05MYiPaTWimD/g9SWSUS5PBMRMHVNV/w9qJ5oT5HAcUOZ4xg1PIOseaGEthPdrEY/V1TodwMEC7ekZm2//fYpnQFxRd5B3S36M2BHytk/5xvss7dmIMi2gfwkbV1ZJkYlF+6rzZB/bYBMS89A7seFNvS3lzYi271G4sdlVzMypgljlXZKJl9MOoCpGhGyQRy366zmlluGqBih21lBxMKIVxSuDp7F0HME0hfafBFCxn/A8Mqttq3YAQcckLYTs1WMQUgTwqg3DU6aENca/IhSlSNvPvW/330iBYiDlxsg4QiRWQDOkDxF3uO4oe0M/sintwAOS0iiPcYJZW6j7UIeAvF/HPpRlAuZof8GJupqyn8YKLt+mDQ5RlYvvvjitCMNeSSXBvXkVq64vjXAF811DjLH/okU2rIL6fW99QrxNsJJQVtq12rKWT9Q36o8xHchDwatZvT4GISuDXnoB8Pob8ica/RVN/krt0UTon16PT8jYy5grN6bsjI4RrWMkj0dm6aqO4GhX7RoUXodLdJkusV7q5cuXZoS2f1fB86C8TdVxfgwtN0MSEb/CAMdOYSOblEGhlf/cEwGL4MYYteQJ4Mezp+j49yC4CFCfucEbStnGyMkXFTZFnMiuL5HjA2CJokgAsPIp3pWSf6oodza0lToMFBeg1SH/gOf+o+cqBOSZ+shn3L5Rco8V77foHXW3uyHgdik7YO6WEfg7YzeBul/e4baTs8bIkVv1TneXEjPbCtmezGDSm9C8ypftlLkV30mBe0ogkrHug1y6xB9Tx6iX8k3WfCd/pa+If0CmSUP5JC/0S6uGZcOwKD6y24ixdqpm71U/9CNTnCeNorUq3G2QUbGJDFWcguUPaJ69l5EZvpVOPdgBOKI/5tGu57hWV4GIReKsc+YHugfxhch7XfAw8CLWtkfdMmSJSmSZR9Rgx8vGxGNtZuGV6Taj5Os6H+rekX77MPob5Ex+yXbRcMMQ5NzGQf6dYzTgmGnQPWXPvS6Xy9oMeDQv9KOkLXDDjssRWuRGRHKeDsb+UECV1tttfT3INDmyt5L5GwcCNumTPF3HP5XTzMP1h1ETqWyxzUIVvw9SUTZyYby9Qp2wYwcQu+V6RZoIWpSnOi21xX7ThsY0CJ8IQ8Ir3SMeM2xMowTgzzPNfox+rIJvfjNsl3VHhkZ8wUTsXhG8F4EYfrGSnWRl14UdVAE+bEBuVHxWmutdWPOWsb0QD/F0as8OBcZNn177LHHpn7eaKON0mubRfENoGwm7yUjBjfIrEiOhY0OUT5Rf4SI4xXt2mCDDVKUbNzOcC5Amw0bIdSfou9mWc4444wUjUN4veBApNbrv0XhvS5Wf0knQWbkTL/whS9MLwgxOBm0/8geuVoRoK3ZNHXvhzROAgi2ox9b71z+AaE1MPVyAIvrrNnwsgADHv8jbgY2W265ZfrULl7+s91226U85XHm3Q4Lsmcg0Bb6takZGXMBEyG3DJwoGUdkpC2PzOeo4N5SIIxgLXBCaCYdychoB5yaBYKmYZFTb8kxpWdBDcKq79/73vemHG97IHN8nRBRk2knCb1iUuTc4IEzHVSnLfb0pkOvgI63a8kdNeXubYjLli1LOZWjAAJApqRzrAiDG/JqGn7a7Zm2jAhyP3LhfH299957p6i9+8glJhP02UycQa1AyVwBP9Umuc3ImI+YmEVktBAQr3Ud9cp0hkJ0Y5NNNkn5ttPuCDJ6h4GR7XZE+8wGiNiJ2kQf23ZITq2+t7AGAW5CG4SG87YTg1SIU045pfGQH2lbvFFOGY4zYqP9DFyRQ056kGfrOwQZYaG3BibuK0IbU7ajcv7KG7mdytGGPIwaK0IZge7pu35n6vS160Ri+Qo7Y6yxxhppH1/fk5U2bTrZFRn2ivM6nS0fZhO8SGjQgVwVBoVyZLvZKXBuRkZGPSbG8hhkETILIUYdeXBvRNqzEJ8VxRnMN/TbL4y7jdpNV8rj5vA4O/fhoBBb5BdB2mKLLdLU5DgiIhy3aXPbEUm7aTpMq8odbZuAhn6R93E6Qc+1UE/7D5NuRGfZBVF4RHOVVVZJMy6j1l3lldrSK8HI6A36TZ+SDbqBDPYjG3GtXHmLPW0BOar+US67qdDNOp0tH1JkyEsb+use9CbyyLvJugGxc0atExkZKyJyCDNjahCGuhcyxhGIsMnL5IgsqClPTXKAoipy9cwOWCg2rnQDhFL6gwUwNnNvOmIlvGvaBDLAQbp3G463V3iu6DnHaxHLoMRamd0DyXQPbx9DckcNz4pFrgZD6pPRDui2yCu5GKQvET87qcR2jqOa7WAnnvzkJxeLFy+u1dnycfDBB6c0mjb0l8ypH3KLxDeRVr8Z/AnYNJ0HZNrR7byMjLmEbLkzpgJIBGONkPVCxpyD3FolzWjb2k0kx/cIkWiuXFsv6jCdzfmIFnUiW6K8sTClCvcUnbEbg6lKC5wuuuiitMipk4NVH880Zdp0cKSiyW07nnB+CJqV5b20aRsIUq1ug7zCWDkd2hWh9beovL/1EVKE5OhH/W+BmfSPc845J/WLZ7p20Poqr341A4A4ZHLbHrSl7bnIIwLXSRfLKMvDVVddlVJezMIZ1EaE3X2c00keyIvfkWK/y9k14yOCXFcGukMn6WZVX6sHHW9LRpRF25jJ6bYVmPYwqCej3Waj/K7dBn1rX0bGiohsuTOmAoyufGhklJPqFQw3IuJazsFUuBxbJJQxD4LiO86xSnr8H2RYLl8dWXUO0sMhWqENXu9pB4a684eFergvIue5cVTL3gTtqf52fRhku71Boa21ucMWTv2UW50NVpRXHqMBhIGJrdps/eXlBHY8EY2P85EXEXqEQG6uAY171JGWblBO11mg6C1gOXLbLuiqKCdSqo/JRhOQUnLgXIMbW8J5pbAZGrosV52M0F9okge6RH/PPffcdC59lzY0TfrrHLn66m0Q0CR77Jy38WmLbjNS7mc2JctzxnxClvSMqQCji4g5OKNujgB5c66onugJImWfSw7t0EMPTd/tscceNy44M4WIsFQRDvHMM89MkZ1ODlf5OBR74HoJicgKB9m2c1TviEhz7Jw0595v9FV5kX5RVKSwn2uHgeeKGMuRFV3rJ+8WSdF322yzTfqUUmHHC1F50dSlS5cmUiNy5zlkwDWmcOVbOxcJHnT3FeUUzUNu7dIwjhzf+QTk1uCVXHYjlggiHSALO++8c3HccccVCxYsSH0sh16uq32sEUi6rp86yQMSbGs5+mr7OC94MPiylzLi1yaG0V8yG9FppLUpIstW0Qlt0URutaPBoCgzcpvlOWO+IJPbjKkAoyvSyLBzRt0cgfM5tY033rjYc889kxOzPZApR995a5P9jL3hSVTX/pfVFzNwJpwPhxLT0HXgIOKtZ0gPAm01tahi+X5tQWQLQbP11a677praBUHt1zFxjvY/VW5T+qOIUtVBOb05y/MtupFH2As4aaTEAMLew+pPHrw61r7FtoSSP81Rg37RDwg8IEz60F7Gg/SLdr/88ssTOUcaMhFoF/qELopKSvHR3p0GIdre4ELua+xXa0Cpb70AaN11102DTDoeJLCTPPhfGgSy6W9yRq7YjF4HXv1gEP0NW2RGyIBd+ZpkWEqC57BHoQ91UD/2VCAgR24z5hNWfs0sbvg7I2NiYPgZXtEIBMO2Xghnk0PwG+eF9IjycZqiMhyeKC2DLnrDyfidUyvfT1SRk+UcOCNRJVPg1UiI6I7IsClxjtTUpnvbM1kkCMluC8rHqVsNrh7Krn4W4jS1RR2cL4p0ySWXpHKKaDU5wjahDUVBRcv0gZXu3cqv/01bWxxoAaB2CCIiemsrN/3qPETGwqT3vOc9qU/kS4vieYFHXV93AxJA9k499dT0trrYeSOjPegPuqLvpAB5DW8nmXSuPjTQoQMRoXSIahpY0gv6300eyJToqYEWOTKrYLbGy13std7mrgvKPYj+skVeRGOgvfnmm3c8n5wapNIrBNe5nWYYnEv/pVJpM/oTUe6MjLmOPIzLmBpwUiKNSBGy2UukkaHmHDksEY/Y5xY4OZEe09hVo84Zmn4W1UT8OIJO03aiKsitZ2y99dbp/f7y/0RzXTfNUDcO3atKRW/HBaRDlNWUKHJtgNCtrfR/RF4RjugL/Rg5g/Gd+yEo+hV5kH/ojXRIMXmo68dOUC73U07TvQZWnpUxGhh8iMzLhxXR7IQ6/XUguOQaqQt0kwffl20A/Sdv0wLtIE3C29QM0jtBuUWh1U89y3pSBbkWDTZoY7uazs3ImGvI5DZjqiB6yriLqiC5vYDB5qjiKMP/VYOOrIp6iPSIHiGqnECQJ6RaxIMj4SD8j9wi3s6J8+TRTTtEmKVm2DpJHdRlHIRcuyMlciZNtVqlrk27PVu7xlFG9TupDvYhFZUT3TN1LeIvAla9tgnKo1wi+KJmpr8jGpgxGiClG264YdI9EVwDoKb0hLr+7EcekGQzB2YADF7otT4nn/3IyihAH6VLGHyye1JwmmYMkPjYKULKBsLeCeoeKVfSFzIy5hOyBc+YKsjJY+BN0Ynetk3EOBOOEJlBVjkIU4iiO3LjQFTkQx/6UFoUYoGKKU3kUBSJU/QqZw5apHjaSZB6cWyiPCKT6tSJSLQJpMGzTctK9RClE0HqheB2A3Iiao40IzFI0tprr52moq02V79enuEc/StqpnyifE984hP7jvxm9AeRV8RSSgAdl+ZDJ+nmIOgmD/pZri19pcsGsga2IruI76QQtgixNYMkxcDAqhNhdb6yW1tApxH5JnKrjrZDI9Mi3RkZ8wmZ3GZMFZBGuWEclsiLvLk2CS4nePrpp6e9MDkWB+dqSlNEBNmx7ZBzLE6z6ETOGqciynTEEUek83bYYYexvhhiUCBpIjcLFy5MdedIEcxxAHFAKuQmr7rqqsWSJUtSKkhExAeB6/TZBRdckAYhyAqn71Ws7rt8+fKeVqb73fmi2UceeWTK4bQQsdtCnox2YAAhr3mzzTYrPvGJTyTCJqraL3qRBzNA7IpBsxkbW4X5zbOVY1KQXqAs7A9iKze9yZ6wQfRXHQwaLXzsJKvqh9xrE6kOSHNGxnzCSrPGoT3mkJHRAhBMTonD8trc1VdfvbVFH8iy+5veQ/o4N85PtA8Zk3IgimLBhsiIqC5n6RpEMfL2RHnLOX/TDI5O+c8///zkTEXMkLlxOTxtjoBoUyu3RZERm0EGBkFK9ZlpV/3g0CciVeREKkY5v7IO+l+qhL1PTQeL4unPaR+szDWYXjeAtF+t6KKIq0WDvUZU+5EHgzoE0eBH5Dj6u0lORgG2RiqG2Sm2xgJGObHKWQf1CwJvy0KpPvSn0/lk20yTxXVmp6wTiDbJyJgvyOQ2Y+rA+IsynnbaaWlacd99903OaBxRFuogB05UxdQfAjxXnII2RTBFf0SKTFeq3zimZrUrksvpIhhSFSYZNVMWkS2RWsRiEiQn498IfUf06Ln0n0mmC4waBsvILRsjhcLsRqf6ahsDUzu1iHBLo5JD32lgHakL9oRG4hFb6xia0hcyMuYiMrnNmEqIVojoHHvssWml/Lbbbpu2sxkHAaESDs+aS4RHmyJ1chM/+tGPpoiR6U2Ocpzt6jCdOsm2VQbtEX08l/p5RYS+CMyHtJBe64ugivB+8IMfTDZQZLtpIGZHlLPOOqs4++yzi7333jvtlJLTbDLmIzK5zZhamGYURV22bFnKL7NFk43cc5RtcHCqpjjl7XkZhfQE08C5PTMypg8W3HkxhdQZaRvsYB1EbOm0/F27v3jpiZSqTqkLGRlzHZncZkw1GG0E1+s2LfqyMGqQFxpk/C9C9XNbZmRMJ3rRUefIObbDixxjOe1eejHJtJ+MjEkjk9uMqYdoIzGVf2aKLeePZWRkZPwHbKSFZHJ3EeFJp/1kZEwamdxmZGRkZGRkZGTMGeRM84yMjIyMjIyMjDmDTG4zMjIyMjIyMjLmDDK5zcjIyMjIyMjImDPI5DYjIyMjIyMjI2POIJPbjIyMjIyMjIyMOYNMbjMyMjIyMjIyMuYMMrnNyMjIyMjIyMiYIyiK/wcRwTSfsGIpGgAAAABJRU5ErkJggg==)"
      ]
    },
    {
      "cell_type": "markdown",
      "metadata": {
        "id": "D8SVmG05PFZx"
      },
      "source": [
        "Sabemos que:\n",
        "\n",
        "$$x_{R0}^A = 0.5$$\n",
        "$$FR = 0.4 $$"
      ]
    },
    {
      "cell_type": "code",
      "metadata": {
        "colab": {
          "base_uri": "https://localhost:8080/"
        },
        "id": "q46ymsNTTyTg",
        "outputId": "42feb744-bd2b-4456-ffc6-3c5ea2c1a8b3"
      },
      "source": [
        "#alfa_teste = 2.45\n",
        "#xr0_t = 0.5\n",
        "#xr_t = 0.1\n",
        "#FR_teste = np.exp( (1/(alfa_teste - 1)) * (np.log(xr_t/xr0_t) + alfa_teste*np.log((xr0_t-1)/(xr_t-1))))\n",
        "#FR_teste"
      ],
      "execution_count": null,
      "outputs": [
        {
          "output_type": "execute_result",
          "data": {
            "text/plain": [
              "0.12207569697915056"
            ]
          },
          "metadata": {},
          "execution_count": 44
        }
      ]
    },
    {
      "cell_type": "code",
      "metadata": {
        "id": "WRpzWnv2Pa08"
      },
      "source": [
        "# Definindo a função:\n",
        "\n",
        "def refervedor(xr,alfa_medio,FR,xr0):\n",
        "  a = -FR + (np.exp((1/(alfa_medio - 1))*( np.log(xr/xr_0) + alfa_medio*np.log((xr_0 - 1)/(xr - 1)))))\n",
        "  return a"
      ],
      "execution_count": null,
      "outputs": []
    },
    {
      "cell_type": "code",
      "metadata": {
        "id": "t9UgmgCCQBUJ"
      },
      "source": [
        "from scipy.optimize import fsolve"
      ],
      "execution_count": null,
      "outputs": []
    },
    {
      "cell_type": "code",
      "metadata": {
        "id": "99SZbV7sQEOo"
      },
      "source": [
        "chute_xr = 0.3\n",
        "xr_0 = z[0]"
      ],
      "execution_count": null,
      "outputs": []
    },
    {
      "cell_type": "code",
      "metadata": {
        "colab": {
          "base_uri": "https://localhost:8080/"
        },
        "id": "yqBoCv2GQILG",
        "outputId": "f232ed6c-1703-46d6-e8e2-de98b9e14a99"
      },
      "source": [
        "xa_R = fsolve(refervedor, chute_xr, args=(alfa_medio, FR, xr_0))\n",
        "xa_R*100"
      ],
      "execution_count": null,
      "outputs": [
        {
          "output_type": "execute_result",
          "data": {
            "text/plain": [
              "array([29.89303361])"
            ]
          },
          "metadata": {},
          "execution_count": 19
        }
      ]
    },
    {
      "cell_type": "markdown",
      "metadata": {
        "id": "KxiFbgv2Z-Lh"
      },
      "source": [
        "Logo, quando 60% da fração estiver destilada, cerca de 30% do componente mais leve (hexano) estará residual no refervedor. "
      ]
    },
    {
      "cell_type": "markdown",
      "metadata": {
        "id": "8lDHKPe2bJ-D"
      },
      "source": [
        "Agora iremos calcular a concentração do componente mais pesado no destilado quando a fração restante da mistura no refervedor for de 40%.\n",
        "\n",
        "Para isso, iremos considerar as equações abaixo:\n",
        "\n",
        "![2.png](data:image/png;base64,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)"
      ]
    },
    {
      "cell_type": "markdown",
      "metadata": {
        "id": "vjfVEsE7bhje"
      },
      "source": [
        "![3.png](data:image/png;base64,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)"
      ]
    },
    {
      "cell_type": "code",
      "metadata": {
        "colab": {
          "base_uri": "https://localhost:8080/"
        },
        "id": "qkR2hBWbbuHH",
        "outputId": "05babe15-2362-43ef-c805-367c1fa8b2c2"
      },
      "source": [
        "ya_R = (alfa_medio*xa_R)/(1 - xa_R + alfa_medio*xa_R)\n",
        "ya_R"
      ],
      "execution_count": null,
      "outputs": [
        {
          "output_type": "execute_result",
          "data": {
            "text/plain": [
              "array([0.51335583])"
            ]
          },
          "metadata": {},
          "execution_count": 20
        }
      ]
    },
    {
      "cell_type": "code",
      "metadata": {
        "colab": {
          "base_uri": "https://localhost:8080/"
        },
        "id": "uPLmQKDTdiXr",
        "outputId": "9cfb967c-364b-4d8c-fa74-8c8c865876d9"
      },
      "source": [
        "xa_D = ya_R\n",
        "xa_D"
      ],
      "execution_count": null,
      "outputs": [
        {
          "output_type": "execute_result",
          "data": {
            "text/plain": [
              "array([0.51335583])"
            ]
          },
          "metadata": {},
          "execution_count": 21
        }
      ]
    },
    {
      "cell_type": "code",
      "metadata": {
        "colab": {
          "base_uri": "https://localhost:8080/"
        },
        "id": "Nu2g6bvSdkNm",
        "outputId": "f7613cab-9c3c-423d-9961-0cc1b01a7873"
      },
      "source": [
        "xb_D = 1 - xa_D\n",
        "xb_D"
      ],
      "execution_count": null,
      "outputs": [
        {
          "output_type": "execute_result",
          "data": {
            "text/plain": [
              "array([0.48664417])"
            ]
          },
          "metadata": {},
          "execution_count": 22
        }
      ]
    },
    {
      "cell_type": "markdown",
      "metadata": {
        "id": "f9oiA-ETeH57"
      },
      "source": [
        "Logo, a concentração do componente mais pesado (tolueno) no destilado quando a fração restante no refervedor for de 40%, será de cerca de 48%. "
      ]
    }
  ]
}