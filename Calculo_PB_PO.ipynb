{
  "nbformat": 4,
  "nbformat_minor": 0,
  "metadata": {
    "colab": {
      "provenance": [],
      "collapsed_sections": [],
      "include_colab_link": true
    },
    "kernelspec": {
      "name": "python3",
      "display_name": "Python 3"
    },
    "language_info": {
      "name": "python"
    }
  },
  "cells": [
    {
      "cell_type": "markdown",
      "metadata": {
        "id": "view-in-github",
        "colab_type": "text"
      },
      "source": [
        "<a href=\"https://colab.research.google.com/github/Carol-Coutinho/OU3/blob/main/Calculo_PB_PO.ipynb\" target=\"_parent\"><img src=\"https://colab.research.google.com/assets/colab-badge.svg\" alt=\"Open In Colab\"/></a>"
      ]
    },
    {
      "cell_type": "code",
      "metadata": {
        "colab": {
          "base_uri": "https://localhost:8080/"
        },
        "id": "dav4d9DLY-95",
        "outputId": "6a2ee837-b066-43a8-943e-0c863ce050d5"
      },
      "source": [
        "# Preparando kernel\n",
        "import pandas as pd\n",
        "!pip3 install pickle5\n",
        "import pickle5 as pickl\n",
        "import numpy as np"
      ],
      "execution_count": null,
      "outputs": [
        {
          "output_type": "stream",
          "text": [
            "Collecting pickle5\n",
            "  Downloading pickle5-0.0.11.tar.gz (132 kB)\n",
            "\u001b[?25l\r\u001b[K     |██▌                             | 10 kB 15.0 MB/s eta 0:00:01\r\u001b[K     |█████                           | 20 kB 17.1 MB/s eta 0:00:01\r\u001b[K     |███████▍                        | 30 kB 11.7 MB/s eta 0:00:01\r\u001b[K     |██████████                      | 40 kB 9.5 MB/s eta 0:00:01\r\u001b[K     |████████████▍                   | 51 kB 5.7 MB/s eta 0:00:01\r\u001b[K     |██████████████▉                 | 61 kB 5.8 MB/s eta 0:00:01\r\u001b[K     |█████████████████▍              | 71 kB 5.0 MB/s eta 0:00:01\r\u001b[K     |███████████████████▉            | 81 kB 5.5 MB/s eta 0:00:01\r\u001b[K     |██████████████████████▎         | 92 kB 5.4 MB/s eta 0:00:01\r\u001b[K     |████████████████████████▉       | 102 kB 5.2 MB/s eta 0:00:01\r\u001b[K     |███████████████████████████▎    | 112 kB 5.2 MB/s eta 0:00:01\r\u001b[K     |█████████████████████████████▊  | 122 kB 5.2 MB/s eta 0:00:01\r\u001b[K     |████████████████████████████████| 132 kB 5.2 MB/s \n",
            "\u001b[?25hBuilding wheels for collected packages: pickle5\n",
            "  Building wheel for pickle5 (setup.py) ... \u001b[?25l\u001b[?25hdone\n",
            "  Created wheel for pickle5: filename=pickle5-0.0.11-cp37-cp37m-linux_x86_64.whl size=219315 sha256=7478f4b4dd359e78f9ce9c88b2d86bc48e7d1ccbfd00f39d5506a49450d41a0f\n",
            "  Stored in directory: /root/.cache/pip/wheels/7e/6a/00/67136a90d6aca437d806d1d3cedf98106e840c97a3e5188198\n",
            "Successfully built pickle5\n",
            "Installing collected packages: pickle5\n",
            "Successfully installed pickle5-0.0.11\n"
          ],
          "name": "stdout"
        }
      ]
    },
    {
      "cell_type": "code",
      "metadata": {
        "id": "oilkwaFyZPNO"
      },
      "source": [
        "# Para ler/carregar\n",
        "with open('/content/databank_properties.pickle', 'rb') as handle:\n",
        "    dados, all_units = pickl.load(handle)"
      ],
      "execution_count": null,
      "outputs": []
    },
    {
      "cell_type": "code",
      "metadata": {
        "colab": {
          "base_uri": "https://localhost:8080/"
        },
        "id": "AKHmaIwoaP5T",
        "outputId": "b0ebdd66-50c4-486c-dbbe-dd69fb84effc"
      },
      "source": [
        "lista_componentes = [242, 286]\n",
        "nc = len(lista_componentes)\n",
        "nc"
      ],
      "execution_count": null,
      "outputs": [
        {
          "output_type": "execute_result",
          "data": {
            "text/plain": [
              "2"
            ]
          },
          "metadata": {
            "tags": []
          },
          "execution_count": 3
        }
      ]
    },
    {
      "cell_type": "code",
      "metadata": {
        "colab": {
          "base_uri": "https://localhost:8080/"
        },
        "id": "VQO7qtljaXBR",
        "outputId": "7aa53e77-365a-41de-ab06-c658bdb5fd26"
      },
      "source": [
        "# Verificando os pontos de ebulição de nossos componentes a fim de escolher o valor intermediário para nossa T_flash\n",
        "T_eb_comp = dados[dados['num'].isin(lista_componentes)]['boiling_point']\n",
        "T_eb_comp = T_eb_comp.tolist()\n",
        "T_eb_comp"
      ],
      "execution_count": null,
      "outputs": [
        {
          "output_type": "execute_result",
          "data": {
            "text/plain": [
              "[353.3, 383.8]"
            ]
          },
          "metadata": {
            "tags": []
          },
          "execution_count": 22
        }
      ]
    },
    {
      "cell_type": "code",
      "metadata": {
        "id": "d8qnIAdUaev2"
      },
      "source": [
        "def f_Pvap_Antoine_db(Temp, i_comp, dados):\n",
        "  # param <- as.numeric(param)\n",
        "  par_array = np.array(dados[dados['num'] == i_comp][['pvap_a','pvap_b','pvap_c']])[0]\n",
        "  par = {'a': par_array[0], 'b': par_array[1], 'c': par_array[2]}\n",
        "  a = par['a']\n",
        "  b = par['b']\n",
        "  c = par['c']\n",
        "  Pvap = np.exp(a - b/(Temp + c))\n",
        "  # attr(x = Pvap, which = \"units\") <- \"mmHg\"\n",
        "  return Pvap, par"
      ],
      "execution_count": null,
      "outputs": []
    },
    {
      "cell_type": "code",
      "metadata": {
        "colab": {
          "base_uri": "https://localhost:8080/"
        },
        "id": "dF8PfieuagKv",
        "outputId": "4056adfa-fb47-4b3f-d3cc-11ee6c384e8b"
      },
      "source": [
        "T_flash = 386.15   # K\n",
        "P_flash = 760.0 # mmHg\n",
        "T_flash, P_flash"
      ],
      "execution_count": null,
      "outputs": [
        {
          "output_type": "execute_result",
          "data": {
            "text/plain": [
              "(386.15, 760.0)"
            ]
          },
          "metadata": {
            "tags": []
          },
          "execution_count": 24
        }
      ]
    },
    {
      "cell_type": "code",
      "metadata": {
        "colab": {
          "base_uri": "https://localhost:8080/"
        },
        "id": "qHzZd3U7gsgj",
        "outputId": "086a2c70-2c1a-4e17-e1aa-b77f478999a3"
      },
      "source": [
        "T_vetor = np.linspace(370,390,10)\n",
        "i_comp = lista_componentes[0]\n",
        "f_Pvap_Antoine_db(T_vetor, i_comp, dados)[0]"
      ],
      "execution_count": null,
      "outputs": [
        {
          "output_type": "execute_result",
          "data": {
            "text/plain": [
              "array([1238.87912967, 1316.79065405, 1398.42451546, 1483.8955438 ,\n",
              "       1573.31958816, 1666.81345545, 1764.4948486 , 1866.48230464,\n",
              "       1972.89513256, 2083.85335124])"
            ]
          },
          "metadata": {
            "tags": []
          },
          "execution_count": 8
        }
      ]
    },
    {
      "cell_type": "code",
      "metadata": {
        "colab": {
          "base_uri": "https://localhost:8080/"
        },
        "id": "seIKxTBOa2BA",
        "outputId": "09010931-5194-4583-d6ea-aa5c79415afe"
      },
      "source": [
        "# Verificação do cálculo da P_vap e da volatilidade K\n",
        "P_vap_comp = np.empty(nc)\n",
        "K_comp = np.empty(nc)\n",
        "k = 0\n",
        "for i_comp in lista_componentes:\n",
        "  P_vap_comp[k], par = f_Pvap_Antoine_db(T_flash, i_comp, dados)\n",
        "  K_comp[k] = P_vap_comp[k] / P_flash\n",
        "  k += 1\n",
        "P_vap_comp, K_comp"
      ],
      "execution_count": null,
      "outputs": [
        {
          "output_type": "execute_result",
          "data": {
            "text/plain": [
              "(array([1894.50921839,  812.64770633]), array([2.49277529, 1.0692733 ]))"
            ]
          },
          "metadata": {
            "tags": []
          },
          "execution_count": 9
        }
      ]
    },
    {
      "cell_type": "code",
      "metadata": {
        "colab": {
          "base_uri": "https://localhost:8080/"
        },
        "id": "8_5renuDckbq",
        "outputId": "9b440a64-67f5-4dca-d931-75a166af42cb"
      },
      "source": [
        "z = np.array([0.5, 0.5])\n",
        "z"
      ],
      "execution_count": null,
      "outputs": [
        {
          "output_type": "execute_result",
          "data": {
            "text/plain": [
              "array([0.5, 0.5])"
            ]
          },
          "metadata": {
            "tags": []
          },
          "execution_count": 10
        }
      ]
    },
    {
      "cell_type": "code",
      "metadata": {
        "id": "RaQdV-5rb0YN"
      },
      "source": [
        "def f_Pb_T(Temp,P,z,lista_componentes,dados):\n",
        "  if (type(Temp) == float):\n",
        "    Temp = np.array([Temp])\n",
        "  nc = len(z)\n",
        "  nr = len(Temp)\n",
        "  MP = np.empty((nr,nc))\n",
        "  x = z\n",
        "  k = 0\n",
        "  for i_comp in lista_componentes:\n",
        "    P_vap_comp = f_Pvap_Antoine_db(Temp, i_comp, dados)[0]\n",
        "    K_comp = P_vap_comp / P_flash\n",
        "    MP[:,k] = K_comp * x[k]\n",
        "    k += 1\n",
        "  f = 1 - np.sum(MP, axis=1)\n",
        "  return f"
      ],
      "execution_count": null,
      "outputs": []
    },
    {
      "cell_type": "code",
      "metadata": {
        "colab": {
          "base_uri": "https://localhost:8080/"
        },
        "id": "ra0GLm_ddAUD",
        "outputId": "60b3b250-4db1-4ec2-cb17-62ac077a6ecf"
      },
      "source": [
        "f_Pb_T(T_flash, P_flash, z, lista_componentes, dados)"
      ],
      "execution_count": null,
      "outputs": [
        {
          "output_type": "execute_result",
          "data": {
            "text/plain": [
              "array([-0.78102429])"
            ]
          },
          "metadata": {
            "tags": []
          },
          "execution_count": 12
        }
      ]
    },
    {
      "cell_type": "code",
      "metadata": {
        "colab": {
          "base_uri": "https://localhost:8080/"
        },
        "id": "jw4AhP0ChccB",
        "outputId": "5c943df1-f98f-4f4e-da02-66184690dd14"
      },
      "source": [
        "f_Pb_T(T_vetor, P_flash, z, lista_componentes, dados)"
      ],
      "execution_count": null,
      "outputs": [
        {
          "output_type": "execute_result",
          "data": {
            "text/plain": [
              "array([-0.14737204, -0.22211566, -0.30060774, -0.38297379, -0.46934087,\n",
              "       -0.55983755, -0.65459381, -0.75374104, -0.85741192, -0.96574039])"
            ]
          },
          "metadata": {
            "tags": []
          },
          "execution_count": 13
        }
      ]
    },
    {
      "cell_type": "code",
      "metadata": {
        "id": "ASzyzF8Ys9XM"
      },
      "source": [
        "import matplotlib.pyplot as plt"
      ],
      "execution_count": null,
      "outputs": []
    },
    {
      "cell_type": "code",
      "metadata": {
        "colab": {
          "base_uri": "https://localhost:8080/",
          "height": 295
        },
        "id": "awb1kgozsuyx",
        "outputId": "9866a4d8-b1cf-4bf1-8ce1-0277ba47667f"
      },
      "source": [
        "# Fazendo o gráfico da f_Pb_T\n",
        "fig1, ax1 = plt.subplots()\n",
        "ax1.plot(T_vetor,\n",
        "         f_Pb_T(T_vetor, P_flash, z, lista_componentes, dados),\n",
        "         'b', label='PB')\n",
        "#ax1.plot(C_A_eq_teste[:,0], q_A_prev, 'r-', label='mod')\n",
        "# Adicionando texto nos eixos - descrição\n",
        "ax1.set_xlabel('Temperatura, K')\n",
        "ax1.set_ylabel('f_Pb_T')\n",
        "# Adicionando título para a figura\n",
        "ax1.set_title('Função para o cálculo do ponto de bolha')\n",
        "# Adicionando uma legenda\n",
        "ax1.legend()\n",
        "ax1.grid()"
      ],
      "execution_count": null,
      "outputs": [
        {
          "output_type": "display_data",
          "data": {
            "image/png": "[encoded data removed]",
            "text/plain": [
              "<Figure size 432x288 with 1 Axes>"
            ]
          },
          "metadata": {
            "tags": [],
            "needs_background": "light"
          }
        }
      ]
    },
    {
      "cell_type": "code",
      "metadata": {
        "id": "6435dOhJdPu9"
      },
      "source": [
        "from scipy.optimize import fsolve"
      ],
      "execution_count": null,
      "outputs": []
    },
    {
      "cell_type": "code",
      "metadata": {
        "colab": {
          "base_uri": "https://localhost:8080/"
        },
        "id": "ENjkoiXZoJXw",
        "outputId": "b5ea7ef4-759f-418c-eca4-953b32a9ee0a"
      },
      "source": [
        "sum(T_eb_comp)/2"
      ],
      "execution_count": null,
      "outputs": [
        {
          "output_type": "execute_result",
          "data": {
            "text/plain": [
              "368.55"
            ]
          },
          "metadata": {
            "tags": []
          },
          "execution_count": 17
        }
      ]
    },
    {
      "cell_type": "code",
      "metadata": {
        "colab": {
          "base_uri": "https://localhost:8080/"
        },
        "id": "i3pufGE0djoy",
        "outputId": "ae08c70c-26d7-4823-b494-743787f32ae9"
      },
      "source": [
        "T_Pb = fsolve(f_Pb_T, sum(T_eb_comp)/2, args=(P_flash, z, lista_componentes, dados))[0]\n",
        "T_Pb"
      ],
      "execution_count": null,
      "outputs": [
        {
          "output_type": "execute_result",
          "data": {
            "text/plain": [
              "365.2633698278335"
            ]
          },
          "metadata": {
            "tags": []
          },
          "execution_count": 18
        }
      ]
    },
    {
      "cell_type": "code",
      "metadata": {
        "id": "BtfE18Beo3EJ"
      },
      "source": [
        "def f_Po_T(Temp,P,z,lista_componentes,dados):\n",
        "  if (type(Temp) == float):\n",
        "    Temp = np.array([Temp])\n",
        "  nc = len(z)\n",
        "  nr = len(Temp)\n",
        "  MP = np.empty((nr,nc))\n",
        "  y = z\n",
        "  k = 0\n",
        "  for i_comp in lista_componentes:\n",
        "    P_vap_comp = f_Pvap_Antoine_db(Temp, i_comp, dados)[0]\n",
        "    K_comp = P_vap_comp / P_flash\n",
        "    MP[:,k] = y[k] / K_comp\n",
        "    k += 1\n",
        "  f = 1 - np.sum(MP, axis=1)\n",
        "  return f"
      ],
      "execution_count": null,
      "outputs": []
    },
    {
      "cell_type": "code",
      "metadata": {
        "colab": {
          "base_uri": "https://localhost:8080/",
          "height": 295
        },
        "id": "1DbOWKSuuAot",
        "outputId": "de86e57c-244d-4bfc-da42-ddd040f925a8"
      },
      "source": [
        "# Fazendo o gráfico da f_Po_T\n",
        "fig1, ax1 = plt.subplots()\n",
        "ax1.plot(T_vetor,\n",
        "         f_Po_T(T_vetor, P_flash, z, lista_componentes, dados),\n",
        "         'r', label='PO')\n",
        "#ax1.plot(C_A_eq_teste[:,0], q_A_prev, 'r-', label='mod')\n",
        "# Adicionando texto nos eixos - descrição\n",
        "ax1.set_xlabel('Temperatura, K')\n",
        "ax1.set_ylabel('f_Po_T')\n",
        "# Adicionando título para a figura\n",
        "ax1.set_title('Função para o cálculo do ponto de bolha')\n",
        "# Adicionando uma legenda\n",
        "ax1.legend()\n",
        "ax1.grid()"
      ],
      "execution_count": null,
      "outputs": [
        {
          "output_type": "display_data",
          "data": {
            "image/png": "[encoded data removed]",
            "text/plain": [
              "<Figure size 432x288 with 1 Axes>"
            ]
          },
          "metadata": {
            "tags": [],
            "needs_background": "light"
          }
        }
      ]
    },
    {
      "cell_type": "code",
      "metadata": {
        "colab": {
          "base_uri": "https://localhost:8080/"
        },
        "id": "iwtGyPtEptQH",
        "outputId": "cc671901-6504-4e3d-be1d-e095b7d4e0b9"
      },
      "source": [
        "T_Po = fsolve(f_Po_T, sum(T_eb_comp)/2, args=(P_flash, z, lista_componentes, dados))[0]\n",
        "T_Po"
      ],
      "execution_count": null,
      "outputs": [
        {
          "output_type": "execute_result",
          "data": {
            "text/plain": [
              "371.92390420927444"
            ]
          },
          "metadata": {
            "tags": []
          },
          "execution_count": 21
        }
      ]
    }
  ]
}