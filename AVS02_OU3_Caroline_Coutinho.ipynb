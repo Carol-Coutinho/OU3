{
  "nbformat": 4,
  "nbformat_minor": 0,
  "metadata": {
    "colab": {
      "provenance": [],
      "collapsed_sections": [],
      "mount_file_id": "19Risjd41NMVHC7PNmsVU9g5flrlOygk1",
      "authorship_tag": "ABX9TyPC89C7p+E4ezM7xzz2gT5j",
      "include_colab_link": true
    },
    "kernelspec": {
      "name": "python3",
      "display_name": "Python 3"
    },
    "language_info": {
      "name": "python"
    }
  },
  "cells": [
    {
      "cell_type": "markdown",
      "metadata": {
        "id": "view-in-github",
        "colab_type": "text"
      },
      "source": [
        "<a href=\"https://colab.research.google.com/github/Carol-Coutinho/OU3/blob/main/AVS02_OU3_Caroline_Coutinho.ipynb\" target=\"_parent\"><img src=\"https://colab.research.google.com/assets/colab-badge.svg\" alt=\"Open In Colab\"/></a>"
      ]
    },
    {
      "cell_type": "markdown",
      "metadata": {
        "id": "y-ZCDSjbqraV"
      },
      "source": [
        "## AVS_02_OU3\n",
        "\n",
        "Caroline Coutinho\n",
        "\n",
        "##Parte 1: \n",
        "\n",
        "Flash Isotérmico Binário por Rachford-Rice.\n",
        "\n",
        "Mistura escolhida: Tolueno e Benzeno."
      ]
    },
    {
      "cell_type": "markdown",
      "metadata": {
        "id": "p2lF6W9HrSH5"
      },
      "source": [
        "Primeiro vamos preparar o Kernel:"
      ]
    },
    {
      "cell_type": "code",
      "metadata": {
        "id": "bGaP4R8P2wVv",
        "colab": {
          "base_uri": "https://localhost:8080/"
        },
        "outputId": "d6fba949-7846-4b25-b572-7999f05b9032"
      },
      "source": [
        "# Preparando kernel\n",
        "import pandas as pd\n",
        "#import pickle\n",
        "!pip3 install pickle5\n",
        "import pickle5 as pickl\n",
        "import numpy as np\n",
        "import matplotlib.pyplot as plt"
      ],
      "execution_count": null,
      "outputs": [
        {
          "output_type": "stream",
          "name": "stdout",
          "text": [
            "Collecting pickle5\n",
            "  Downloading pickle5-0.0.11.tar.gz (132 kB)\n",
            "\u001b[?25l\r\u001b[K     |██▌                             | 10 kB 897 kB/s eta 0:00:01\r\u001b[K     |█████                           | 20 kB 1.7 MB/s eta 0:00:01\r\u001b[K     |███████▍                        | 30 kB 2.5 MB/s eta 0:00:01\r\u001b[K     |██████████                      | 40 kB 3.2 MB/s eta 0:00:01\r\u001b[K     |████████████▍                   | 51 kB 3.7 MB/s eta 0:00:01\r\u001b[K     |██████████████▉                 | 61 kB 4.3 MB/s eta 0:00:01\r\u001b[K     |█████████████████▍              | 71 kB 4.8 MB/s eta 0:00:01\r\u001b[K     |███████████████████▉            | 81 kB 5.4 MB/s eta 0:00:01\r\u001b[K     |██████████████████████▎         | 92 kB 6.0 MB/s eta 0:00:01\r\u001b[K     |████████████████████████▉       | 102 kB 6.5 MB/s eta 0:00:01\r\u001b[K     |███████████████████████████▎    | 112 kB 6.5 MB/s eta 0:00:01\r\u001b[K     |█████████████████████████████▊  | 122 kB 6.5 MB/s eta 0:00:01\r\u001b[K     |████████████████████████████████| 132 kB 6.5 MB/s \n",
            "\u001b[?25hBuilding wheels for collected packages: pickle5\n",
            "  Building wheel for pickle5 (setup.py) ... \u001b[?25l\u001b[?25hdone\n",
            "  Created wheel for pickle5: filename=pickle5-0.0.11-cp37-cp37m-linux_x86_64.whl size=219301 sha256=df7f369ca3bb6458d4be5ce68f002a55bc508156f743527dbd4f0e31cc48a27f\n",
            "  Stored in directory: /root/.cache/pip/wheels/7e/6a/00/67136a90d6aca437d806d1d3cedf98106e840c97a3e5188198\n",
            "Successfully built pickle5\n",
            "Installing collected packages: pickle5\n",
            "Successfully installed pickle5-0.0.11\n"
          ]
        }
      ]
    },
    {
      "cell_type": "code",
      "metadata": {
        "id": "2EkTl3HVYzyE",
        "colab": {
          "base_uri": "https://localhost:8080/",
          "height": 212
        },
        "outputId": "202f1495-eb88-4cae-94e7-72d175033400"
      },
      "source": [
        "# Para ler/carregar\n",
        "with open('/content/databank_properties.pickle', 'rb') as handle:\n",
        "    dados, all_units = pickl.load(handle)"
      ],
      "execution_count": null,
      "outputs": [
        {
          "output_type": "error",
          "ename": "FileNotFoundError",
          "evalue": "ignored",
          "traceback": [
            "\u001b[0;31m---------------------------------------------------------------------------\u001b[0m",
            "\u001b[0;31mFileNotFoundError\u001b[0m                         Traceback (most recent call last)",
            "\u001b[0;32m<ipython-input-2-72e6bd0545eb>\u001b[0m in \u001b[0;36m<module>\u001b[0;34m()\u001b[0m\n\u001b[1;32m      1\u001b[0m \u001b[0;31m# Para ler/carregar\u001b[0m\u001b[0;34m\u001b[0m\u001b[0;34m\u001b[0m\u001b[0;34m\u001b[0m\u001b[0m\n\u001b[0;32m----> 2\u001b[0;31m \u001b[0;32mwith\u001b[0m \u001b[0mopen\u001b[0m\u001b[0;34m(\u001b[0m\u001b[0;34m'/content/databank_properties.pickle'\u001b[0m\u001b[0;34m,\u001b[0m \u001b[0;34m'rb'\u001b[0m\u001b[0;34m)\u001b[0m \u001b[0;32mas\u001b[0m \u001b[0mhandle\u001b[0m\u001b[0;34m:\u001b[0m\u001b[0;34m\u001b[0m\u001b[0;34m\u001b[0m\u001b[0m\n\u001b[0m\u001b[1;32m      3\u001b[0m     \u001b[0mdados\u001b[0m\u001b[0;34m,\u001b[0m \u001b[0mall_units\u001b[0m \u001b[0;34m=\u001b[0m \u001b[0mpickl\u001b[0m\u001b[0;34m.\u001b[0m\u001b[0mload\u001b[0m\u001b[0;34m(\u001b[0m\u001b[0mhandle\u001b[0m\u001b[0;34m)\u001b[0m\u001b[0;34m\u001b[0m\u001b[0;34m\u001b[0m\u001b[0m\n",
            "\u001b[0;31mFileNotFoundError\u001b[0m: [Errno 2] No such file or directory: '/content/databank_properties.pickle'"
          ]
        }
      ]
    },
    {
      "cell_type": "code",
      "metadata": {
        "id": "3FuGwev_6iio"
      },
      "source": [
        "# Carregamento das funções úteis\n",
        "from OU3_funcoes_uteis_v01 import *"
      ],
      "execution_count": null,
      "outputs": []
    },
    {
      "cell_type": "code",
      "metadata": {
        "id": "hscDrPzRTZdL"
      },
      "source": [
        "OU3_funcoes_uteis_v01.py"
      ],
      "execution_count": null,
      "outputs": []
    },
    {
      "cell_type": "markdown",
      "metadata": {
        "id": "PD8QIJAAZ-4M"
      },
      "source": [
        "Analisando o banco de dados e buscando os componentes necessários: Tolueno e Benzeno.\n"
      ]
    },
    {
      "cell_type": "code",
      "metadata": {
        "id": "TDhKYy8EaK_a",
        "colab": {
          "base_uri": "https://localhost:8080/"
        },
        "outputId": "35d740e8-ad6e-4928-d396-d4a8a4567683"
      },
      "source": [
        "dados.shape\n"
      ],
      "execution_count": null,
      "outputs": [
        {
          "output_type": "execute_result",
          "data": {
            "text/plain": [
              "(468, 31)"
            ]
          },
          "metadata": {
            "tags": []
          },
          "execution_count": 4
        }
      ]
    },
    {
      "cell_type": "code",
      "metadata": {
        "id": "kVyoq7dJad_F",
        "colab": {
          "base_uri": "https://localhost:8080/"
        },
        "outputId": "0887fe1d-4baf-467b-d3db-18339d74d98a"
      },
      "source": [
        "dados.columns"
      ],
      "execution_count": null,
      "outputs": [
        {
          "output_type": "execute_result",
          "data": {
            "text/plain": [
              "Index(['num', 'name', 'molar_mass', 'fusion_point', 'boiling_point',\n",
              "       'critical_temp', 'critical_pressure', 'critical_volume', 'zc',\n",
              "       'acentric_factor', 'liq_density', 'temp_ref_liq_density',\n",
              "       'dipole_moment', 'cp_a', 'cp_b', 'cp_c', 'cp_d', 'visc_b', 'visc_c',\n",
              "       'delta_h0f_gas', 'delta_g0f_gas', 'pvap_a', 'pvap_b', 'pvap_c',\n",
              "       'temp_max_pvap', 'temp_min_pvap', 'pvap_h_a', 'pvap_h_b', 'pvap_h_c',\n",
              "       'pvap_h_d', 'delta_h_vap_bp'],\n",
              "      dtype='object')"
            ]
          },
          "metadata": {
            "tags": []
          },
          "execution_count": 5
        }
      ]
    },
    {
      "cell_type": "code",
      "metadata": {
        "id": "9Z_jR3XpcFHT",
        "colab": {
          "base_uri": "https://localhost:8080/",
          "height": 1000
        },
        "outputId": "b555f262-ed22-473d-94b2-17bcb85a7e76"
      },
      "source": [
        "# Buscando o primeiro componente:\n",
        "filtro1 = dados.name.str.contains('BENZENE')\n",
        "dados[filtro1]\n"
      ],
      "execution_count": null,
      "outputs": [
        {
          "output_type": "execute_result",
          "data": {
            "text/html": [
              "<div>\n",
              "<style scoped>\n",
              "    .dataframe tbody tr th:only-of-type {\n",
              "        vertical-align: middle;\n",
              "    }\n",
              "\n",
              "    .dataframe tbody tr th {\n",
              "        vertical-align: top;\n",
              "    }\n",
              "\n",
              "    .dataframe thead th {\n",
              "        text-align: right;\n",
              "    }\n",
              "</style>\n",
              "<table border=\"1\" class=\"dataframe\">\n",
              "  <thead>\n",
              "    <tr style=\"text-align: right;\">\n",
              "      <th></th>\n",
              "      <th>num</th>\n",
              "      <th>name</th>\n",
              "      <th>molar_mass</th>\n",
              "      <th>fusion_point</th>\n",
              "      <th>boiling_point</th>\n",
              "      <th>critical_temp</th>\n",
              "      <th>critical_pressure</th>\n",
              "      <th>critical_volume</th>\n",
              "      <th>zc</th>\n",
              "      <th>acentric_factor</th>\n",
              "      <th>liq_density</th>\n",
              "      <th>temp_ref_liq_density</th>\n",
              "      <th>dipole_moment</th>\n",
              "      <th>cp_a</th>\n",
              "      <th>cp_b</th>\n",
              "      <th>cp_c</th>\n",
              "      <th>cp_d</th>\n",
              "      <th>visc_b</th>\n",
              "      <th>visc_c</th>\n",
              "      <th>delta_h0f_gas</th>\n",
              "      <th>delta_g0f_gas</th>\n",
              "      <th>pvap_a</th>\n",
              "      <th>pvap_b</th>\n",
              "      <th>pvap_c</th>\n",
              "      <th>temp_max_pvap</th>\n",
              "      <th>temp_min_pvap</th>\n",
              "      <th>pvap_h_a</th>\n",
              "      <th>pvap_h_b</th>\n",
              "      <th>pvap_h_c</th>\n",
              "      <th>pvap_h_d</th>\n",
              "      <th>delta_h_vap_bp</th>\n",
              "    </tr>\n",
              "  </thead>\n",
              "  <tbody>\n",
              "    <tr>\n",
              "      <th>14</th>\n",
              "      <td>383</td>\n",
              "      <td>1,2,3-TRIMETHYLBENZENE</td>\n",
              "      <td>120.195</td>\n",
              "      <td>247.7</td>\n",
              "      <td>449.2</td>\n",
              "      <td>664.5</td>\n",
              "      <td>34.1</td>\n",
              "      <td>430.0</td>\n",
              "      <td>0.270</td>\n",
              "      <td>0.390</td>\n",
              "      <td>0.894</td>\n",
              "      <td>293.0</td>\n",
              "      <td>0.6</td>\n",
              "      <td>-1.658000</td>\n",
              "      <td>0.151300</td>\n",
              "      <td>-0.000079</td>\n",
              "      <td>1.579000e-08</td>\n",
              "      <td>NaN</td>\n",
              "      <td>NaN</td>\n",
              "      <td>-2.29</td>\n",
              "      <td>29.77</td>\n",
              "      <td>16.2121</td>\n",
              "      <td>3670.22</td>\n",
              "      <td>-66.07</td>\n",
              "      <td>479.00</td>\n",
              "      <td>329.0</td>\n",
              "      <td>NaN</td>\n",
              "      <td>NaN</td>\n",
              "      <td>NaN</td>\n",
              "      <td>NaN</td>\n",
              "      <td>9570.0</td>\n",
              "    </tr>\n",
              "    <tr>\n",
              "      <th>16</th>\n",
              "      <td>384</td>\n",
              "      <td>1,2,4-TRIMETHYLBENZENE</td>\n",
              "      <td>120.195</td>\n",
              "      <td>227.0</td>\n",
              "      <td>442.5</td>\n",
              "      <td>649.1</td>\n",
              "      <td>31.9</td>\n",
              "      <td>430.0</td>\n",
              "      <td>0.258</td>\n",
              "      <td>0.390</td>\n",
              "      <td>0.880</td>\n",
              "      <td>289.0</td>\n",
              "      <td>0.3</td>\n",
              "      <td>-1.115000</td>\n",
              "      <td>0.149000</td>\n",
              "      <td>-0.000078</td>\n",
              "      <td>1.523000e-08</td>\n",
              "      <td>872.74</td>\n",
              "      <td>297.75</td>\n",
              "      <td>-3.33</td>\n",
              "      <td>27.95</td>\n",
              "      <td>16.2190</td>\n",
              "      <td>3622.58</td>\n",
              "      <td>-64.59</td>\n",
              "      <td>471.00</td>\n",
              "      <td>324.0</td>\n",
              "      <td>56.241</td>\n",
              "      <td>-7256.56</td>\n",
              "      <td>-5.459</td>\n",
              "      <td>7.270</td>\n",
              "      <td>9380.0</td>\n",
              "    </tr>\n",
              "    <tr>\n",
              "      <th>24</th>\n",
              "      <td>385</td>\n",
              "      <td>1,3,5-TRIMETHYLBENZENE</td>\n",
              "      <td>120.195</td>\n",
              "      <td>228.4</td>\n",
              "      <td>437.9</td>\n",
              "      <td>637.3</td>\n",
              "      <td>30.9</td>\n",
              "      <td>433.0</td>\n",
              "      <td>0.260</td>\n",
              "      <td>0.398</td>\n",
              "      <td>0.865</td>\n",
              "      <td>293.0</td>\n",
              "      <td>0.1</td>\n",
              "      <td>-4.679000</td>\n",
              "      <td>0.160600</td>\n",
              "      <td>-0.000088</td>\n",
              "      <td>1.839000e-08</td>\n",
              "      <td>437.52</td>\n",
              "      <td>268.27</td>\n",
              "      <td>3.84</td>\n",
              "      <td>28.19</td>\n",
              "      <td>16.2893</td>\n",
              "      <td>3614.19</td>\n",
              "      <td>-63.57</td>\n",
              "      <td>466.00</td>\n",
              "      <td>321.0</td>\n",
              "      <td>58.041</td>\n",
              "      <td>-7326.78</td>\n",
              "      <td>-5.706</td>\n",
              "      <td>7.220</td>\n",
              "      <td>9330.0</td>\n",
              "    </tr>\n",
              "    <tr>\n",
              "      <th>28</th>\n",
              "      <td>407</td>\n",
              "      <td>1,4-DIETHYLBENZENE</td>\n",
              "      <td>134.222</td>\n",
              "      <td>231.0</td>\n",
              "      <td>456.9</td>\n",
              "      <td>657.9</td>\n",
              "      <td>27.7</td>\n",
              "      <td>480.0</td>\n",
              "      <td>0.250</td>\n",
              "      <td>0.403</td>\n",
              "      <td>0.862</td>\n",
              "      <td>293.0</td>\n",
              "      <td>0.1</td>\n",
              "      <td>-8.937000</td>\n",
              "      <td>0.207100</td>\n",
              "      <td>-0.000133</td>\n",
              "      <td>3.370000e-08</td>\n",
              "      <td>NaN</td>\n",
              "      <td>NaN</td>\n",
              "      <td>-5.32</td>\n",
              "      <td>32.95</td>\n",
              "      <td>16.1140</td>\n",
              "      <td>3657.22</td>\n",
              "      <td>-71.18</td>\n",
              "      <td>487.00</td>\n",
              "      <td>335.0</td>\n",
              "      <td>NaN</td>\n",
              "      <td>NaN</td>\n",
              "      <td>NaN</td>\n",
              "      <td>NaN</td>\n",
              "      <td>9410.0</td>\n",
              "    </tr>\n",
              "    <tr>\n",
              "      <th>45</th>\n",
              "      <td>380</td>\n",
              "      <td>1-METHYL-2-ETHYLBENZENE</td>\n",
              "      <td>120.195</td>\n",
              "      <td>192.3</td>\n",
              "      <td>438.3</td>\n",
              "      <td>651.0</td>\n",
              "      <td>30.0</td>\n",
              "      <td>460.0</td>\n",
              "      <td>0.260</td>\n",
              "      <td>0.294</td>\n",
              "      <td>0.881</td>\n",
              "      <td>293.0</td>\n",
              "      <td>0.0</td>\n",
              "      <td>-3.928000</td>\n",
              "      <td>0.167100</td>\n",
              "      <td>-0.000098</td>\n",
              "      <td>2.228000e-08</td>\n",
              "      <td>NaN</td>\n",
              "      <td>NaN</td>\n",
              "      <td>0.29</td>\n",
              "      <td>31.33</td>\n",
              "      <td>16.1253</td>\n",
              "      <td>3535.33</td>\n",
              "      <td>-65.85</td>\n",
              "      <td>467.00</td>\n",
              "      <td>321.0</td>\n",
              "      <td>64.337</td>\n",
              "      <td>-7662.94</td>\n",
              "      <td>-6.617</td>\n",
              "      <td>7.180</td>\n",
              "      <td>9290.0</td>\n",
              "    </tr>\n",
              "    <tr>\n",
              "      <th>46</th>\n",
              "      <td>404</td>\n",
              "      <td>1-METHYL-2-ISOPROPYLBENZENE</td>\n",
              "      <td>134.222</td>\n",
              "      <td>NaN</td>\n",
              "      <td>451.5</td>\n",
              "      <td>670.0</td>\n",
              "      <td>28.6</td>\n",
              "      <td>NaN</td>\n",
              "      <td>NaN</td>\n",
              "      <td>0.277</td>\n",
              "      <td>0.876</td>\n",
              "      <td>293.0</td>\n",
              "      <td>0.0</td>\n",
              "      <td>NaN</td>\n",
              "      <td>NaN</td>\n",
              "      <td>NaN</td>\n",
              "      <td>NaN</td>\n",
              "      <td>NaN</td>\n",
              "      <td>NaN</td>\n",
              "      <td>0.00</td>\n",
              "      <td>0.00</td>\n",
              "      <td>15.9809</td>\n",
              "      <td>3564.52</td>\n",
              "      <td>-70.00</td>\n",
              "      <td>481.00</td>\n",
              "      <td>330.0</td>\n",
              "      <td>NaN</td>\n",
              "      <td>NaN</td>\n",
              "      <td>NaN</td>\n",
              "      <td>NaN</td>\n",
              "      <td>0.0</td>\n",
              "    </tr>\n",
              "    <tr>\n",
              "      <th>47</th>\n",
              "      <td>405</td>\n",
              "      <td>1-METHYL-2-ISOPROPYLBENZENE</td>\n",
              "      <td>134.222</td>\n",
              "      <td>NaN</td>\n",
              "      <td>448.3</td>\n",
              "      <td>666.0</td>\n",
              "      <td>29.0</td>\n",
              "      <td>NaN</td>\n",
              "      <td>NaN</td>\n",
              "      <td>0.279</td>\n",
              "      <td>0.861</td>\n",
              "      <td>293.0</td>\n",
              "      <td>0.0</td>\n",
              "      <td>-11.646000</td>\n",
              "      <td>0.216500</td>\n",
              "      <td>-0.000145</td>\n",
              "      <td>3.887000e-08</td>\n",
              "      <td>NaN</td>\n",
              "      <td>NaN</td>\n",
              "      <td>-7.00</td>\n",
              "      <td>0.00</td>\n",
              "      <td>15.9811</td>\n",
              "      <td>3543.79</td>\n",
              "      <td>-69.22</td>\n",
              "      <td>478.00</td>\n",
              "      <td>328.0</td>\n",
              "      <td>67.726</td>\n",
              "      <td>-8033.58</td>\n",
              "      <td>-7.076</td>\n",
              "      <td>8.390</td>\n",
              "      <td>9110.0</td>\n",
              "    </tr>\n",
              "    <tr>\n",
              "      <th>48</th>\n",
              "      <td>381</td>\n",
              "      <td>1-METHYL-3-ETHYLBENZENE</td>\n",
              "      <td>120.195</td>\n",
              "      <td>177.6</td>\n",
              "      <td>434.5</td>\n",
              "      <td>637.0</td>\n",
              "      <td>28.0</td>\n",
              "      <td>490.0</td>\n",
              "      <td>0.260</td>\n",
              "      <td>0.360</td>\n",
              "      <td>0.865</td>\n",
              "      <td>293.0</td>\n",
              "      <td>0.0</td>\n",
              "      <td>-6.926000</td>\n",
              "      <td>0.174200</td>\n",
              "      <td>-0.000104</td>\n",
              "      <td>2.388000e+00</td>\n",
              "      <td>8.00</td>\n",
              "      <td>0.00</td>\n",
              "      <td>0.00</td>\n",
              "      <td>-0.46</td>\n",
              "      <td>30.2200</td>\n",
              "      <td>16.15</td>\n",
              "      <td>3521.08</td>\n",
              "      <td>-64.64</td>\n",
              "      <td>463.0</td>\n",
              "      <td>318.000</td>\n",
              "      <td>65.67</td>\n",
              "      <td>-7678.110</td>\n",
              "      <td>-6.815</td>\n",
              "      <td>7.2</td>\n",
              "    </tr>\n",
              "    <tr>\n",
              "      <th>49</th>\n",
              "      <td>382</td>\n",
              "      <td>1-METHYL-4-ETHYLBENZENE</td>\n",
              "      <td>120.195</td>\n",
              "      <td>210.8</td>\n",
              "      <td>435.2</td>\n",
              "      <td>640.0</td>\n",
              "      <td>29.0</td>\n",
              "      <td>470.0</td>\n",
              "      <td>0.260</td>\n",
              "      <td>0.322</td>\n",
              "      <td>0.861</td>\n",
              "      <td>293.0</td>\n",
              "      <td>0.0</td>\n",
              "      <td>-6.523000</td>\n",
              "      <td>0.171400</td>\n",
              "      <td>-0.000101</td>\n",
              "      <td>2.279000e-08</td>\n",
              "      <td>463.17</td>\n",
              "      <td>266.08</td>\n",
              "      <td>-0.49</td>\n",
              "      <td>30.28</td>\n",
              "      <td>16.1135</td>\n",
              "      <td>3516.31</td>\n",
              "      <td>-64.23</td>\n",
              "      <td>463.00</td>\n",
              "      <td>318.0</td>\n",
              "      <td>61.404</td>\n",
              "      <td>-7422.59</td>\n",
              "      <td>-6.212</td>\n",
              "      <td>7.230</td>\n",
              "      <td>9180.0</td>\n",
              "    </tr>\n",
              "    <tr>\n",
              "      <th>50</th>\n",
              "      <td>406</td>\n",
              "      <td>1-METHYL-4-ISOPROPYLBENZENE</td>\n",
              "      <td>134.222</td>\n",
              "      <td>200.0</td>\n",
              "      <td>450.3</td>\n",
              "      <td>653.0</td>\n",
              "      <td>27.9</td>\n",
              "      <td>NaN</td>\n",
              "      <td>NaN</td>\n",
              "      <td>0.371</td>\n",
              "      <td>0.857</td>\n",
              "      <td>293.0</td>\n",
              "      <td>0.0</td>\n",
              "      <td>NaN</td>\n",
              "      <td>NaN</td>\n",
              "      <td>NaN</td>\n",
              "      <td>NaN</td>\n",
              "      <td>NaN</td>\n",
              "      <td>NaN</td>\n",
              "      <td>0.00</td>\n",
              "      <td>0.00</td>\n",
              "      <td>15.9424</td>\n",
              "      <td>3539.21</td>\n",
              "      <td>-70.10</td>\n",
              "      <td>480.00</td>\n",
              "      <td>329.0</td>\n",
              "      <td>63.225</td>\n",
              "      <td>-7800.97</td>\n",
              "      <td>-6.432</td>\n",
              "      <td>8.410</td>\n",
              "      <td>0.0</td>\n",
              "    </tr>\n",
              "    <tr>\n",
              "      <th>161</th>\n",
              "      <td>242</td>\n",
              "      <td>BENZENE</td>\n",
              "      <td>78.114</td>\n",
              "      <td>278.7</td>\n",
              "      <td>353.3</td>\n",
              "      <td>562.1</td>\n",
              "      <td>48.3</td>\n",
              "      <td>259.0</td>\n",
              "      <td>0.271</td>\n",
              "      <td>0.212</td>\n",
              "      <td>0.885</td>\n",
              "      <td>289.0</td>\n",
              "      <td>0.0</td>\n",
              "      <td>-0.409341</td>\n",
              "      <td>0.077624</td>\n",
              "      <td>-0.000026</td>\n",
              "      <td>4.404292e-21</td>\n",
              "      <td>545.64</td>\n",
              "      <td>265.34</td>\n",
              "      <td>19.82</td>\n",
              "      <td>30.99</td>\n",
              "      <td>15.9008</td>\n",
              "      <td>2788.51</td>\n",
              "      <td>-52.36</td>\n",
              "      <td>377.00</td>\n",
              "      <td>280.0</td>\n",
              "      <td>52.100</td>\n",
              "      <td>-5557.61</td>\n",
              "      <td>-5.072</td>\n",
              "      <td>3.610</td>\n",
              "      <td>7352.0</td>\n",
              "    </tr>\n",
              "    <tr>\n",
              "      <th>168</th>\n",
              "      <td>238</td>\n",
              "      <td>BROMOBENZENE</td>\n",
              "      <td>157.010</td>\n",
              "      <td>242.3</td>\n",
              "      <td>429.3</td>\n",
              "      <td>670.0</td>\n",
              "      <td>44.6</td>\n",
              "      <td>324.0</td>\n",
              "      <td>0.263</td>\n",
              "      <td>0.249</td>\n",
              "      <td>1.495</td>\n",
              "      <td>293.0</td>\n",
              "      <td>1.5</td>\n",
              "      <td>-6.880000</td>\n",
              "      <td>0.127800</td>\n",
              "      <td>-0.000097</td>\n",
              "      <td>2.894000e-08</td>\n",
              "      <td>508.18</td>\n",
              "      <td>302.42</td>\n",
              "      <td>25.10</td>\n",
              "      <td>33.11</td>\n",
              "      <td>15.7972</td>\n",
              "      <td>3313.00</td>\n",
              "      <td>-67.71</td>\n",
              "      <td>450.00</td>\n",
              "      <td>320.0</td>\n",
              "      <td>56.566</td>\n",
              "      <td>-7005.23</td>\n",
              "      <td>-5.548</td>\n",
              "      <td>5.590</td>\n",
              "      <td>0.0</td>\n",
              "    </tr>\n",
              "    <tr>\n",
              "      <th>182</th>\n",
              "      <td>239</td>\n",
              "      <td>CHLOROBENZENE</td>\n",
              "      <td>112.559</td>\n",
              "      <td>227.6</td>\n",
              "      <td>404.9</td>\n",
              "      <td>632.4</td>\n",
              "      <td>44.6</td>\n",
              "      <td>308.0</td>\n",
              "      <td>0.265</td>\n",
              "      <td>0.249</td>\n",
              "      <td>1.106</td>\n",
              "      <td>293.0</td>\n",
              "      <td>1.6</td>\n",
              "      <td>-8.094000</td>\n",
              "      <td>0.134500</td>\n",
              "      <td>-0.000108</td>\n",
              "      <td>3.407000e-08</td>\n",
              "      <td>477.76</td>\n",
              "      <td>276.22</td>\n",
              "      <td>12.39</td>\n",
              "      <td>23.70</td>\n",
              "      <td>16.0676</td>\n",
              "      <td>3295.12</td>\n",
              "      <td>-55.60</td>\n",
              "      <td>420.00</td>\n",
              "      <td>320.0</td>\n",
              "      <td>57.251</td>\n",
              "      <td>-6684.47</td>\n",
              "      <td>-5.686</td>\n",
              "      <td>4.980</td>\n",
              "      <td>8735.0</td>\n",
              "    </tr>\n",
              "    <tr>\n",
              "      <th>248</th>\n",
              "      <td>325</td>\n",
              "      <td>ETHYLBENZENE</td>\n",
              "      <td>106.168</td>\n",
              "      <td>178.2</td>\n",
              "      <td>409.3</td>\n",
              "      <td>617.1</td>\n",
              "      <td>35.6</td>\n",
              "      <td>374.0</td>\n",
              "      <td>0.263</td>\n",
              "      <td>0.301</td>\n",
              "      <td>0.867</td>\n",
              "      <td>293.0</td>\n",
              "      <td>0.4</td>\n",
              "      <td>-10.294000</td>\n",
              "      <td>0.168900</td>\n",
              "      <td>-0.000115</td>\n",
              "      <td>3.107000e-08</td>\n",
              "      <td>472.82</td>\n",
              "      <td>264.22</td>\n",
              "      <td>7.12</td>\n",
              "      <td>31.21</td>\n",
              "      <td>16.0195</td>\n",
              "      <td>3279.47</td>\n",
              "      <td>-59.95</td>\n",
              "      <td>450.00</td>\n",
              "      <td>300.0</td>\n",
              "      <td>58.100</td>\n",
              "      <td>-6792.54</td>\n",
              "      <td>-5.802</td>\n",
              "      <td>5.750</td>\n",
              "      <td>8500.0</td>\n",
              "    </tr>\n",
              "    <tr>\n",
              "      <th>257</th>\n",
              "      <td>240</td>\n",
              "      <td>FLUOROBENZENE</td>\n",
              "      <td>96.104</td>\n",
              "      <td>234.0</td>\n",
              "      <td>358.5</td>\n",
              "      <td>560.1</td>\n",
              "      <td>44.9</td>\n",
              "      <td>271.0</td>\n",
              "      <td>0.265</td>\n",
              "      <td>0.245</td>\n",
              "      <td>1.024</td>\n",
              "      <td>293.0</td>\n",
              "      <td>1.4</td>\n",
              "      <td>-9.250000</td>\n",
              "      <td>0.135400</td>\n",
              "      <td>-0.000106</td>\n",
              "      <td>3.237000e-08</td>\n",
              "      <td>452.06</td>\n",
              "      <td>252.89</td>\n",
              "      <td>-27.86</td>\n",
              "      <td>-16.50</td>\n",
              "      <td>16.5487</td>\n",
              "      <td>3181.78</td>\n",
              "      <td>-37.59</td>\n",
              "      <td>370.00</td>\n",
              "      <td>250.0</td>\n",
              "      <td>55.141</td>\n",
              "      <td>-5819.21</td>\n",
              "      <td>-5.489</td>\n",
              "      <td>3.880</td>\n",
              "      <td>0.0</td>\n",
              "    </tr>\n",
              "    <tr>\n",
              "      <th>273</th>\n",
              "      <td>241</td>\n",
              "      <td>IODOBENZENE</td>\n",
              "      <td>204.011</td>\n",
              "      <td>241.8</td>\n",
              "      <td>461.4</td>\n",
              "      <td>721.0</td>\n",
              "      <td>44.6</td>\n",
              "      <td>351.0</td>\n",
              "      <td>0.265</td>\n",
              "      <td>0.246</td>\n",
              "      <td>1.855</td>\n",
              "      <td>277.0</td>\n",
              "      <td>1.4</td>\n",
              "      <td>-6.992000</td>\n",
              "      <td>0.132900</td>\n",
              "      <td>-0.000108</td>\n",
              "      <td>3.447000e-08</td>\n",
              "      <td>565.72</td>\n",
              "      <td>331.21</td>\n",
              "      <td>38.85</td>\n",
              "      <td>44.88</td>\n",
              "      <td>16.1454</td>\n",
              "      <td>3776.53</td>\n",
              "      <td>-64.38</td>\n",
              "      <td>470.00</td>\n",
              "      <td>290.0</td>\n",
              "      <td>57.691</td>\n",
              "      <td>-7589.50</td>\n",
              "      <td>-5.646</td>\n",
              "      <td>6.460</td>\n",
              "      <td>9440.0</td>\n",
              "    </tr>\n",
              "    <tr>\n",
              "      <th>279</th>\n",
              "      <td>401</td>\n",
              "      <td>ISOBUTYLBENZENE</td>\n",
              "      <td>134.222</td>\n",
              "      <td>221.7</td>\n",
              "      <td>445.9</td>\n",
              "      <td>650.0</td>\n",
              "      <td>31.0</td>\n",
              "      <td>480.0</td>\n",
              "      <td>0.280</td>\n",
              "      <td>0.378</td>\n",
              "      <td>0.853</td>\n",
              "      <td>293.0</td>\n",
              "      <td>0.3</td>\n",
              "      <td>NaN</td>\n",
              "      <td>NaN</td>\n",
              "      <td>NaN</td>\n",
              "      <td>NaN</td>\n",
              "      <td>NaN</td>\n",
              "      <td>NaN</td>\n",
              "      <td>-5.15</td>\n",
              "      <td>0.00</td>\n",
              "      <td>15.9524</td>\n",
              "      <td>3512.47</td>\n",
              "      <td>-69.03</td>\n",
              "      <td>476.00</td>\n",
              "      <td>326.0</td>\n",
              "      <td>NaN</td>\n",
              "      <td>NaN</td>\n",
              "      <td>NaN</td>\n",
              "      <td>NaN</td>\n",
              "      <td>9040.0</td>\n",
              "    </tr>\n",
              "    <tr>\n",
              "      <th>287</th>\n",
              "      <td>379</td>\n",
              "      <td>ISOPROPYLBENZENE</td>\n",
              "      <td>120.195</td>\n",
              "      <td>177.1</td>\n",
              "      <td>425.6</td>\n",
              "      <td>631.0</td>\n",
              "      <td>31.7</td>\n",
              "      <td>428.0</td>\n",
              "      <td>0.260</td>\n",
              "      <td>0.335</td>\n",
              "      <td>0.862</td>\n",
              "      <td>293.0</td>\n",
              "      <td>0.4</td>\n",
              "      <td>-9.042000</td>\n",
              "      <td>0.187300</td>\n",
              "      <td>-0.000121</td>\n",
              "      <td>3.084000e-08</td>\n",
              "      <td>517.17</td>\n",
              "      <td>276.22</td>\n",
              "      <td>0.94</td>\n",
              "      <td>32.74</td>\n",
              "      <td>15.9722</td>\n",
              "      <td>3363.60</td>\n",
              "      <td>-63.37</td>\n",
              "      <td>454.00</td>\n",
              "      <td>311.0</td>\n",
              "      <td>46.941</td>\n",
              "      <td>-6285.25</td>\n",
              "      <td>-4.227</td>\n",
              "      <td>6.860</td>\n",
              "      <td>8970.0</td>\n",
              "    </tr>\n",
              "    <tr>\n",
              "      <th>294</th>\n",
              "      <td>236</td>\n",
              "      <td>M-DICHLOROBENZENE</td>\n",
              "      <td>147.004</td>\n",
              "      <td>248.4</td>\n",
              "      <td>446.0</td>\n",
              "      <td>684.0</td>\n",
              "      <td>38.0</td>\n",
              "      <td>359.0</td>\n",
              "      <td>0.240</td>\n",
              "      <td>0.260</td>\n",
              "      <td>1.288</td>\n",
              "      <td>293.0</td>\n",
              "      <td>1.4</td>\n",
              "      <td>-3.246000</td>\n",
              "      <td>0.131200</td>\n",
              "      <td>-0.000108</td>\n",
              "      <td>3.408000e-08</td>\n",
              "      <td>402.20</td>\n",
              "      <td>300.89</td>\n",
              "      <td>6.32</td>\n",
              "      <td>18.78</td>\n",
              "      <td>16.8173</td>\n",
              "      <td>4104.13</td>\n",
              "      <td>-43.15</td>\n",
              "      <td>475.00</td>\n",
              "      <td>326.0</td>\n",
              "      <td>NaN</td>\n",
              "      <td>NaN</td>\n",
              "      <td>NaN</td>\n",
              "      <td>NaN</td>\n",
              "      <td>9230.0</td>\n",
              "    </tr>\n",
              "    <tr>\n",
              "      <th>338</th>\n",
              "      <td>400</td>\n",
              "      <td>N-BUTYLBENZENE</td>\n",
              "      <td>134.222</td>\n",
              "      <td>185.2</td>\n",
              "      <td>456.4</td>\n",
              "      <td>660.5</td>\n",
              "      <td>28.5</td>\n",
              "      <td>497.0</td>\n",
              "      <td>0.261</td>\n",
              "      <td>0.392</td>\n",
              "      <td>0.860</td>\n",
              "      <td>293.0</td>\n",
              "      <td>0.4</td>\n",
              "      <td>-5.491000</td>\n",
              "      <td>0.189500</td>\n",
              "      <td>-0.000105</td>\n",
              "      <td>2.047000e-08</td>\n",
              "      <td>563.84</td>\n",
              "      <td>296.01</td>\n",
              "      <td>-3.30</td>\n",
              "      <td>34.58</td>\n",
              "      <td>16.0793</td>\n",
              "      <td>3633.40</td>\n",
              "      <td>-71.77</td>\n",
              "      <td>486.00</td>\n",
              "      <td>335.0</td>\n",
              "      <td>NaN</td>\n",
              "      <td>NaN</td>\n",
              "      <td>NaN</td>\n",
              "      <td>NaN</td>\n",
              "      <td>9380.0</td>\n",
              "    </tr>\n",
              "    <tr>\n",
              "      <th>376</th>\n",
              "      <td>378</td>\n",
              "      <td>N-PROPYLBENZENE</td>\n",
              "      <td>120.195</td>\n",
              "      <td>173.7</td>\n",
              "      <td>432.4</td>\n",
              "      <td>638.3</td>\n",
              "      <td>31.6</td>\n",
              "      <td>440.0</td>\n",
              "      <td>0.265</td>\n",
              "      <td>0.344</td>\n",
              "      <td>0.862</td>\n",
              "      <td>293.0</td>\n",
              "      <td>0.4</td>\n",
              "      <td>-7.473000</td>\n",
              "      <td>0.178800</td>\n",
              "      <td>-0.000110</td>\n",
              "      <td>2.582000e-08</td>\n",
              "      <td>527.45</td>\n",
              "      <td>282.65</td>\n",
              "      <td>1.87</td>\n",
              "      <td>32.80</td>\n",
              "      <td>16.0062</td>\n",
              "      <td>3433.84</td>\n",
              "      <td>-66.01</td>\n",
              "      <td>461.00</td>\n",
              "      <td>316.0</td>\n",
              "      <td>NaN</td>\n",
              "      <td>NaN</td>\n",
              "      <td>NaN</td>\n",
              "      <td>NaN</td>\n",
              "      <td>9140.0</td>\n",
              "    </tr>\n",
              "    <tr>\n",
              "      <th>386</th>\n",
              "      <td>235</td>\n",
              "      <td>O-DICHLOROBENZENE</td>\n",
              "      <td>147.004</td>\n",
              "      <td>256.1</td>\n",
              "      <td>453.6</td>\n",
              "      <td>697.3</td>\n",
              "      <td>40.5</td>\n",
              "      <td>360.0</td>\n",
              "      <td>0.225</td>\n",
              "      <td>0.272</td>\n",
              "      <td>1.306</td>\n",
              "      <td>293.0</td>\n",
              "      <td>2.3</td>\n",
              "      <td>-3.416000</td>\n",
              "      <td>0.131500</td>\n",
              "      <td>-0.000108</td>\n",
              "      <td>3.414000e-08</td>\n",
              "      <td>554.35</td>\n",
              "      <td>319.07</td>\n",
              "      <td>7.16</td>\n",
              "      <td>19.76</td>\n",
              "      <td>16.2799</td>\n",
              "      <td>3798.23</td>\n",
              "      <td>-59.84</td>\n",
              "      <td>483.00</td>\n",
              "      <td>331.0</td>\n",
              "      <td>NaN</td>\n",
              "      <td>NaN</td>\n",
              "      <td>NaN</td>\n",
              "      <td>NaN</td>\n",
              "      <td>9480.0</td>\n",
              "    </tr>\n",
              "    <tr>\n",
              "      <th>394</th>\n",
              "      <td>237</td>\n",
              "      <td>P-DICLOROBENZENE</td>\n",
              "      <td>147.004</td>\n",
              "      <td>326.3</td>\n",
              "      <td>447.3</td>\n",
              "      <td>685.0</td>\n",
              "      <td>39.0</td>\n",
              "      <td>372.0</td>\n",
              "      <td>0.260</td>\n",
              "      <td>0.270</td>\n",
              "      <td>1.248</td>\n",
              "      <td>328.0</td>\n",
              "      <td>0.0</td>\n",
              "      <td>-3.426000</td>\n",
              "      <td>0.132200</td>\n",
              "      <td>-0.000109</td>\n",
              "      <td>3.458000e-08</td>\n",
              "      <td>483.82</td>\n",
              "      <td>312.03</td>\n",
              "      <td>5.50</td>\n",
              "      <td>18.44</td>\n",
              "      <td>16.1135</td>\n",
              "      <td>3626.83</td>\n",
              "      <td>-64.64</td>\n",
              "      <td>477.00</td>\n",
              "      <td>326.0</td>\n",
              "      <td>NaN</td>\n",
              "      <td>NaN</td>\n",
              "      <td>NaN</td>\n",
              "      <td>NaN</td>\n",
              "      <td>9270.0</td>\n",
              "    </tr>\n",
              "    <tr>\n",
              "      <th>395</th>\n",
              "      <td>232</td>\n",
              "      <td>PERFLUOROBENZENE</td>\n",
              "      <td>186.056</td>\n",
              "      <td>NaN</td>\n",
              "      <td>353.4</td>\n",
              "      <td>516.7</td>\n",
              "      <td>32.6</td>\n",
              "      <td>NaN</td>\n",
              "      <td>NaN</td>\n",
              "      <td>0.400</td>\n",
              "      <td>NaN</td>\n",
              "      <td>0.0</td>\n",
              "      <td>0.0</td>\n",
              "      <td>8.660000</td>\n",
              "      <td>0.125800</td>\n",
              "      <td>-0.000109</td>\n",
              "      <td>3.477000e-08</td>\n",
              "      <td>NaN</td>\n",
              "      <td>NaN</td>\n",
              "      <td>-228.64</td>\n",
              "      <td>-210.18</td>\n",
              "      <td>16.1940</td>\n",
              "      <td>2827.53</td>\n",
              "      <td>-57.66</td>\n",
              "      <td>390.00</td>\n",
              "      <td>270.0</td>\n",
              "      <td>74.686</td>\n",
              "      <td>-6815.04</td>\n",
              "      <td>-8.318</td>\n",
              "      <td>5.310</td>\n",
              "      <td>0.0</td>\n",
              "    </tr>\n",
              "    <tr>\n",
              "      <th>424</th>\n",
              "      <td>402</td>\n",
              "      <td>SEC-BUTYLBENZENE</td>\n",
              "      <td>134.222</td>\n",
              "      <td>197.7</td>\n",
              "      <td>446.5</td>\n",
              "      <td>664.0</td>\n",
              "      <td>29.1</td>\n",
              "      <td>NaN</td>\n",
              "      <td>NaN</td>\n",
              "      <td>0.274</td>\n",
              "      <td>0.862</td>\n",
              "      <td>293.0</td>\n",
              "      <td>0.4</td>\n",
              "      <td>-15.560000</td>\n",
              "      <td>0.236300</td>\n",
              "      <td>-0.000172</td>\n",
              "      <td>5.140000e-08</td>\n",
              "      <td>582.66</td>\n",
              "      <td>295.82</td>\n",
              "      <td>-4.17</td>\n",
              "      <td>0.00</td>\n",
              "      <td>15.9999</td>\n",
              "      <td>3544.19</td>\n",
              "      <td>-68.10</td>\n",
              "      <td>476.00</td>\n",
              "      <td>325.0</td>\n",
              "      <td>NaN</td>\n",
              "      <td>NaN</td>\n",
              "      <td>NaN</td>\n",
              "      <td>NaN</td>\n",
              "      <td>9070.0</td>\n",
              "    </tr>\n",
              "    <tr>\n",
              "      <th>435</th>\n",
              "      <td>403</td>\n",
              "      <td>TERT-BUTYLBENZENE</td>\n",
              "      <td>134.222</td>\n",
              "      <td>215.3</td>\n",
              "      <td>442.3</td>\n",
              "      <td>660.0</td>\n",
              "      <td>29.3</td>\n",
              "      <td>NaN</td>\n",
              "      <td>NaN</td>\n",
              "      <td>0.265</td>\n",
              "      <td>0.867</td>\n",
              "      <td>293.0</td>\n",
              "      <td>0.5</td>\n",
              "      <td>-20.541000</td>\n",
              "      <td>0.263200</td>\n",
              "      <td>-0.000209</td>\n",
              "      <td>6.751000e-08</td>\n",
              "      <td>NaN</td>\n",
              "      <td>NaN</td>\n",
              "      <td>-5.42</td>\n",
              "      <td>0.00</td>\n",
              "      <td>15.9300</td>\n",
              "      <td>3462.28</td>\n",
              "      <td>-69.87</td>\n",
              "      <td>472.00</td>\n",
              "      <td>323.0</td>\n",
              "      <td>NaN</td>\n",
              "      <td>NaN</td>\n",
              "      <td>NaN</td>\n",
              "      <td>NaN</td>\n",
              "      <td>8990.0</td>\n",
              "    </tr>\n",
              "  </tbody>\n",
              "</table>\n",
              "</div>"
            ],
            "text/plain": [
              "     num                         name  ...  pvap_h_d  delta_h_vap_bp\n",
              "14   383       1,2,3-TRIMETHYLBENZENE  ...       NaN          9570.0\n",
              "16   384       1,2,4-TRIMETHYLBENZENE  ...     7.270          9380.0\n",
              "24   385       1,3,5-TRIMETHYLBENZENE  ...     7.220          9330.0\n",
              "28   407           1,4-DIETHYLBENZENE  ...       NaN          9410.0\n",
              "45   380      1-METHYL-2-ETHYLBENZENE  ...     7.180          9290.0\n",
              "46   404  1-METHYL-2-ISOPROPYLBENZENE  ...       NaN             0.0\n",
              "47   405  1-METHYL-2-ISOPROPYLBENZENE  ...     8.390          9110.0\n",
              "48   381      1-METHYL-3-ETHYLBENZENE  ...    -6.815             7.2\n",
              "49   382      1-METHYL-4-ETHYLBENZENE  ...     7.230          9180.0\n",
              "50   406  1-METHYL-4-ISOPROPYLBENZENE  ...     8.410             0.0\n",
              "161  242                      BENZENE  ...     3.610          7352.0\n",
              "168  238                 BROMOBENZENE  ...     5.590             0.0\n",
              "182  239               CHLOROBENZENE   ...     4.980          8735.0\n",
              "248  325                 ETHYLBENZENE  ...     5.750          8500.0\n",
              "257  240                FLUOROBENZENE  ...     3.880             0.0\n",
              "273  241                  IODOBENZENE  ...     6.460          9440.0\n",
              "279  401              ISOBUTYLBENZENE  ...       NaN          9040.0\n",
              "287  379             ISOPROPYLBENZENE  ...     6.860          8970.0\n",
              "294  236            M-DICHLOROBENZENE  ...       NaN          9230.0\n",
              "338  400               N-BUTYLBENZENE  ...       NaN          9380.0\n",
              "376  378              N-PROPYLBENZENE  ...       NaN          9140.0\n",
              "386  235            O-DICHLOROBENZENE  ...       NaN          9480.0\n",
              "394  237             P-DICLOROBENZENE  ...       NaN          9270.0\n",
              "395  232             PERFLUOROBENZENE  ...     5.310             0.0\n",
              "424  402             SEC-BUTYLBENZENE  ...       NaN          9070.0\n",
              "435  403            TERT-BUTYLBENZENE  ...       NaN          8990.0\n",
              "\n",
              "[26 rows x 31 columns]"
            ]
          },
          "metadata": {
            "tags": []
          },
          "execution_count": 6
        }
      ]
    },
    {
      "cell_type": "code",
      "metadata": {
        "colab": {
          "base_uri": "https://localhost:8080/",
          "height": 117
        },
        "id": "W3rFFl3UdD3h",
        "outputId": "882a6805-5478-49ff-8c4e-93724312ffd9"
      },
      "source": [
        "# Buscando o segundo componente: \n",
        "filtro2 = dados.name.str.contains('TOLUENE')\n",
        "dados[filtro2]"
      ],
      "execution_count": null,
      "outputs": [
        {
          "output_type": "execute_result",
          "data": {
            "text/html": [
              "<div>\n",
              "<style scoped>\n",
              "    .dataframe tbody tr th:only-of-type {\n",
              "        vertical-align: middle;\n",
              "    }\n",
              "\n",
              "    .dataframe tbody tr th {\n",
              "        vertical-align: top;\n",
              "    }\n",
              "\n",
              "    .dataframe thead th {\n",
              "        text-align: right;\n",
              "    }\n",
              "</style>\n",
              "<table border=\"1\" class=\"dataframe\">\n",
              "  <thead>\n",
              "    <tr style=\"text-align: right;\">\n",
              "      <th></th>\n",
              "      <th>num</th>\n",
              "      <th>name</th>\n",
              "      <th>molar_mass</th>\n",
              "      <th>fusion_point</th>\n",
              "      <th>boiling_point</th>\n",
              "      <th>critical_temp</th>\n",
              "      <th>critical_pressure</th>\n",
              "      <th>critical_volume</th>\n",
              "      <th>zc</th>\n",
              "      <th>acentric_factor</th>\n",
              "      <th>liq_density</th>\n",
              "      <th>temp_ref_liq_density</th>\n",
              "      <th>dipole_moment</th>\n",
              "      <th>cp_a</th>\n",
              "      <th>cp_b</th>\n",
              "      <th>cp_c</th>\n",
              "      <th>cp_d</th>\n",
              "      <th>visc_b</th>\n",
              "      <th>visc_c</th>\n",
              "      <th>delta_h0f_gas</th>\n",
              "      <th>delta_g0f_gas</th>\n",
              "      <th>pvap_a</th>\n",
              "      <th>pvap_b</th>\n",
              "      <th>pvap_c</th>\n",
              "      <th>temp_max_pvap</th>\n",
              "      <th>temp_min_pvap</th>\n",
              "      <th>pvap_h_a</th>\n",
              "      <th>pvap_h_b</th>\n",
              "      <th>pvap_h_c</th>\n",
              "      <th>pvap_h_d</th>\n",
              "      <th>delta_h_vap_bp</th>\n",
              "    </tr>\n",
              "  </thead>\n",
              "  <tbody>\n",
              "    <tr>\n",
              "      <th>440</th>\n",
              "      <td>286</td>\n",
              "      <td>TOLUENE</td>\n",
              "      <td>92.141</td>\n",
              "      <td>178.0</td>\n",
              "      <td>383.8</td>\n",
              "      <td>591.7</td>\n",
              "      <td>40.6</td>\n",
              "      <td>316.0</td>\n",
              "      <td>0.264</td>\n",
              "      <td>0.257</td>\n",
              "      <td>0.867</td>\n",
              "      <td>293.0</td>\n",
              "      <td>0.4</td>\n",
              "      <td>-5.817</td>\n",
              "      <td>0.1224</td>\n",
              "      <td>-0.000066</td>\n",
              "      <td>1.173000e-08</td>\n",
              "      <td>467.33</td>\n",
              "      <td>255.24</td>\n",
              "      <td>11.95</td>\n",
              "      <td>29.16</td>\n",
              "      <td>16.0137</td>\n",
              "      <td>3096.52</td>\n",
              "      <td>-53.67</td>\n",
              "      <td>410.0</td>\n",
              "      <td>280.0</td>\n",
              "      <td>56.785</td>\n",
              "      <td>-6283.5</td>\n",
              "      <td>-5.681</td>\n",
              "      <td>4.84</td>\n",
              "      <td>7930.0</td>\n",
              "    </tr>\n",
              "  </tbody>\n",
              "</table>\n",
              "</div>"
            ],
            "text/plain": [
              "     num     name  molar_mass  ...  pvap_h_c  pvap_h_d  delta_h_vap_bp\n",
              "440  286  TOLUENE      92.141  ...    -5.681      4.84          7930.0\n",
              "\n",
              "[1 rows x 31 columns]"
            ]
          },
          "metadata": {
            "tags": []
          },
          "execution_count": 7
        }
      ]
    },
    {
      "cell_type": "markdown",
      "metadata": {
        "id": "9TIMw1Vudayg"
      },
      "source": [
        "Logo, pela pesquisa, sabemos que o número dos componentes desejados no banco de dados são 242 e 286.\n"
      ]
    },
    {
      "cell_type": "code",
      "metadata": {
        "colab": {
          "base_uri": "https://localhost:8080/"
        },
        "id": "iI04JAm0dh5z",
        "outputId": "1bef4d3f-53f8-473b-8f98-57d6108b40b9"
      },
      "source": [
        "# O comprimento da lista será o número de componentes\n",
        "lista_componentes = [ 242, 286]\n",
        "nc = len(lista_componentes)\n",
        "nc"
      ],
      "execution_count": null,
      "outputs": [
        {
          "output_type": "execute_result",
          "data": {
            "text/plain": [
              "2"
            ]
          },
          "metadata": {
            "tags": []
          },
          "execution_count": 6
        }
      ]
    },
    {
      "cell_type": "code",
      "metadata": {
        "colab": {
          "base_uri": "https://localhost:8080/"
        },
        "id": "paOKg2zQstqT",
        "outputId": "c7a772b1-405a-476c-f306-e25373f45cd0"
      },
      "source": [
        "# Encontrando as temperaturas de ebulição dos dois componenetes: \n",
        "T_eb_comp = dados[dados['num'].isin(lista_componentes)]['boiling_point']\n",
        "T_eb_comp = T_eb_comp.tolist()\n",
        "T_eb_comp"
      ],
      "execution_count": null,
      "outputs": [
        {
          "output_type": "execute_result",
          "data": {
            "text/plain": [
              "[353.3, 383.8]"
            ]
          },
          "metadata": {
            "tags": []
          },
          "execution_count": 7
        }
      ]
    },
    {
      "cell_type": "code",
      "metadata": {
        "colab": {
          "base_uri": "https://localhost:8080/"
        },
        "id": "7BJpt-KO7bcY",
        "outputId": "46ede1ca-519d-45cc-896c-80fb69dc6873"
      },
      "source": [
        "# Calculo dos valores de K\n",
        "# A prssão é de 760 mmHg e a temperatura escolhida foi entre os pontos de ebulição.\n",
        "K_comp = f_K_Raoult_db(370.0, 760, lista_componentes, dados)[0]\n",
        "K_comp"
      ],
      "execution_count": null,
      "outputs": [
        {
          "output_type": "execute_result",
          "data": {
            "text/plain": [
              "array([1.63010412, 0.66463997])"
            ]
          },
          "metadata": {
            "tags": []
          },
          "execution_count": 8
        }
      ]
    },
    {
      "cell_type": "markdown",
      "metadata": {
        "id": "CQFciboO79Um"
      },
      "source": [
        "Obsrvamos que o benzeno é o componente mais volátil"
      ]
    },
    {
      "cell_type": "code",
      "metadata": {
        "colab": {
          "base_uri": "https://localhost:8080/"
        },
        "id": "p60Cmncs8RgG",
        "outputId": "786f7613-5530-4aa0-e61d-fd3e54cb5a85"
      },
      "source": [
        "# Identificação do menos volátil - componente chave pesado\n",
        "i_chk = np.argmin(K_comp)\n",
        "i_chk"
      ],
      "execution_count": null,
      "outputs": [
        {
          "output_type": "execute_result",
          "data": {
            "text/plain": [
              "1"
            ]
          },
          "metadata": {
            "tags": []
          },
          "execution_count": 9
        }
      ]
    },
    {
      "cell_type": "markdown",
      "metadata": {
        "id": "Gyh6Lc8u8Wkq"
      },
      "source": [
        "Como esperado o tolueno é o componente mais pesado."
      ]
    },
    {
      "cell_type": "code",
      "metadata": {
        "colab": {
          "base_uri": "https://localhost:8080/"
        },
        "id": "9KrzzbeN8hoe",
        "outputId": "1856e464-79f3-47e2-e66b-a092bba1b3f1"
      },
      "source": [
        "# Cálculo da volatilidade relativa - em ralção ao componente chave pesado - i_chk\n",
        "alpha_comp = K_comp/K_comp[i_chk]\n",
        "alpha_comp"
      ],
      "execution_count": null,
      "outputs": [
        {
          "output_type": "execute_result",
          "data": {
            "text/plain": [
              "array([2.45261222, 1.        ])"
            ]
          },
          "metadata": {
            "tags": []
          },
          "execution_count": 10
        }
      ]
    },
    {
      "cell_type": "code",
      "metadata": {
        "id": "y_rKnnRshG_X",
        "colab": {
          "base_uri": "https://localhost:8080/"
        },
        "outputId": "806bac79-819b-4b4d-df22-8cef98d3bfa6"
      },
      "source": [
        "# Definindo as condições de composição e pressão do flash\n",
        "\n",
        "P_flash = 760 # mmHg\n",
        "z = np.array([0.5, 0.5])\n",
        "z"
      ],
      "execution_count": null,
      "outputs": [
        {
          "output_type": "execute_result",
          "data": {
            "text/plain": [
              "array([0.5, 0.5])"
            ]
          },
          "metadata": {
            "tags": []
          },
          "execution_count": 11
        }
      ]
    },
    {
      "cell_type": "markdown",
      "metadata": {
        "id": "qr8LsEeo8555"
      },
      "source": [
        "Para encontrarmos a temperatura de flash, iremos calcular o ponto de bolha e o ponto de orvalho, os quais irão definir a zona bifásica do equilíbrio líquido-vapor."
      ]
    },
    {
      "cell_type": "code",
      "metadata": {
        "colab": {
          "base_uri": "https://localhost:8080/"
        },
        "id": "9BuX1HnB9MQP",
        "outputId": "b52269f8-607e-49bb-b5f5-2a1acd1f2398"
      },
      "source": [
        "f_calculo_PbPo_db('T', P_flash, z, lista_componentes, dados)"
      ],
      "execution_count": null,
      "outputs": [
        {
          "output_type": "execute_result",
          "data": {
            "text/plain": [
              "(365.2633698278335, 371.92390420927444, [353.3, 383.8])"
            ]
          },
          "metadata": {
            "tags": []
          },
          "execution_count": 12
        }
      ]
    },
    {
      "cell_type": "code",
      "metadata": {
        "id": "Kks-cyWJ9wOt"
      },
      "source": [
        "# Escolhendo a temperatura do flash entre as temperaturas de ponto de bolha e de vapor:\n",
        "T_flash = 368.15 # K"
      ],
      "execution_count": null,
      "outputs": []
    },
    {
      "cell_type": "markdown",
      "metadata": {
        "id": "0qxnmrEQ-KHs"
      },
      "source": [
        "Nesse momento iremos partir para a solução utilizando a função de Rachford-Rice.\n",
        "\n",
        "A função é dada por: \n",
        "\n",
        "$$ \\sum_{i=1}^{nc} \\frac{z_i \\cdot K_i}{1 + f_V \\cdot (K_i - 1)} = 1 $$\n"
      ]
    },
    {
      "cell_type": "code",
      "metadata": {
        "colab": {
          "base_uri": "https://localhost:8080/"
        },
        "id": "CfanPRLrLRRf",
        "outputId": "ab04c1c3-ba4d-4987-939d-5f207a0c2db7"
      },
      "source": [
        "# Utilizando diretamente a função de solução do flash com a função de Rachford-Rice\n",
        "f_sol_RR_flash_db(z, P_flash, T_flash, lista_componentes, dados)"
      ],
      "execution_count": null,
      "outputs": [
        {
          "output_type": "execute_result",
          "data": {
            "text/plain": [
              "{'K_comp': array([1.54838835, 0.62744758]),\n",
              " 'alpha_comp': array([2.46775733, 1.        ]),\n",
              " 'fv_flash': 0.43033037783267614,\n",
              " 'x_eq': array([0.40453462, 0.59546538]),\n",
              " 'y_eq': array([0.62637669, 0.37362331])}"
            ]
          },
          "metadata": {
            "tags": []
          },
          "execution_count": 46
        }
      ]
    },
    {
      "cell_type": "code",
      "metadata": {
        "colab": {
          "base_uri": "https://localhost:8080/"
        },
        "id": "QjJCmIhiLWSq",
        "outputId": "55093e94-a697-4b4f-af79-39dd4eaf0e73"
      },
      "source": [
        "fv = f_sol_RR_flash_db(z, P_flash, T_flash, lista_componentes, dados)[\"fv_flash\"]\n",
        "fv"
      ],
      "execution_count": null,
      "outputs": [
        {
          "output_type": "execute_result",
          "data": {
            "text/plain": [
              "0.43033037783267614"
            ]
          },
          "metadata": {
            "tags": []
          },
          "execution_count": 49
        }
      ]
    },
    {
      "cell_type": "code",
      "metadata": {
        "colab": {
          "base_uri": "https://localhost:8080/"
        },
        "id": "hxmM4gqFHj5K",
        "outputId": "4efe48f6-fa6a-4efc-b369-6899471879fd"
      },
      "source": [
        "E = 50\n",
        "V = E*fv\n",
        "print(V)\n",
        "L = E - V\n",
        "print(L)"
      ],
      "execution_count": null,
      "outputs": [
        {
          "output_type": "stream",
          "text": [
            "21.516518891633808\n",
            "28.483481108366192\n"
          ],
          "name": "stdout"
        }
      ]
    },
    {
      "cell_type": "markdown",
      "metadata": {
        "id": "ax9UJ_DICvaf"
      },
      "source": [
        "Resposta final encontrada na AVS_01:\n",
        "\n",
        "$$V = 21.52$$\n",
        "$$L = 28.48$$\n",
        "$$x_B = 0.4045$$\n",
        "$$x_T = 0.5955$$\n",
        "$$y_B = 0.6264$$\n",
        "$$y_T = 0.3736$$\n",
        "\n",
        "Resposta final encontrada com a função de Rachford-Rice:\n",
        "\n",
        "$$V = 21.52$$\n",
        "$$L = 28.48$$\n",
        "$$x_B = 0.4045$$\n",
        "$$x_T = 0.5955$$\n",
        "$$y_B = 0.6264$$\n",
        "$$y_T = 0.3736$$\n",
        "\n"
      ]
    },
    {
      "cell_type": "markdown",
      "metadata": {
        "id": "MSKX-DW7MDN_"
      },
      "source": [
        "Observamos que as respostas são coerentes e que a função de Rachford-Rice está funcionando de maneira correta."
      ]
    },
    {
      "cell_type": "markdown",
      "metadata": {
        "id": "ShithGTLNZ0x"
      },
      "source": [
        "## Parte 2: \n",
        "\n",
        "Cálculo de flash para três componentes: Benzeno, Tolueno e Heptano.\n",
        "\n",
        "Iremos utilizar a função de Rachford-Rice para calcular os dados de saída do Flash."
      ]
    },
    {
      "cell_type": "markdown",
      "metadata": {
        "id": "t4jO_AjgOGJD"
      },
      "source": [
        "Como o Kernel já está preparado, iremos começar buscando os dados do novo componente: Heptano."
      ]
    },
    {
      "cell_type": "code",
      "metadata": {
        "colab": {
          "base_uri": "https://localhost:8080/",
          "height": 498
        },
        "id": "poLaG2nAORCL",
        "outputId": "2a8fe1ab-c087-4724-bafd-5ec4b954be2b"
      },
      "source": [
        "# Buscando o componente:\n",
        "filtro3 = dados.name.str.contains('HEPTANE')\n",
        "dados[filtro3]"
      ],
      "execution_count": null,
      "outputs": [
        {
          "output_type": "execute_result",
          "data": {
            "text/html": [
              "<div>\n",
              "<style scoped>\n",
              "    .dataframe tbody tr th:only-of-type {\n",
              "        vertical-align: middle;\n",
              "    }\n",
              "\n",
              "    .dataframe tbody tr th {\n",
              "        vertical-align: top;\n",
              "    }\n",
              "\n",
              "    .dataframe thead th {\n",
              "        text-align: right;\n",
              "    }\n",
              "</style>\n",
              "<table border=\"1\" class=\"dataframe\">\n",
              "  <thead>\n",
              "    <tr style=\"text-align: right;\">\n",
              "      <th></th>\n",
              "      <th>num</th>\n",
              "      <th>name</th>\n",
              "      <th>molar_mass</th>\n",
              "      <th>fusion_point</th>\n",
              "      <th>boiling_point</th>\n",
              "      <th>critical_temp</th>\n",
              "      <th>critical_pressure</th>\n",
              "      <th>critical_volume</th>\n",
              "      <th>zc</th>\n",
              "      <th>acentric_factor</th>\n",
              "      <th>liq_density</th>\n",
              "      <th>temp_ref_liq_density</th>\n",
              "      <th>dipole_moment</th>\n",
              "      <th>cp_a</th>\n",
              "      <th>cp_b</th>\n",
              "      <th>cp_c</th>\n",
              "      <th>cp_d</th>\n",
              "      <th>visc_b</th>\n",
              "      <th>visc_c</th>\n",
              "      <th>delta_h0f_gas</th>\n",
              "      <th>delta_g0f_gas</th>\n",
              "      <th>pvap_a</th>\n",
              "      <th>pvap_b</th>\n",
              "      <th>pvap_c</th>\n",
              "      <th>temp_max_pvap</th>\n",
              "      <th>temp_min_pvap</th>\n",
              "      <th>pvap_h_a</th>\n",
              "      <th>pvap_h_b</th>\n",
              "      <th>pvap_h_c</th>\n",
              "      <th>pvap_h_d</th>\n",
              "      <th>delta_h_vap_bp</th>\n",
              "    </tr>\n",
              "  </thead>\n",
              "  <tbody>\n",
              "    <tr>\n",
              "      <th>68</th>\n",
              "      <td>420</td>\n",
              "      <td>2,2,3,3-TETRAMETHYLHEPTANE</td>\n",
              "      <td>142.286</td>\n",
              "      <td>NaN</td>\n",
              "      <td>433.5</td>\n",
              "      <td>623.1</td>\n",
              "      <td>24.8</td>\n",
              "      <td>NaN</td>\n",
              "      <td>NaN</td>\n",
              "      <td>0.360</td>\n",
              "      <td>NaN</td>\n",
              "      <td>0.0</td>\n",
              "      <td>0.0</td>\n",
              "      <td>-14.052</td>\n",
              "      <td>0.2941</td>\n",
              "      <td>-0.000211</td>\n",
              "      <td>6.174000e-08</td>\n",
              "      <td>NaN</td>\n",
              "      <td>NaN</td>\n",
              "      <td>0.000</td>\n",
              "      <td>0.00</td>\n",
              "      <td>15.7598</td>\n",
              "      <td>3371.05</td>\n",
              "      <td>-64.09</td>\n",
              "      <td>463.0</td>\n",
              "      <td>314.0</td>\n",
              "      <td>NaN</td>\n",
              "      <td>NaN</td>\n",
              "      <td>NaN</td>\n",
              "      <td>NaN</td>\n",
              "      <td>8690.0</td>\n",
              "    </tr>\n",
              "    <tr>\n",
              "      <th>76</th>\n",
              "      <td>421</td>\n",
              "      <td>2,2,5,5-TETRAMETHYLHEPTANE</td>\n",
              "      <td>142.286</td>\n",
              "      <td>NaN</td>\n",
              "      <td>410.6</td>\n",
              "      <td>581.5</td>\n",
              "      <td>21.6</td>\n",
              "      <td>NaN</td>\n",
              "      <td>NaN</td>\n",
              "      <td>0.374</td>\n",
              "      <td>NaN</td>\n",
              "      <td>0.0</td>\n",
              "      <td>0.0</td>\n",
              "      <td>-14.890</td>\n",
              "      <td>0.2973</td>\n",
              "      <td>-0.000214</td>\n",
              "      <td>6.253000e-08</td>\n",
              "      <td>NaN</td>\n",
              "      <td>NaN</td>\n",
              "      <td>0.000</td>\n",
              "      <td>0.00</td>\n",
              "      <td>15.8446</td>\n",
              "      <td>3172.92</td>\n",
              "      <td>-66.15</td>\n",
              "      <td>438.0</td>\n",
              "      <td>300.0</td>\n",
              "      <td>NaN</td>\n",
              "      <td>NaN</td>\n",
              "      <td>NaN</td>\n",
              "      <td>NaN</td>\n",
              "      <td>8430.0</td>\n",
              "    </tr>\n",
              "    <tr>\n",
              "      <th>112</th>\n",
              "      <td>355</td>\n",
              "      <td>2-METHYLHEPTANE</td>\n",
              "      <td>114.232</td>\n",
              "      <td>164.0</td>\n",
              "      <td>390.8</td>\n",
              "      <td>559.6</td>\n",
              "      <td>24.5</td>\n",
              "      <td>488.0</td>\n",
              "      <td>0.260</td>\n",
              "      <td>0.378</td>\n",
              "      <td>0.702</td>\n",
              "      <td>289.0</td>\n",
              "      <td>0.0</td>\n",
              "      <td>-21.435</td>\n",
              "      <td>0.2967</td>\n",
              "      <td>-0.000281</td>\n",
              "      <td>1.103000e-07</td>\n",
              "      <td>643.61</td>\n",
              "      <td>259.51</td>\n",
              "      <td>-51.500</td>\n",
              "      <td>3.05</td>\n",
              "      <td>15.9278</td>\n",
              "      <td>3079.63</td>\n",
              "      <td>-59.46</td>\n",
              "      <td>417.0</td>\n",
              "      <td>285.0</td>\n",
              "      <td>65.685</td>\n",
              "      <td>-6865.40</td>\n",
              "      <td>-6.957</td>\n",
              "      <td>7.12</td>\n",
              "      <td>8080.0</td>\n",
              "    </tr>\n",
              "    <tr>\n",
              "      <th>116</th>\n",
              "      <td>419</td>\n",
              "      <td>3,3,5-TRIMETHYLHEPTANE</td>\n",
              "      <td>142.286</td>\n",
              "      <td>NaN</td>\n",
              "      <td>428.8</td>\n",
              "      <td>609.6</td>\n",
              "      <td>22.9</td>\n",
              "      <td>NaN</td>\n",
              "      <td>NaN</td>\n",
              "      <td>0.388</td>\n",
              "      <td>NaN</td>\n",
              "      <td>0.0</td>\n",
              "      <td>0.0</td>\n",
              "      <td>-16.808</td>\n",
              "      <td>0.2943</td>\n",
              "      <td>-0.000207</td>\n",
              "      <td>5.864000e-08</td>\n",
              "      <td>NaN</td>\n",
              "      <td>NaN</td>\n",
              "      <td>-61.800</td>\n",
              "      <td>8.02</td>\n",
              "      <td>15.7848</td>\n",
              "      <td>3305.20</td>\n",
              "      <td>-67.66</td>\n",
              "      <td>458.0</td>\n",
              "      <td>313.0</td>\n",
              "      <td>NaN</td>\n",
              "      <td>NaN</td>\n",
              "      <td>NaN</td>\n",
              "      <td>NaN</td>\n",
              "      <td>8760.0</td>\n",
              "    </tr>\n",
              "    <tr>\n",
              "      <th>135</th>\n",
              "      <td>356</td>\n",
              "      <td>3-METHYLHEPTANE</td>\n",
              "      <td>114.232</td>\n",
              "      <td>152.7</td>\n",
              "      <td>392.1</td>\n",
              "      <td>563.6</td>\n",
              "      <td>25.1</td>\n",
              "      <td>464.0</td>\n",
              "      <td>0.252</td>\n",
              "      <td>0.369</td>\n",
              "      <td>0.706</td>\n",
              "      <td>293.0</td>\n",
              "      <td>0.0</td>\n",
              "      <td>-2.201</td>\n",
              "      <td>0.1877</td>\n",
              "      <td>-0.000105</td>\n",
              "      <td>2.316000e-08</td>\n",
              "      <td>NaN</td>\n",
              "      <td>NaN</td>\n",
              "      <td>-50.820</td>\n",
              "      <td>3.28</td>\n",
              "      <td>15.8865</td>\n",
              "      <td>3065.96</td>\n",
              "      <td>-60.74</td>\n",
              "      <td>418.0</td>\n",
              "      <td>286.0</td>\n",
              "      <td>64.371</td>\n",
              "      <td>-6817.44</td>\n",
              "      <td>-6.763</td>\n",
              "      <td>7.02</td>\n",
              "      <td>8100.0</td>\n",
              "    </tr>\n",
              "    <tr>\n",
              "      <th>140</th>\n",
              "      <td>357</td>\n",
              "      <td>4-METHYLHEPTANE</td>\n",
              "      <td>114.232</td>\n",
              "      <td>152.2</td>\n",
              "      <td>390.9</td>\n",
              "      <td>561.7</td>\n",
              "      <td>25.1</td>\n",
              "      <td>476.0</td>\n",
              "      <td>0.259</td>\n",
              "      <td>0.369</td>\n",
              "      <td>0.705</td>\n",
              "      <td>293.0</td>\n",
              "      <td>0.0</td>\n",
              "      <td>-2.201</td>\n",
              "      <td>0.1877</td>\n",
              "      <td>-0.000105</td>\n",
              "      <td>2.316000e-08</td>\n",
              "      <td>NaN</td>\n",
              "      <td>NaN</td>\n",
              "      <td>-50.619</td>\n",
              "      <td>4.00</td>\n",
              "      <td>15.8893</td>\n",
              "      <td>3057.05</td>\n",
              "      <td>-60.59</td>\n",
              "      <td>417.0</td>\n",
              "      <td>285.0</td>\n",
              "      <td>64.394</td>\n",
              "      <td>-6799.54</td>\n",
              "      <td>-6.769</td>\n",
              "      <td>6.98</td>\n",
              "      <td>8100.0</td>\n",
              "    </tr>\n",
              "    <tr>\n",
              "      <th>198</th>\n",
              "      <td>300</td>\n",
              "      <td>CYCLOHEPTANE</td>\n",
              "      <td>98.189</td>\n",
              "      <td>265.0</td>\n",
              "      <td>391.9</td>\n",
              "      <td>589.0</td>\n",
              "      <td>36.7</td>\n",
              "      <td>390.0</td>\n",
              "      <td>0.300</td>\n",
              "      <td>0.336</td>\n",
              "      <td>0.810</td>\n",
              "      <td>293.0</td>\n",
              "      <td>0.0</td>\n",
              "      <td>-18.197</td>\n",
              "      <td>0.1879</td>\n",
              "      <td>-0.000100</td>\n",
              "      <td>1.806000e-08</td>\n",
              "      <td>NaN</td>\n",
              "      <td>NaN</td>\n",
              "      <td>-28.520</td>\n",
              "      <td>15.06</td>\n",
              "      <td>15.7818</td>\n",
              "      <td>3066.05</td>\n",
              "      <td>-56.80</td>\n",
              "      <td>435.0</td>\n",
              "      <td>330.0</td>\n",
              "      <td>NaN</td>\n",
              "      <td>NaN</td>\n",
              "      <td>NaN</td>\n",
              "      <td>NaN</td>\n",
              "      <td>7900.0</td>\n",
              "    </tr>\n",
              "    <tr>\n",
              "      <th>350</th>\n",
              "      <td>308</td>\n",
              "      <td>N-HEPTANE</td>\n",
              "      <td>100.205</td>\n",
              "      <td>182.6</td>\n",
              "      <td>371.6</td>\n",
              "      <td>540.2</td>\n",
              "      <td>27.0</td>\n",
              "      <td>432.0</td>\n",
              "      <td>0.263</td>\n",
              "      <td>0.351</td>\n",
              "      <td>0.684</td>\n",
              "      <td>293.0</td>\n",
              "      <td>0.0</td>\n",
              "      <td>-1.229</td>\n",
              "      <td>0.1615</td>\n",
              "      <td>-0.000087</td>\n",
              "      <td>1.829000e-08</td>\n",
              "      <td>436.73</td>\n",
              "      <td>232.53</td>\n",
              "      <td>-44.880</td>\n",
              "      <td>1.91</td>\n",
              "      <td>15.8737</td>\n",
              "      <td>2911.32</td>\n",
              "      <td>-56.51</td>\n",
              "      <td>400.0</td>\n",
              "      <td>270.0</td>\n",
              "      <td>61.276</td>\n",
              "      <td>-6303.87</td>\n",
              "      <td>-6.373</td>\n",
              "      <td>6.00</td>\n",
              "      <td>7576.0</td>\n",
              "    </tr>\n",
              "    <tr>\n",
              "      <th>400</th>\n",
              "      <td>282</td>\n",
              "      <td>PERFLUORO-N-HEPTANE</td>\n",
              "      <td>388.051</td>\n",
              "      <td>195.0</td>\n",
              "      <td>355.7</td>\n",
              "      <td>474.8</td>\n",
              "      <td>16.0</td>\n",
              "      <td>664.0</td>\n",
              "      <td>0.273</td>\n",
              "      <td>0.560</td>\n",
              "      <td>1.733</td>\n",
              "      <td>293.0</td>\n",
              "      <td>0.0</td>\n",
              "      <td>NaN</td>\n",
              "      <td>NaN</td>\n",
              "      <td>NaN</td>\n",
              "      <td>NaN</td>\n",
              "      <td>NaN</td>\n",
              "      <td>NaN</td>\n",
              "      <td>-808.900</td>\n",
              "      <td>-737.87</td>\n",
              "      <td>15.9747</td>\n",
              "      <td>2719.68</td>\n",
              "      <td>-64.50</td>\n",
              "      <td>390.0</td>\n",
              "      <td>270.0</td>\n",
              "      <td>83.896</td>\n",
              "      <td>-7348.95</td>\n",
              "      <td>-9.644</td>\n",
              "      <td>7.82</td>\n",
              "      <td>0.0</td>\n",
              "    </tr>\n",
              "  </tbody>\n",
              "</table>\n",
              "</div>"
            ],
            "text/plain": [
              "     num                        name  ...  pvap_h_d  delta_h_vap_bp\n",
              "68   420  2,2,3,3-TETRAMETHYLHEPTANE  ...       NaN          8690.0\n",
              "76   421  2,2,5,5-TETRAMETHYLHEPTANE  ...       NaN          8430.0\n",
              "112  355             2-METHYLHEPTANE  ...      7.12          8080.0\n",
              "116  419      3,3,5-TRIMETHYLHEPTANE  ...       NaN          8760.0\n",
              "135  356             3-METHYLHEPTANE  ...      7.02          8100.0\n",
              "140  357             4-METHYLHEPTANE  ...      6.98          8100.0\n",
              "198  300                CYCLOHEPTANE  ...       NaN          7900.0\n",
              "350  308                   N-HEPTANE  ...      6.00          7576.0\n",
              "400  282         PERFLUORO-N-HEPTANE  ...      7.82             0.0\n",
              "\n",
              "[9 rows x 31 columns]"
            ]
          },
          "metadata": {
            "tags": []
          },
          "execution_count": 51
        }
      ]
    },
    {
      "cell_type": "markdown",
      "metadata": {
        "id": "LNmt_fOKOlPF"
      },
      "source": [
        "o N-Heptano corresponde ao elemento de número 308 do banco de dados."
      ]
    },
    {
      "cell_type": "code",
      "metadata": {
        "colab": {
          "base_uri": "https://localhost:8080/"
        },
        "id": "zWyDjIqAOudJ",
        "outputId": "da72762a-032c-471c-fdb6-77851b64af6d"
      },
      "source": [
        "# O comprimento da lista será o número de componentes\n",
        "lista_componentes = [ 242, 286, 308]\n",
        "nc = len(lista_componentes)\n",
        "nc"
      ],
      "execution_count": null,
      "outputs": [
        {
          "output_type": "execute_result",
          "data": {
            "text/plain": [
              "3"
            ]
          },
          "metadata": {
            "tags": []
          },
          "execution_count": 52
        }
      ]
    },
    {
      "cell_type": "code",
      "metadata": {
        "colab": {
          "base_uri": "https://localhost:8080/"
        },
        "id": "4gA9fk96O4ew",
        "outputId": "79d90a79-bf5f-4234-cc78-2d6cbb5ffa28"
      },
      "source": [
        "# Encontrando as temperaturas de ebulição dos dois componenetes: \n",
        "T_eb_comp = dados[dados['num'].isin(lista_componentes)]['boiling_point']\n",
        "T_eb_comp = T_eb_comp.tolist()\n",
        "T_eb_comp"
      ],
      "execution_count": null,
      "outputs": [
        {
          "output_type": "execute_result",
          "data": {
            "text/plain": [
              "[353.3, 371.6, 383.8]"
            ]
          },
          "metadata": {
            "tags": []
          },
          "execution_count": 53
        }
      ]
    },
    {
      "cell_type": "code",
      "metadata": {
        "colab": {
          "base_uri": "https://localhost:8080/"
        },
        "id": "B0DtOhK2PHeU",
        "outputId": "fa035c56-51fc-46a4-8294-a831900c8aee"
      },
      "source": [
        "# Calculo dos valores de K\n",
        "K_comp = f_K_Raoult_db(360.0, 760, lista_componentes, dados)[0]\n",
        "K_comp"
      ],
      "execution_count": null,
      "outputs": [
        {
          "output_type": "execute_result",
          "data": {
            "text/plain": [
              "array([1.2254194 , 0.48284308, 0.70298329])"
            ]
          },
          "metadata": {
            "tags": []
          },
          "execution_count": 54
        }
      ]
    },
    {
      "cell_type": "code",
      "metadata": {
        "colab": {
          "base_uri": "https://localhost:8080/"
        },
        "id": "vxcUAxmdPShY",
        "outputId": "50e7632c-829e-4f76-d0cd-6d12b85932c5"
      },
      "source": [
        "# Identificação do menos volátil - componente chave pesado\n",
        "i_chk = np.argmin(K_comp)\n",
        "i_chk"
      ],
      "execution_count": null,
      "outputs": [
        {
          "output_type": "execute_result",
          "data": {
            "text/plain": [
              "1"
            ]
          },
          "metadata": {
            "tags": []
          },
          "execution_count": 55
        }
      ]
    },
    {
      "cell_type": "markdown",
      "metadata": {
        "id": "z9dz8BfmP0JB"
      },
      "source": [
        "Observamos que o componente menos volátil é o tolueno."
      ]
    },
    {
      "cell_type": "code",
      "metadata": {
        "colab": {
          "base_uri": "https://localhost:8080/"
        },
        "id": "bO9U-JtkPve-",
        "outputId": "e85ef812-537e-4311-8aed-4ff545cb3a05"
      },
      "source": [
        "# Cálculo da volatilidade relativa - em ralção ao componente chave pesado - i_chk\n",
        "alpha_comp = K_comp/K_comp[i_chk]\n",
        "alpha_comp"
      ],
      "execution_count": null,
      "outputs": [
        {
          "output_type": "execute_result",
          "data": {
            "text/plain": [
              "array([2.53792477, 1.        , 1.45592498])"
            ]
          },
          "metadata": {
            "tags": []
          },
          "execution_count": 56
        }
      ]
    },
    {
      "cell_type": "code",
      "metadata": {
        "colab": {
          "base_uri": "https://localhost:8080/"
        },
        "id": "dJAQ2iawQVNJ",
        "outputId": "57cdf816-9f27-402c-e910-01a23397d5d9"
      },
      "source": [
        "# Estabelecendo as condições do flash\n",
        "P_flash = 760 # mmHg\n",
        "z = np.array([0.3, 0.4, 0.3])\n",
        "z"
      ],
      "execution_count": null,
      "outputs": [
        {
          "output_type": "execute_result",
          "data": {
            "text/plain": [
              "array([0.3, 0.4, 0.3])"
            ]
          },
          "metadata": {
            "tags": []
          },
          "execution_count": 57
        }
      ]
    },
    {
      "cell_type": "markdown",
      "metadata": {
        "id": "8S6U_jiRQtkY"
      },
      "source": [
        "Agora iremos calcular o ponto de bolha e o ponto de orvalho para encontrarmos a região bifásica onde ocorrerá o flash."
      ]
    },
    {
      "cell_type": "code",
      "metadata": {
        "colab": {
          "base_uri": "https://localhost:8080/"
        },
        "id": "ILmevYNjQnwU",
        "outputId": "9efb76a8-6c1a-4536-be3e-67528d3c8eac"
      },
      "source": [
        "f_calculo_PbPo_db('T', P_flash, z, lista_componentes, dados)"
      ],
      "execution_count": null,
      "outputs": [
        {
          "output_type": "execute_result",
          "data": {
            "text/plain": [
              "(368.61259907853093, 373.2117532909771, [353.3, 371.6, 383.8])"
            ]
          },
          "metadata": {
            "tags": []
          },
          "execution_count": 58
        }
      ]
    },
    {
      "cell_type": "markdown",
      "metadata": {
        "id": "aJJJIAXHRL1q"
      },
      "source": [
        "Iremos escolher um valor de temperatura intermediário entre o ponto de bolha e o ponto de orvalho para ser a temperatura de flash."
      ]
    },
    {
      "cell_type": "code",
      "metadata": {
        "id": "5QbAh8QURJ1Y"
      },
      "source": [
        "T_flash = 370.5 # K"
      ],
      "execution_count": null,
      "outputs": []
    },
    {
      "cell_type": "markdown",
      "metadata": {
        "id": "F0pN_r2ERZqg"
      },
      "source": [
        "Nesse momento iremos partir para a solução utilizando função de Rachford-Rice.\n",
        "\n",
        "A função é dada por: \n",
        "\n",
        "$$ \\sum_{i=1}^{nc} \\frac{z_i \\cdot K_i}{1 + f_V \\cdot (K_i - 1)} = 1 $$\n"
      ]
    },
    {
      "cell_type": "code",
      "metadata": {
        "colab": {
          "base_uri": "https://localhost:8080/"
        },
        "id": "4D5Fs6-bRcgX",
        "outputId": "2663c047-f047-4a58-83ba-03becd108829"
      },
      "source": [
        "# Utilizando diretamente a função de solução do flash com função de Rachford-Rice:\n",
        "f_sol_RR_flash_db(z, P_flash, T_flash, lista_componentes, dados)"
      ],
      "execution_count": null,
      "outputs": [
        {
          "output_type": "execute_result",
          "data": {
            "text/plain": [
              "{'K_comp': array([1.65275075, 0.67498716, 0.96886164]),\n",
              " 'alpha_comp': array([2.44856619, 1.        , 1.43537787]),\n",
              " 'fv_flash': 0.37366082333379125,\n",
              " 'x_eq': array([0.24117551, 0.45529284, 0.30353165]),\n",
              " 'y_eq': array([0.39860301, 0.30731682, 0.29408017])}"
            ]
          },
          "metadata": {
            "tags": []
          },
          "execution_count": 60
        }
      ]
    },
    {
      "cell_type": "code",
      "metadata": {
        "colab": {
          "base_uri": "https://localhost:8080/"
        },
        "id": "j9F5cYDeRq8X",
        "outputId": "d7529f64-d1c3-4d72-c761-3c7ce5c9640d"
      },
      "source": [
        "fv = f_sol_RR_flash_db(z, P_flash, T_flash, lista_componentes, dados)[\"fv_flash\"]\n",
        "fv"
      ],
      "execution_count": null,
      "outputs": [
        {
          "output_type": "execute_result",
          "data": {
            "text/plain": [
              "0.37366082333379125"
            ]
          },
          "metadata": {
            "tags": []
          },
          "execution_count": 61
        }
      ]
    },
    {
      "cell_type": "code",
      "metadata": {
        "colab": {
          "base_uri": "https://localhost:8080/"
        },
        "id": "ws9uz0BDRtug",
        "outputId": "76fcc221-e71b-4d4b-dec6-de11d31219e1"
      },
      "source": [
        "E = 50\n",
        "V = E*fv\n",
        "print(V)\n",
        "L = E - V\n",
        "print(L)"
      ],
      "execution_count": null,
      "outputs": [
        {
          "output_type": "stream",
          "text": [
            "18.683041166689563\n",
            "31.316958833310437\n"
          ],
          "name": "stdout"
        }
      ]
    },
    {
      "cell_type": "code",
      "metadata": {
        "colab": {
          "base_uri": "https://localhost:8080/"
        },
        "id": "wB4FfJVHSYUS",
        "outputId": "faf148c6-8cd7-4050-cb19-7aa95b741b35"
      },
      "source": [
        "f_sol_RR_flash_db(z, P_flash, T_flash, lista_componentes, dados)[\"x_eq\"].sum()"
      ],
      "execution_count": null,
      "outputs": [
        {
          "output_type": "execute_result",
          "data": {
            "text/plain": [
              "1.0"
            ]
          },
          "metadata": {
            "tags": []
          },
          "execution_count": 64
        }
      ]
    },
    {
      "cell_type": "code",
      "metadata": {
        "colab": {
          "base_uri": "https://localhost:8080/"
        },
        "id": "LXklkI-nSt0C",
        "outputId": "d0874003-f7c0-4c22-af08-50040becd654"
      },
      "source": [
        "f_sol_RR_flash_db(z, P_flash, T_flash, lista_componentes, dados)[\"y_eq\"].sum()"
      ],
      "execution_count": null,
      "outputs": [
        {
          "output_type": "execute_result",
          "data": {
            "text/plain": [
              "0.9999999999999999"
            ]
          },
          "metadata": {
            "tags": []
          },
          "execution_count": 65
        }
      ]
    },
    {
      "cell_type": "markdown",
      "metadata": {
        "id": "kXFwPIaKR2CZ"
      },
      "source": [
        "Resposta final encontrada com a função de Rachford-Rice para 3 componentes:\n",
        "\n",
        "$$V = 18.68$$\n",
        "$$L = 31.32$$\n",
        "$$x_B = 0.241$$\n",
        "$$x_T = 0.455$$\n",
        "$$x_H = 0.303$$\n",
        "$$y_B = 0.398$$\n",
        "$$y_T = 0.307$$\n",
        "$$y_H = 0.294$$\n",
        "\n",
        "Observamos que adicionadno o n-heptano a fração vaporizada diminuiu quando comparada ao sistema bifásico e como era de se esperar, o tolueno, componente menos volátil se concentrou mais na parte líquida com x_t = 0.455 e o mais volátil se concentrando na fase vapor, y_b = 0.398."
      ]
    },
    {
      "cell_type": "markdown",
      "metadata": {
        "id": "YMj8NOfGTo44"
      },
      "source": [
        "Podemos ainda fazer o gráfico residual da função de Rachford-Rice, onde a curva ao cortar o eixo y em zero nos dá o valor de fração vaporizada (fv)."
      ]
    },
    {
      "cell_type": "code",
      "metadata": {
        "id": "buaElkgmUF1p"
      },
      "source": [
        "fv_faixa = np.linspace(0.01, 0.99, 20)"
      ],
      "execution_count": null,
      "outputs": []
    },
    {
      "cell_type": "code",
      "metadata": {
        "id": "_pxmaTDGUAV7"
      },
      "source": [
        "res_graf = f_res_RR_flash_db(fv_faixa, z, P_flash, T_flash, lista_componentes, dados)"
      ],
      "execution_count": null,
      "outputs": []
    },
    {
      "cell_type": "code",
      "metadata": {
        "colab": {
          "base_uri": "https://localhost:8080/",
          "height": 295
        },
        "id": "NsHeTpywUTsk",
        "outputId": "7b9a67da-65d8-483c-ee8a-cffbd7a0fbcd"
      },
      "source": [
        "# Fazendo o gráfico\n",
        "fig1, ax1 = plt.subplots()\n",
        "ax1.plot(fv_faixa, res_graf, 'b', label='res')\n",
        "#ax1.plot(C_A_eq_teste[:,0], q_A_prev, 'r-', label='mod')\n",
        "# Adicionando texto nos eixos - descrição\n",
        "ax1.set_xlabel('fv')\n",
        "ax1.set_ylabel('res')\n",
        "# Adicionando título para a figura\n",
        "ax1.set_title('res_Rachford-Rice')\n",
        "# Adicionando linha\n",
        "ax1.hlines(0.0,0.0, 1.0, colors='r', linestyles='dashed')\n",
        "# Adicionando uma legenda\n",
        "ax1.legend()\n",
        "ax1.grid()"
      ],
      "execution_count": null,
      "outputs": [
        {
          "output_type": "display_data",
          "data": {
            "image/png": "[encoded data removed]",
            "text/plain": [
              "<Figure size 432x288 with 1 Axes>"
            ]
          },
          "metadata": {
            "tags": [],
            "needs_background": "light"
          }
        }
      ]
    },
    {
      "cell_type": "markdown",
      "metadata": {
        "id": "6-57X-8JVEnt"
      },
      "source": [
        "Observamos que o gráfico mostra exatamente o valor de fv encontrado pela função de Rachford-Rice. "
      ]
    }
  ]
}