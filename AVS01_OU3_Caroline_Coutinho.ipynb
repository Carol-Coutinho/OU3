{
  "nbformat": 4,
  "nbformat_minor": 0,
  "metadata": {
    "colab": {
      "provenance": [],
      "collapsed_sections": [],
      "mount_file_id": "19Risjd41NMVHC7PNmsVU9g5flrlOygk1",
      "authorship_tag": "ABX9TyPupXQH99ZL6uyBYg18N7iA",
      "include_colab_link": true
    },
    "kernelspec": {
      "name": "python3",
      "display_name": "Python 3"
    },
    "language_info": {
      "name": "python"
    }
  },
  "cells": [
    {
      "cell_type": "markdown",
      "metadata": {
        "id": "view-in-github",
        "colab_type": "text"
      },
      "source": [
        "<a href=\"https://colab.research.google.com/github/Carol-Coutinho/OU3/blob/main/AVS01_OU3_Caroline_Coutinho.ipynb\" target=\"_parent\"><img src=\"https://colab.research.google.com/assets/colab-badge.svg\" alt=\"Open In Colab\"/></a>"
      ]
    },
    {
      "cell_type": "markdown",
      "metadata": {
        "id": "y-ZCDSjbqraV"
      },
      "source": [
        "## AVS_01_OU3\n",
        "\n",
        "Caroline Coutinho\n",
        "\n",
        "Flash Isotérmico Binário\n",
        "\n",
        "Mistura escolhida: Tolueno e Benzeno"
      ]
    },
    {
      "cell_type": "markdown",
      "metadata": {
        "id": "p2lF6W9HrSH5"
      },
      "source": [
        "Primeiro vamos preparar o Kernel:"
      ]
    },
    {
      "cell_type": "code",
      "metadata": {
        "id": "bGaP4R8P2wVv",
        "colab": {
          "base_uri": "https://localhost:8080/"
        },
        "outputId": "69741c13-2825-4c71-ab7b-9e6fb846d839"
      },
      "source": [
        "# Preparando kernel\n",
        "import pandas as pd\n",
        "#import pickle\n",
        "!pip3 install pickle5\n",
        "import pickle5 as pickl\n",
        "import numpy as np"
      ],
      "execution_count": null,
      "outputs": [
        {
          "output_type": "stream",
          "text": [
            "Collecting pickle5\n",
            "  Downloading pickle5-0.0.11.tar.gz (132 kB)\n",
            "\u001b[?25l\r\u001b[K     |██▌                             | 10 kB 24.5 MB/s eta 0:00:01\r\u001b[K     |█████                           | 20 kB 28.7 MB/s eta 0:00:01\r\u001b[K     |███████▍                        | 30 kB 12.5 MB/s eta 0:00:01\r\u001b[K     |██████████                      | 40 kB 10.0 MB/s eta 0:00:01\r\u001b[K     |████████████▍                   | 51 kB 5.2 MB/s eta 0:00:01\r\u001b[K     |██████████████▉                 | 61 kB 5.6 MB/s eta 0:00:01\r\u001b[K     |█████████████████▍              | 71 kB 6.0 MB/s eta 0:00:01\r\u001b[K     |███████████████████▉            | 81 kB 6.8 MB/s eta 0:00:01\r\u001b[K     |██████████████████████▎         | 92 kB 6.6 MB/s eta 0:00:01\r\u001b[K     |████████████████████████▉       | 102 kB 5.4 MB/s eta 0:00:01\r\u001b[K     |███████████████████████████▎    | 112 kB 5.4 MB/s eta 0:00:01\r\u001b[K     |█████████████████████████████▊  | 122 kB 5.4 MB/s eta 0:00:01\r\u001b[K     |████████████████████████████████| 132 kB 5.4 MB/s \n",
            "\u001b[?25hBuilding wheels for collected packages: pickle5\n",
            "  Building wheel for pickle5 (setup.py) ... \u001b[?25l\u001b[?25hdone\n",
            "  Created wheel for pickle5: filename=pickle5-0.0.11-cp37-cp37m-linux_x86_64.whl size=219323 sha256=0d4b4e5db9e2ea5b807363fb05f742472c7a6c0bdcf7ba0434d5342b461f2d36\n",
            "  Stored in directory: /root/.cache/pip/wheels/7e/6a/00/67136a90d6aca437d806d1d3cedf98106e840c97a3e5188198\n",
            "Successfully built pickle5\n",
            "Installing collected packages: pickle5\n",
            "Successfully installed pickle5-0.0.11\n"
          ],
          "name": "stdout"
        }
      ]
    },
    {
      "cell_type": "code",
      "metadata": {
        "id": "2EkTl3HVYzyE"
      },
      "source": [
        "# Para ler/carregar\n",
        "with open('/content/databank_properties.pickle', 'rb') as handle:\n",
        "    dados, all_units = pickl.load(handle)"
      ],
      "execution_count": null,
      "outputs": []
    },
    {
      "cell_type": "markdown",
      "metadata": {
        "id": "PD8QIJAAZ-4M"
      },
      "source": [
        "Analisando o banco de dados e buscando os componentes necessários: Tolueno e Benzeno.\n"
      ]
    },
    {
      "cell_type": "code",
      "metadata": {
        "id": "TDhKYy8EaK_a",
        "colab": {
          "base_uri": "https://localhost:8080/"
        },
        "outputId": "da83cdff-ea0a-41f2-df7d-1ef9c848474c"
      },
      "source": [
        "dados.shape\n"
      ],
      "execution_count": null,
      "outputs": [
        {
          "output_type": "execute_result",
          "data": {
            "text/plain": [
              "(468, 31)"
            ]
          },
          "metadata": {
            "tags": []
          },
          "execution_count": 4
        }
      ]
    },
    {
      "cell_type": "code",
      "metadata": {
        "id": "kVyoq7dJad_F",
        "colab": {
          "base_uri": "https://localhost:8080/"
        },
        "outputId": "0887fe1d-4baf-467b-d3db-18339d74d98a"
      },
      "source": [
        "dados.columns"
      ],
      "execution_count": null,
      "outputs": [
        {
          "output_type": "execute_result",
          "data": {
            "text/plain": [
              "Index(['num', 'name', 'molar_mass', 'fusion_point', 'boiling_point',\n",
              "       'critical_temp', 'critical_pressure', 'critical_volume', 'zc',\n",
              "       'acentric_factor', 'liq_density', 'temp_ref_liq_density',\n",
              "       'dipole_moment', 'cp_a', 'cp_b', 'cp_c', 'cp_d', 'visc_b', 'visc_c',\n",
              "       'delta_h0f_gas', 'delta_g0f_gas', 'pvap_a', 'pvap_b', 'pvap_c',\n",
              "       'temp_max_pvap', 'temp_min_pvap', 'pvap_h_a', 'pvap_h_b', 'pvap_h_c',\n",
              "       'pvap_h_d', 'delta_h_vap_bp'],\n",
              "      dtype='object')"
            ]
          },
          "metadata": {
            "tags": []
          },
          "execution_count": 5
        }
      ]
    },
    {
      "cell_type": "code",
      "metadata": {
        "id": "9Z_jR3XpcFHT",
        "colab": {
          "base_uri": "https://localhost:8080/",
          "height": 1000
        },
        "outputId": "b555f262-ed22-473d-94b2-17bcb85a7e76"
      },
      "source": [
        "# Buscando o primeiro componente:\n",
        "filtro1 = dados.name.str.contains('BENZENE')\n",
        "dados[filtro1]\n"
      ],
      "execution_count": null,
      "outputs": [
        {
          "output_type": "execute_result",
          "data": {
            "text/html": [
              "<div>\n",
              "<style scoped>\n",
              "    .dataframe tbody tr th:only-of-type {\n",
              "        vertical-align: middle;\n",
              "    }\n",
              "\n",
              "    .dataframe tbody tr th {\n",
              "        vertical-align: top;\n",
              "    }\n",
              "\n",
              "    .dataframe thead th {\n",
              "        text-align: right;\n",
              "    }\n",
              "</style>\n",
              "<table border=\"1\" class=\"dataframe\">\n",
              "  <thead>\n",
              "    <tr style=\"text-align: right;\">\n",
              "      <th></th>\n",
              "      <th>num</th>\n",
              "      <th>name</th>\n",
              "      <th>molar_mass</th>\n",
              "      <th>fusion_point</th>\n",
              "      <th>boiling_point</th>\n",
              "      <th>critical_temp</th>\n",
              "      <th>critical_pressure</th>\n",
              "      <th>critical_volume</th>\n",
              "      <th>zc</th>\n",
              "      <th>acentric_factor</th>\n",
              "      <th>liq_density</th>\n",
              "      <th>temp_ref_liq_density</th>\n",
              "      <th>dipole_moment</th>\n",
              "      <th>cp_a</th>\n",
              "      <th>cp_b</th>\n",
              "      <th>cp_c</th>\n",
              "      <th>cp_d</th>\n",
              "      <th>visc_b</th>\n",
              "      <th>visc_c</th>\n",
              "      <th>delta_h0f_gas</th>\n",
              "      <th>delta_g0f_gas</th>\n",
              "      <th>pvap_a</th>\n",
              "      <th>pvap_b</th>\n",
              "      <th>pvap_c</th>\n",
              "      <th>temp_max_pvap</th>\n",
              "      <th>temp_min_pvap</th>\n",
              "      <th>pvap_h_a</th>\n",
              "      <th>pvap_h_b</th>\n",
              "      <th>pvap_h_c</th>\n",
              "      <th>pvap_h_d</th>\n",
              "      <th>delta_h_vap_bp</th>\n",
              "    </tr>\n",
              "  </thead>\n",
              "  <tbody>\n",
              "    <tr>\n",
              "      <th>14</th>\n",
              "      <td>383</td>\n",
              "      <td>1,2,3-TRIMETHYLBENZENE</td>\n",
              "      <td>120.195</td>\n",
              "      <td>247.7</td>\n",
              "      <td>449.2</td>\n",
              "      <td>664.5</td>\n",
              "      <td>34.1</td>\n",
              "      <td>430.0</td>\n",
              "      <td>0.270</td>\n",
              "      <td>0.390</td>\n",
              "      <td>0.894</td>\n",
              "      <td>293.0</td>\n",
              "      <td>0.6</td>\n",
              "      <td>-1.658000</td>\n",
              "      <td>0.151300</td>\n",
              "      <td>-0.000079</td>\n",
              "      <td>1.579000e-08</td>\n",
              "      <td>NaN</td>\n",
              "      <td>NaN</td>\n",
              "      <td>-2.29</td>\n",
              "      <td>29.77</td>\n",
              "      <td>16.2121</td>\n",
              "      <td>3670.22</td>\n",
              "      <td>-66.07</td>\n",
              "      <td>479.00</td>\n",
              "      <td>329.0</td>\n",
              "      <td>NaN</td>\n",
              "      <td>NaN</td>\n",
              "      <td>NaN</td>\n",
              "      <td>NaN</td>\n",
              "      <td>9570.0</td>\n",
              "    </tr>\n",
              "    <tr>\n",
              "      <th>16</th>\n",
              "      <td>384</td>\n",
              "      <td>1,2,4-TRIMETHYLBENZENE</td>\n",
              "      <td>120.195</td>\n",
              "      <td>227.0</td>\n",
              "      <td>442.5</td>\n",
              "      <td>649.1</td>\n",
              "      <td>31.9</td>\n",
              "      <td>430.0</td>\n",
              "      <td>0.258</td>\n",
              "      <td>0.390</td>\n",
              "      <td>0.880</td>\n",
              "      <td>289.0</td>\n",
              "      <td>0.3</td>\n",
              "      <td>-1.115000</td>\n",
              "      <td>0.149000</td>\n",
              "      <td>-0.000078</td>\n",
              "      <td>1.523000e-08</td>\n",
              "      <td>872.74</td>\n",
              "      <td>297.75</td>\n",
              "      <td>-3.33</td>\n",
              "      <td>27.95</td>\n",
              "      <td>16.2190</td>\n",
              "      <td>3622.58</td>\n",
              "      <td>-64.59</td>\n",
              "      <td>471.00</td>\n",
              "      <td>324.0</td>\n",
              "      <td>56.241</td>\n",
              "      <td>-7256.56</td>\n",
              "      <td>-5.459</td>\n",
              "      <td>7.270</td>\n",
              "      <td>9380.0</td>\n",
              "    </tr>\n",
              "    <tr>\n",
              "      <th>24</th>\n",
              "      <td>385</td>\n",
              "      <td>1,3,5-TRIMETHYLBENZENE</td>\n",
              "      <td>120.195</td>\n",
              "      <td>228.4</td>\n",
              "      <td>437.9</td>\n",
              "      <td>637.3</td>\n",
              "      <td>30.9</td>\n",
              "      <td>433.0</td>\n",
              "      <td>0.260</td>\n",
              "      <td>0.398</td>\n",
              "      <td>0.865</td>\n",
              "      <td>293.0</td>\n",
              "      <td>0.1</td>\n",
              "      <td>-4.679000</td>\n",
              "      <td>0.160600</td>\n",
              "      <td>-0.000088</td>\n",
              "      <td>1.839000e-08</td>\n",
              "      <td>437.52</td>\n",
              "      <td>268.27</td>\n",
              "      <td>3.84</td>\n",
              "      <td>28.19</td>\n",
              "      <td>16.2893</td>\n",
              "      <td>3614.19</td>\n",
              "      <td>-63.57</td>\n",
              "      <td>466.00</td>\n",
              "      <td>321.0</td>\n",
              "      <td>58.041</td>\n",
              "      <td>-7326.78</td>\n",
              "      <td>-5.706</td>\n",
              "      <td>7.220</td>\n",
              "      <td>9330.0</td>\n",
              "    </tr>\n",
              "    <tr>\n",
              "      <th>28</th>\n",
              "      <td>407</td>\n",
              "      <td>1,4-DIETHYLBENZENE</td>\n",
              "      <td>134.222</td>\n",
              "      <td>231.0</td>\n",
              "      <td>456.9</td>\n",
              "      <td>657.9</td>\n",
              "      <td>27.7</td>\n",
              "      <td>480.0</td>\n",
              "      <td>0.250</td>\n",
              "      <td>0.403</td>\n",
              "      <td>0.862</td>\n",
              "      <td>293.0</td>\n",
              "      <td>0.1</td>\n",
              "      <td>-8.937000</td>\n",
              "      <td>0.207100</td>\n",
              "      <td>-0.000133</td>\n",
              "      <td>3.370000e-08</td>\n",
              "      <td>NaN</td>\n",
              "      <td>NaN</td>\n",
              "      <td>-5.32</td>\n",
              "      <td>32.95</td>\n",
              "      <td>16.1140</td>\n",
              "      <td>3657.22</td>\n",
              "      <td>-71.18</td>\n",
              "      <td>487.00</td>\n",
              "      <td>335.0</td>\n",
              "      <td>NaN</td>\n",
              "      <td>NaN</td>\n",
              "      <td>NaN</td>\n",
              "      <td>NaN</td>\n",
              "      <td>9410.0</td>\n",
              "    </tr>\n",
              "    <tr>\n",
              "      <th>45</th>\n",
              "      <td>380</td>\n",
              "      <td>1-METHYL-2-ETHYLBENZENE</td>\n",
              "      <td>120.195</td>\n",
              "      <td>192.3</td>\n",
              "      <td>438.3</td>\n",
              "      <td>651.0</td>\n",
              "      <td>30.0</td>\n",
              "      <td>460.0</td>\n",
              "      <td>0.260</td>\n",
              "      <td>0.294</td>\n",
              "      <td>0.881</td>\n",
              "      <td>293.0</td>\n",
              "      <td>0.0</td>\n",
              "      <td>-3.928000</td>\n",
              "      <td>0.167100</td>\n",
              "      <td>-0.000098</td>\n",
              "      <td>2.228000e-08</td>\n",
              "      <td>NaN</td>\n",
              "      <td>NaN</td>\n",
              "      <td>0.29</td>\n",
              "      <td>31.33</td>\n",
              "      <td>16.1253</td>\n",
              "      <td>3535.33</td>\n",
              "      <td>-65.85</td>\n",
              "      <td>467.00</td>\n",
              "      <td>321.0</td>\n",
              "      <td>64.337</td>\n",
              "      <td>-7662.94</td>\n",
              "      <td>-6.617</td>\n",
              "      <td>7.180</td>\n",
              "      <td>9290.0</td>\n",
              "    </tr>\n",
              "    <tr>\n",
              "      <th>46</th>\n",
              "      <td>404</td>\n",
              "      <td>1-METHYL-2-ISOPROPYLBENZENE</td>\n",
              "      <td>134.222</td>\n",
              "      <td>NaN</td>\n",
              "      <td>451.5</td>\n",
              "      <td>670.0</td>\n",
              "      <td>28.6</td>\n",
              "      <td>NaN</td>\n",
              "      <td>NaN</td>\n",
              "      <td>0.277</td>\n",
              "      <td>0.876</td>\n",
              "      <td>293.0</td>\n",
              "      <td>0.0</td>\n",
              "      <td>NaN</td>\n",
              "      <td>NaN</td>\n",
              "      <td>NaN</td>\n",
              "      <td>NaN</td>\n",
              "      <td>NaN</td>\n",
              "      <td>NaN</td>\n",
              "      <td>0.00</td>\n",
              "      <td>0.00</td>\n",
              "      <td>15.9809</td>\n",
              "      <td>3564.52</td>\n",
              "      <td>-70.00</td>\n",
              "      <td>481.00</td>\n",
              "      <td>330.0</td>\n",
              "      <td>NaN</td>\n",
              "      <td>NaN</td>\n",
              "      <td>NaN</td>\n",
              "      <td>NaN</td>\n",
              "      <td>0.0</td>\n",
              "    </tr>\n",
              "    <tr>\n",
              "      <th>47</th>\n",
              "      <td>405</td>\n",
              "      <td>1-METHYL-2-ISOPROPYLBENZENE</td>\n",
              "      <td>134.222</td>\n",
              "      <td>NaN</td>\n",
              "      <td>448.3</td>\n",
              "      <td>666.0</td>\n",
              "      <td>29.0</td>\n",
              "      <td>NaN</td>\n",
              "      <td>NaN</td>\n",
              "      <td>0.279</td>\n",
              "      <td>0.861</td>\n",
              "      <td>293.0</td>\n",
              "      <td>0.0</td>\n",
              "      <td>-11.646000</td>\n",
              "      <td>0.216500</td>\n",
              "      <td>-0.000145</td>\n",
              "      <td>3.887000e-08</td>\n",
              "      <td>NaN</td>\n",
              "      <td>NaN</td>\n",
              "      <td>-7.00</td>\n",
              "      <td>0.00</td>\n",
              "      <td>15.9811</td>\n",
              "      <td>3543.79</td>\n",
              "      <td>-69.22</td>\n",
              "      <td>478.00</td>\n",
              "      <td>328.0</td>\n",
              "      <td>67.726</td>\n",
              "      <td>-8033.58</td>\n",
              "      <td>-7.076</td>\n",
              "      <td>8.390</td>\n",
              "      <td>9110.0</td>\n",
              "    </tr>\n",
              "    <tr>\n",
              "      <th>48</th>\n",
              "      <td>381</td>\n",
              "      <td>1-METHYL-3-ETHYLBENZENE</td>\n",
              "      <td>120.195</td>\n",
              "      <td>177.6</td>\n",
              "      <td>434.5</td>\n",
              "      <td>637.0</td>\n",
              "      <td>28.0</td>\n",
              "      <td>490.0</td>\n",
              "      <td>0.260</td>\n",
              "      <td>0.360</td>\n",
              "      <td>0.865</td>\n",
              "      <td>293.0</td>\n",
              "      <td>0.0</td>\n",
              "      <td>-6.926000</td>\n",
              "      <td>0.174200</td>\n",
              "      <td>-0.000104</td>\n",
              "      <td>2.388000e+00</td>\n",
              "      <td>8.00</td>\n",
              "      <td>0.00</td>\n",
              "      <td>0.00</td>\n",
              "      <td>-0.46</td>\n",
              "      <td>30.2200</td>\n",
              "      <td>16.15</td>\n",
              "      <td>3521.08</td>\n",
              "      <td>-64.64</td>\n",
              "      <td>463.0</td>\n",
              "      <td>318.000</td>\n",
              "      <td>65.67</td>\n",
              "      <td>-7678.110</td>\n",
              "      <td>-6.815</td>\n",
              "      <td>7.2</td>\n",
              "    </tr>\n",
              "    <tr>\n",
              "      <th>49</th>\n",
              "      <td>382</td>\n",
              "      <td>1-METHYL-4-ETHYLBENZENE</td>\n",
              "      <td>120.195</td>\n",
              "      <td>210.8</td>\n",
              "      <td>435.2</td>\n",
              "      <td>640.0</td>\n",
              "      <td>29.0</td>\n",
              "      <td>470.0</td>\n",
              "      <td>0.260</td>\n",
              "      <td>0.322</td>\n",
              "      <td>0.861</td>\n",
              "      <td>293.0</td>\n",
              "      <td>0.0</td>\n",
              "      <td>-6.523000</td>\n",
              "      <td>0.171400</td>\n",
              "      <td>-0.000101</td>\n",
              "      <td>2.279000e-08</td>\n",
              "      <td>463.17</td>\n",
              "      <td>266.08</td>\n",
              "      <td>-0.49</td>\n",
              "      <td>30.28</td>\n",
              "      <td>16.1135</td>\n",
              "      <td>3516.31</td>\n",
              "      <td>-64.23</td>\n",
              "      <td>463.00</td>\n",
              "      <td>318.0</td>\n",
              "      <td>61.404</td>\n",
              "      <td>-7422.59</td>\n",
              "      <td>-6.212</td>\n",
              "      <td>7.230</td>\n",
              "      <td>9180.0</td>\n",
              "    </tr>\n",
              "    <tr>\n",
              "      <th>50</th>\n",
              "      <td>406</td>\n",
              "      <td>1-METHYL-4-ISOPROPYLBENZENE</td>\n",
              "      <td>134.222</td>\n",
              "      <td>200.0</td>\n",
              "      <td>450.3</td>\n",
              "      <td>653.0</td>\n",
              "      <td>27.9</td>\n",
              "      <td>NaN</td>\n",
              "      <td>NaN</td>\n",
              "      <td>0.371</td>\n",
              "      <td>0.857</td>\n",
              "      <td>293.0</td>\n",
              "      <td>0.0</td>\n",
              "      <td>NaN</td>\n",
              "      <td>NaN</td>\n",
              "      <td>NaN</td>\n",
              "      <td>NaN</td>\n",
              "      <td>NaN</td>\n",
              "      <td>NaN</td>\n",
              "      <td>0.00</td>\n",
              "      <td>0.00</td>\n",
              "      <td>15.9424</td>\n",
              "      <td>3539.21</td>\n",
              "      <td>-70.10</td>\n",
              "      <td>480.00</td>\n",
              "      <td>329.0</td>\n",
              "      <td>63.225</td>\n",
              "      <td>-7800.97</td>\n",
              "      <td>-6.432</td>\n",
              "      <td>8.410</td>\n",
              "      <td>0.0</td>\n",
              "    </tr>\n",
              "    <tr>\n",
              "      <th>161</th>\n",
              "      <td>242</td>\n",
              "      <td>BENZENE</td>\n",
              "      <td>78.114</td>\n",
              "      <td>278.7</td>\n",
              "      <td>353.3</td>\n",
              "      <td>562.1</td>\n",
              "      <td>48.3</td>\n",
              "      <td>259.0</td>\n",
              "      <td>0.271</td>\n",
              "      <td>0.212</td>\n",
              "      <td>0.885</td>\n",
              "      <td>289.0</td>\n",
              "      <td>0.0</td>\n",
              "      <td>-0.409341</td>\n",
              "      <td>0.077624</td>\n",
              "      <td>-0.000026</td>\n",
              "      <td>4.404292e-21</td>\n",
              "      <td>545.64</td>\n",
              "      <td>265.34</td>\n",
              "      <td>19.82</td>\n",
              "      <td>30.99</td>\n",
              "      <td>15.9008</td>\n",
              "      <td>2788.51</td>\n",
              "      <td>-52.36</td>\n",
              "      <td>377.00</td>\n",
              "      <td>280.0</td>\n",
              "      <td>52.100</td>\n",
              "      <td>-5557.61</td>\n",
              "      <td>-5.072</td>\n",
              "      <td>3.610</td>\n",
              "      <td>7352.0</td>\n",
              "    </tr>\n",
              "    <tr>\n",
              "      <th>168</th>\n",
              "      <td>238</td>\n",
              "      <td>BROMOBENZENE</td>\n",
              "      <td>157.010</td>\n",
              "      <td>242.3</td>\n",
              "      <td>429.3</td>\n",
              "      <td>670.0</td>\n",
              "      <td>44.6</td>\n",
              "      <td>324.0</td>\n",
              "      <td>0.263</td>\n",
              "      <td>0.249</td>\n",
              "      <td>1.495</td>\n",
              "      <td>293.0</td>\n",
              "      <td>1.5</td>\n",
              "      <td>-6.880000</td>\n",
              "      <td>0.127800</td>\n",
              "      <td>-0.000097</td>\n",
              "      <td>2.894000e-08</td>\n",
              "      <td>508.18</td>\n",
              "      <td>302.42</td>\n",
              "      <td>25.10</td>\n",
              "      <td>33.11</td>\n",
              "      <td>15.7972</td>\n",
              "      <td>3313.00</td>\n",
              "      <td>-67.71</td>\n",
              "      <td>450.00</td>\n",
              "      <td>320.0</td>\n",
              "      <td>56.566</td>\n",
              "      <td>-7005.23</td>\n",
              "      <td>-5.548</td>\n",
              "      <td>5.590</td>\n",
              "      <td>0.0</td>\n",
              "    </tr>\n",
              "    <tr>\n",
              "      <th>182</th>\n",
              "      <td>239</td>\n",
              "      <td>CHLOROBENZENE</td>\n",
              "      <td>112.559</td>\n",
              "      <td>227.6</td>\n",
              "      <td>404.9</td>\n",
              "      <td>632.4</td>\n",
              "      <td>44.6</td>\n",
              "      <td>308.0</td>\n",
              "      <td>0.265</td>\n",
              "      <td>0.249</td>\n",
              "      <td>1.106</td>\n",
              "      <td>293.0</td>\n",
              "      <td>1.6</td>\n",
              "      <td>-8.094000</td>\n",
              "      <td>0.134500</td>\n",
              "      <td>-0.000108</td>\n",
              "      <td>3.407000e-08</td>\n",
              "      <td>477.76</td>\n",
              "      <td>276.22</td>\n",
              "      <td>12.39</td>\n",
              "      <td>23.70</td>\n",
              "      <td>16.0676</td>\n",
              "      <td>3295.12</td>\n",
              "      <td>-55.60</td>\n",
              "      <td>420.00</td>\n",
              "      <td>320.0</td>\n",
              "      <td>57.251</td>\n",
              "      <td>-6684.47</td>\n",
              "      <td>-5.686</td>\n",
              "      <td>4.980</td>\n",
              "      <td>8735.0</td>\n",
              "    </tr>\n",
              "    <tr>\n",
              "      <th>248</th>\n",
              "      <td>325</td>\n",
              "      <td>ETHYLBENZENE</td>\n",
              "      <td>106.168</td>\n",
              "      <td>178.2</td>\n",
              "      <td>409.3</td>\n",
              "      <td>617.1</td>\n",
              "      <td>35.6</td>\n",
              "      <td>374.0</td>\n",
              "      <td>0.263</td>\n",
              "      <td>0.301</td>\n",
              "      <td>0.867</td>\n",
              "      <td>293.0</td>\n",
              "      <td>0.4</td>\n",
              "      <td>-10.294000</td>\n",
              "      <td>0.168900</td>\n",
              "      <td>-0.000115</td>\n",
              "      <td>3.107000e-08</td>\n",
              "      <td>472.82</td>\n",
              "      <td>264.22</td>\n",
              "      <td>7.12</td>\n",
              "      <td>31.21</td>\n",
              "      <td>16.0195</td>\n",
              "      <td>3279.47</td>\n",
              "      <td>-59.95</td>\n",
              "      <td>450.00</td>\n",
              "      <td>300.0</td>\n",
              "      <td>58.100</td>\n",
              "      <td>-6792.54</td>\n",
              "      <td>-5.802</td>\n",
              "      <td>5.750</td>\n",
              "      <td>8500.0</td>\n",
              "    </tr>\n",
              "    <tr>\n",
              "      <th>257</th>\n",
              "      <td>240</td>\n",
              "      <td>FLUOROBENZENE</td>\n",
              "      <td>96.104</td>\n",
              "      <td>234.0</td>\n",
              "      <td>358.5</td>\n",
              "      <td>560.1</td>\n",
              "      <td>44.9</td>\n",
              "      <td>271.0</td>\n",
              "      <td>0.265</td>\n",
              "      <td>0.245</td>\n",
              "      <td>1.024</td>\n",
              "      <td>293.0</td>\n",
              "      <td>1.4</td>\n",
              "      <td>-9.250000</td>\n",
              "      <td>0.135400</td>\n",
              "      <td>-0.000106</td>\n",
              "      <td>3.237000e-08</td>\n",
              "      <td>452.06</td>\n",
              "      <td>252.89</td>\n",
              "      <td>-27.86</td>\n",
              "      <td>-16.50</td>\n",
              "      <td>16.5487</td>\n",
              "      <td>3181.78</td>\n",
              "      <td>-37.59</td>\n",
              "      <td>370.00</td>\n",
              "      <td>250.0</td>\n",
              "      <td>55.141</td>\n",
              "      <td>-5819.21</td>\n",
              "      <td>-5.489</td>\n",
              "      <td>3.880</td>\n",
              "      <td>0.0</td>\n",
              "    </tr>\n",
              "    <tr>\n",
              "      <th>273</th>\n",
              "      <td>241</td>\n",
              "      <td>IODOBENZENE</td>\n",
              "      <td>204.011</td>\n",
              "      <td>241.8</td>\n",
              "      <td>461.4</td>\n",
              "      <td>721.0</td>\n",
              "      <td>44.6</td>\n",
              "      <td>351.0</td>\n",
              "      <td>0.265</td>\n",
              "      <td>0.246</td>\n",
              "      <td>1.855</td>\n",
              "      <td>277.0</td>\n",
              "      <td>1.4</td>\n",
              "      <td>-6.992000</td>\n",
              "      <td>0.132900</td>\n",
              "      <td>-0.000108</td>\n",
              "      <td>3.447000e-08</td>\n",
              "      <td>565.72</td>\n",
              "      <td>331.21</td>\n",
              "      <td>38.85</td>\n",
              "      <td>44.88</td>\n",
              "      <td>16.1454</td>\n",
              "      <td>3776.53</td>\n",
              "      <td>-64.38</td>\n",
              "      <td>470.00</td>\n",
              "      <td>290.0</td>\n",
              "      <td>57.691</td>\n",
              "      <td>-7589.50</td>\n",
              "      <td>-5.646</td>\n",
              "      <td>6.460</td>\n",
              "      <td>9440.0</td>\n",
              "    </tr>\n",
              "    <tr>\n",
              "      <th>279</th>\n",
              "      <td>401</td>\n",
              "      <td>ISOBUTYLBENZENE</td>\n",
              "      <td>134.222</td>\n",
              "      <td>221.7</td>\n",
              "      <td>445.9</td>\n",
              "      <td>650.0</td>\n",
              "      <td>31.0</td>\n",
              "      <td>480.0</td>\n",
              "      <td>0.280</td>\n",
              "      <td>0.378</td>\n",
              "      <td>0.853</td>\n",
              "      <td>293.0</td>\n",
              "      <td>0.3</td>\n",
              "      <td>NaN</td>\n",
              "      <td>NaN</td>\n",
              "      <td>NaN</td>\n",
              "      <td>NaN</td>\n",
              "      <td>NaN</td>\n",
              "      <td>NaN</td>\n",
              "      <td>-5.15</td>\n",
              "      <td>0.00</td>\n",
              "      <td>15.9524</td>\n",
              "      <td>3512.47</td>\n",
              "      <td>-69.03</td>\n",
              "      <td>476.00</td>\n",
              "      <td>326.0</td>\n",
              "      <td>NaN</td>\n",
              "      <td>NaN</td>\n",
              "      <td>NaN</td>\n",
              "      <td>NaN</td>\n",
              "      <td>9040.0</td>\n",
              "    </tr>\n",
              "    <tr>\n",
              "      <th>287</th>\n",
              "      <td>379</td>\n",
              "      <td>ISOPROPYLBENZENE</td>\n",
              "      <td>120.195</td>\n",
              "      <td>177.1</td>\n",
              "      <td>425.6</td>\n",
              "      <td>631.0</td>\n",
              "      <td>31.7</td>\n",
              "      <td>428.0</td>\n",
              "      <td>0.260</td>\n",
              "      <td>0.335</td>\n",
              "      <td>0.862</td>\n",
              "      <td>293.0</td>\n",
              "      <td>0.4</td>\n",
              "      <td>-9.042000</td>\n",
              "      <td>0.187300</td>\n",
              "      <td>-0.000121</td>\n",
              "      <td>3.084000e-08</td>\n",
              "      <td>517.17</td>\n",
              "      <td>276.22</td>\n",
              "      <td>0.94</td>\n",
              "      <td>32.74</td>\n",
              "      <td>15.9722</td>\n",
              "      <td>3363.60</td>\n",
              "      <td>-63.37</td>\n",
              "      <td>454.00</td>\n",
              "      <td>311.0</td>\n",
              "      <td>46.941</td>\n",
              "      <td>-6285.25</td>\n",
              "      <td>-4.227</td>\n",
              "      <td>6.860</td>\n",
              "      <td>8970.0</td>\n",
              "    </tr>\n",
              "    <tr>\n",
              "      <th>294</th>\n",
              "      <td>236</td>\n",
              "      <td>M-DICHLOROBENZENE</td>\n",
              "      <td>147.004</td>\n",
              "      <td>248.4</td>\n",
              "      <td>446.0</td>\n",
              "      <td>684.0</td>\n",
              "      <td>38.0</td>\n",
              "      <td>359.0</td>\n",
              "      <td>0.240</td>\n",
              "      <td>0.260</td>\n",
              "      <td>1.288</td>\n",
              "      <td>293.0</td>\n",
              "      <td>1.4</td>\n",
              "      <td>-3.246000</td>\n",
              "      <td>0.131200</td>\n",
              "      <td>-0.000108</td>\n",
              "      <td>3.408000e-08</td>\n",
              "      <td>402.20</td>\n",
              "      <td>300.89</td>\n",
              "      <td>6.32</td>\n",
              "      <td>18.78</td>\n",
              "      <td>16.8173</td>\n",
              "      <td>4104.13</td>\n",
              "      <td>-43.15</td>\n",
              "      <td>475.00</td>\n",
              "      <td>326.0</td>\n",
              "      <td>NaN</td>\n",
              "      <td>NaN</td>\n",
              "      <td>NaN</td>\n",
              "      <td>NaN</td>\n",
              "      <td>9230.0</td>\n",
              "    </tr>\n",
              "    <tr>\n",
              "      <th>338</th>\n",
              "      <td>400</td>\n",
              "      <td>N-BUTYLBENZENE</td>\n",
              "      <td>134.222</td>\n",
              "      <td>185.2</td>\n",
              "      <td>456.4</td>\n",
              "      <td>660.5</td>\n",
              "      <td>28.5</td>\n",
              "      <td>497.0</td>\n",
              "      <td>0.261</td>\n",
              "      <td>0.392</td>\n",
              "      <td>0.860</td>\n",
              "      <td>293.0</td>\n",
              "      <td>0.4</td>\n",
              "      <td>-5.491000</td>\n",
              "      <td>0.189500</td>\n",
              "      <td>-0.000105</td>\n",
              "      <td>2.047000e-08</td>\n",
              "      <td>563.84</td>\n",
              "      <td>296.01</td>\n",
              "      <td>-3.30</td>\n",
              "      <td>34.58</td>\n",
              "      <td>16.0793</td>\n",
              "      <td>3633.40</td>\n",
              "      <td>-71.77</td>\n",
              "      <td>486.00</td>\n",
              "      <td>335.0</td>\n",
              "      <td>NaN</td>\n",
              "      <td>NaN</td>\n",
              "      <td>NaN</td>\n",
              "      <td>NaN</td>\n",
              "      <td>9380.0</td>\n",
              "    </tr>\n",
              "    <tr>\n",
              "      <th>376</th>\n",
              "      <td>378</td>\n",
              "      <td>N-PROPYLBENZENE</td>\n",
              "      <td>120.195</td>\n",
              "      <td>173.7</td>\n",
              "      <td>432.4</td>\n",
              "      <td>638.3</td>\n",
              "      <td>31.6</td>\n",
              "      <td>440.0</td>\n",
              "      <td>0.265</td>\n",
              "      <td>0.344</td>\n",
              "      <td>0.862</td>\n",
              "      <td>293.0</td>\n",
              "      <td>0.4</td>\n",
              "      <td>-7.473000</td>\n",
              "      <td>0.178800</td>\n",
              "      <td>-0.000110</td>\n",
              "      <td>2.582000e-08</td>\n",
              "      <td>527.45</td>\n",
              "      <td>282.65</td>\n",
              "      <td>1.87</td>\n",
              "      <td>32.80</td>\n",
              "      <td>16.0062</td>\n",
              "      <td>3433.84</td>\n",
              "      <td>-66.01</td>\n",
              "      <td>461.00</td>\n",
              "      <td>316.0</td>\n",
              "      <td>NaN</td>\n",
              "      <td>NaN</td>\n",
              "      <td>NaN</td>\n",
              "      <td>NaN</td>\n",
              "      <td>9140.0</td>\n",
              "    </tr>\n",
              "    <tr>\n",
              "      <th>386</th>\n",
              "      <td>235</td>\n",
              "      <td>O-DICHLOROBENZENE</td>\n",
              "      <td>147.004</td>\n",
              "      <td>256.1</td>\n",
              "      <td>453.6</td>\n",
              "      <td>697.3</td>\n",
              "      <td>40.5</td>\n",
              "      <td>360.0</td>\n",
              "      <td>0.225</td>\n",
              "      <td>0.272</td>\n",
              "      <td>1.306</td>\n",
              "      <td>293.0</td>\n",
              "      <td>2.3</td>\n",
              "      <td>-3.416000</td>\n",
              "      <td>0.131500</td>\n",
              "      <td>-0.000108</td>\n",
              "      <td>3.414000e-08</td>\n",
              "      <td>554.35</td>\n",
              "      <td>319.07</td>\n",
              "      <td>7.16</td>\n",
              "      <td>19.76</td>\n",
              "      <td>16.2799</td>\n",
              "      <td>3798.23</td>\n",
              "      <td>-59.84</td>\n",
              "      <td>483.00</td>\n",
              "      <td>331.0</td>\n",
              "      <td>NaN</td>\n",
              "      <td>NaN</td>\n",
              "      <td>NaN</td>\n",
              "      <td>NaN</td>\n",
              "      <td>9480.0</td>\n",
              "    </tr>\n",
              "    <tr>\n",
              "      <th>394</th>\n",
              "      <td>237</td>\n",
              "      <td>P-DICLOROBENZENE</td>\n",
              "      <td>147.004</td>\n",
              "      <td>326.3</td>\n",
              "      <td>447.3</td>\n",
              "      <td>685.0</td>\n",
              "      <td>39.0</td>\n",
              "      <td>372.0</td>\n",
              "      <td>0.260</td>\n",
              "      <td>0.270</td>\n",
              "      <td>1.248</td>\n",
              "      <td>328.0</td>\n",
              "      <td>0.0</td>\n",
              "      <td>-3.426000</td>\n",
              "      <td>0.132200</td>\n",
              "      <td>-0.000109</td>\n",
              "      <td>3.458000e-08</td>\n",
              "      <td>483.82</td>\n",
              "      <td>312.03</td>\n",
              "      <td>5.50</td>\n",
              "      <td>18.44</td>\n",
              "      <td>16.1135</td>\n",
              "      <td>3626.83</td>\n",
              "      <td>-64.64</td>\n",
              "      <td>477.00</td>\n",
              "      <td>326.0</td>\n",
              "      <td>NaN</td>\n",
              "      <td>NaN</td>\n",
              "      <td>NaN</td>\n",
              "      <td>NaN</td>\n",
              "      <td>9270.0</td>\n",
              "    </tr>\n",
              "    <tr>\n",
              "      <th>395</th>\n",
              "      <td>232</td>\n",
              "      <td>PERFLUOROBENZENE</td>\n",
              "      <td>186.056</td>\n",
              "      <td>NaN</td>\n",
              "      <td>353.4</td>\n",
              "      <td>516.7</td>\n",
              "      <td>32.6</td>\n",
              "      <td>NaN</td>\n",
              "      <td>NaN</td>\n",
              "      <td>0.400</td>\n",
              "      <td>NaN</td>\n",
              "      <td>0.0</td>\n",
              "      <td>0.0</td>\n",
              "      <td>8.660000</td>\n",
              "      <td>0.125800</td>\n",
              "      <td>-0.000109</td>\n",
              "      <td>3.477000e-08</td>\n",
              "      <td>NaN</td>\n",
              "      <td>NaN</td>\n",
              "      <td>-228.64</td>\n",
              "      <td>-210.18</td>\n",
              "      <td>16.1940</td>\n",
              "      <td>2827.53</td>\n",
              "      <td>-57.66</td>\n",
              "      <td>390.00</td>\n",
              "      <td>270.0</td>\n",
              "      <td>74.686</td>\n",
              "      <td>-6815.04</td>\n",
              "      <td>-8.318</td>\n",
              "      <td>5.310</td>\n",
              "      <td>0.0</td>\n",
              "    </tr>\n",
              "    <tr>\n",
              "      <th>424</th>\n",
              "      <td>402</td>\n",
              "      <td>SEC-BUTYLBENZENE</td>\n",
              "      <td>134.222</td>\n",
              "      <td>197.7</td>\n",
              "      <td>446.5</td>\n",
              "      <td>664.0</td>\n",
              "      <td>29.1</td>\n",
              "      <td>NaN</td>\n",
              "      <td>NaN</td>\n",
              "      <td>0.274</td>\n",
              "      <td>0.862</td>\n",
              "      <td>293.0</td>\n",
              "      <td>0.4</td>\n",
              "      <td>-15.560000</td>\n",
              "      <td>0.236300</td>\n",
              "      <td>-0.000172</td>\n",
              "      <td>5.140000e-08</td>\n",
              "      <td>582.66</td>\n",
              "      <td>295.82</td>\n",
              "      <td>-4.17</td>\n",
              "      <td>0.00</td>\n",
              "      <td>15.9999</td>\n",
              "      <td>3544.19</td>\n",
              "      <td>-68.10</td>\n",
              "      <td>476.00</td>\n",
              "      <td>325.0</td>\n",
              "      <td>NaN</td>\n",
              "      <td>NaN</td>\n",
              "      <td>NaN</td>\n",
              "      <td>NaN</td>\n",
              "      <td>9070.0</td>\n",
              "    </tr>\n",
              "    <tr>\n",
              "      <th>435</th>\n",
              "      <td>403</td>\n",
              "      <td>TERT-BUTYLBENZENE</td>\n",
              "      <td>134.222</td>\n",
              "      <td>215.3</td>\n",
              "      <td>442.3</td>\n",
              "      <td>660.0</td>\n",
              "      <td>29.3</td>\n",
              "      <td>NaN</td>\n",
              "      <td>NaN</td>\n",
              "      <td>0.265</td>\n",
              "      <td>0.867</td>\n",
              "      <td>293.0</td>\n",
              "      <td>0.5</td>\n",
              "      <td>-20.541000</td>\n",
              "      <td>0.263200</td>\n",
              "      <td>-0.000209</td>\n",
              "      <td>6.751000e-08</td>\n",
              "      <td>NaN</td>\n",
              "      <td>NaN</td>\n",
              "      <td>-5.42</td>\n",
              "      <td>0.00</td>\n",
              "      <td>15.9300</td>\n",
              "      <td>3462.28</td>\n",
              "      <td>-69.87</td>\n",
              "      <td>472.00</td>\n",
              "      <td>323.0</td>\n",
              "      <td>NaN</td>\n",
              "      <td>NaN</td>\n",
              "      <td>NaN</td>\n",
              "      <td>NaN</td>\n",
              "      <td>8990.0</td>\n",
              "    </tr>\n",
              "  </tbody>\n",
              "</table>\n",
              "</div>"
            ],
            "text/plain": [
              "     num                         name  ...  pvap_h_d  delta_h_vap_bp\n",
              "14   383       1,2,3-TRIMETHYLBENZENE  ...       NaN          9570.0\n",
              "16   384       1,2,4-TRIMETHYLBENZENE  ...     7.270          9380.0\n",
              "24   385       1,3,5-TRIMETHYLBENZENE  ...     7.220          9330.0\n",
              "28   407           1,4-DIETHYLBENZENE  ...       NaN          9410.0\n",
              "45   380      1-METHYL-2-ETHYLBENZENE  ...     7.180          9290.0\n",
              "46   404  1-METHYL-2-ISOPROPYLBENZENE  ...       NaN             0.0\n",
              "47   405  1-METHYL-2-ISOPROPYLBENZENE  ...     8.390          9110.0\n",
              "48   381      1-METHYL-3-ETHYLBENZENE  ...    -6.815             7.2\n",
              "49   382      1-METHYL-4-ETHYLBENZENE  ...     7.230          9180.0\n",
              "50   406  1-METHYL-4-ISOPROPYLBENZENE  ...     8.410             0.0\n",
              "161  242                      BENZENE  ...     3.610          7352.0\n",
              "168  238                 BROMOBENZENE  ...     5.590             0.0\n",
              "182  239               CHLOROBENZENE   ...     4.980          8735.0\n",
              "248  325                 ETHYLBENZENE  ...     5.750          8500.0\n",
              "257  240                FLUOROBENZENE  ...     3.880             0.0\n",
              "273  241                  IODOBENZENE  ...     6.460          9440.0\n",
              "279  401              ISOBUTYLBENZENE  ...       NaN          9040.0\n",
              "287  379             ISOPROPYLBENZENE  ...     6.860          8970.0\n",
              "294  236            M-DICHLOROBENZENE  ...       NaN          9230.0\n",
              "338  400               N-BUTYLBENZENE  ...       NaN          9380.0\n",
              "376  378              N-PROPYLBENZENE  ...       NaN          9140.0\n",
              "386  235            O-DICHLOROBENZENE  ...       NaN          9480.0\n",
              "394  237             P-DICLOROBENZENE  ...       NaN          9270.0\n",
              "395  232             PERFLUOROBENZENE  ...     5.310             0.0\n",
              "424  402             SEC-BUTYLBENZENE  ...       NaN          9070.0\n",
              "435  403            TERT-BUTYLBENZENE  ...       NaN          8990.0\n",
              "\n",
              "[26 rows x 31 columns]"
            ]
          },
          "metadata": {
            "tags": []
          },
          "execution_count": 6
        }
      ]
    },
    {
      "cell_type": "code",
      "metadata": {
        "colab": {
          "base_uri": "https://localhost:8080/",
          "height": 117
        },
        "id": "W3rFFl3UdD3h",
        "outputId": "882a6805-5478-49ff-8c4e-93724312ffd9"
      },
      "source": [
        "# Buscando o segundo componente: \n",
        "filtro2 = dados.name.str.contains('TOLUENE')\n",
        "dados[filtro2]"
      ],
      "execution_count": null,
      "outputs": [
        {
          "output_type": "execute_result",
          "data": {
            "text/html": [
              "<div>\n",
              "<style scoped>\n",
              "    .dataframe tbody tr th:only-of-type {\n",
              "        vertical-align: middle;\n",
              "    }\n",
              "\n",
              "    .dataframe tbody tr th {\n",
              "        vertical-align: top;\n",
              "    }\n",
              "\n",
              "    .dataframe thead th {\n",
              "        text-align: right;\n",
              "    }\n",
              "</style>\n",
              "<table border=\"1\" class=\"dataframe\">\n",
              "  <thead>\n",
              "    <tr style=\"text-align: right;\">\n",
              "      <th></th>\n",
              "      <th>num</th>\n",
              "      <th>name</th>\n",
              "      <th>molar_mass</th>\n",
              "      <th>fusion_point</th>\n",
              "      <th>boiling_point</th>\n",
              "      <th>critical_temp</th>\n",
              "      <th>critical_pressure</th>\n",
              "      <th>critical_volume</th>\n",
              "      <th>zc</th>\n",
              "      <th>acentric_factor</th>\n",
              "      <th>liq_density</th>\n",
              "      <th>temp_ref_liq_density</th>\n",
              "      <th>dipole_moment</th>\n",
              "      <th>cp_a</th>\n",
              "      <th>cp_b</th>\n",
              "      <th>cp_c</th>\n",
              "      <th>cp_d</th>\n",
              "      <th>visc_b</th>\n",
              "      <th>visc_c</th>\n",
              "      <th>delta_h0f_gas</th>\n",
              "      <th>delta_g0f_gas</th>\n",
              "      <th>pvap_a</th>\n",
              "      <th>pvap_b</th>\n",
              "      <th>pvap_c</th>\n",
              "      <th>temp_max_pvap</th>\n",
              "      <th>temp_min_pvap</th>\n",
              "      <th>pvap_h_a</th>\n",
              "      <th>pvap_h_b</th>\n",
              "      <th>pvap_h_c</th>\n",
              "      <th>pvap_h_d</th>\n",
              "      <th>delta_h_vap_bp</th>\n",
              "    </tr>\n",
              "  </thead>\n",
              "  <tbody>\n",
              "    <tr>\n",
              "      <th>440</th>\n",
              "      <td>286</td>\n",
              "      <td>TOLUENE</td>\n",
              "      <td>92.141</td>\n",
              "      <td>178.0</td>\n",
              "      <td>383.8</td>\n",
              "      <td>591.7</td>\n",
              "      <td>40.6</td>\n",
              "      <td>316.0</td>\n",
              "      <td>0.264</td>\n",
              "      <td>0.257</td>\n",
              "      <td>0.867</td>\n",
              "      <td>293.0</td>\n",
              "      <td>0.4</td>\n",
              "      <td>-5.817</td>\n",
              "      <td>0.1224</td>\n",
              "      <td>-0.000066</td>\n",
              "      <td>1.173000e-08</td>\n",
              "      <td>467.33</td>\n",
              "      <td>255.24</td>\n",
              "      <td>11.95</td>\n",
              "      <td>29.16</td>\n",
              "      <td>16.0137</td>\n",
              "      <td>3096.52</td>\n",
              "      <td>-53.67</td>\n",
              "      <td>410.0</td>\n",
              "      <td>280.0</td>\n",
              "      <td>56.785</td>\n",
              "      <td>-6283.5</td>\n",
              "      <td>-5.681</td>\n",
              "      <td>4.84</td>\n",
              "      <td>7930.0</td>\n",
              "    </tr>\n",
              "  </tbody>\n",
              "</table>\n",
              "</div>"
            ],
            "text/plain": [
              "     num     name  molar_mass  ...  pvap_h_c  pvap_h_d  delta_h_vap_bp\n",
              "440  286  TOLUENE      92.141  ...    -5.681      4.84          7930.0\n",
              "\n",
              "[1 rows x 31 columns]"
            ]
          },
          "metadata": {
            "tags": []
          },
          "execution_count": 7
        }
      ]
    },
    {
      "cell_type": "markdown",
      "metadata": {
        "id": "9TIMw1Vudayg"
      },
      "source": [
        "Logo, pela pesquisa, sabemos que o número dos componentes desejados no banco de dados são 242 e 286.\n"
      ]
    },
    {
      "cell_type": "code",
      "metadata": {
        "colab": {
          "base_uri": "https://localhost:8080/"
        },
        "id": "iI04JAm0dh5z",
        "outputId": "e596a00d-0638-4e0b-9898-249e13b1fa42"
      },
      "source": [
        "# O comprimento da lista será o número de componentes\n",
        "lista_componentes = [ 242, 286]\n",
        "nc = len(lista_componentes)\n",
        "nc"
      ],
      "execution_count": null,
      "outputs": [
        {
          "output_type": "execute_result",
          "data": {
            "text/plain": [
              "2"
            ]
          },
          "metadata": {
            "tags": []
          },
          "execution_count": 8
        }
      ]
    },
    {
      "cell_type": "code",
      "metadata": {
        "colab": {
          "base_uri": "https://localhost:8080/"
        },
        "id": "paOKg2zQstqT",
        "outputId": "ca2e6f7f-22c9-45a0-c0c3-241756044561"
      },
      "source": [
        "# Encontrando as temperaturas de ebulição dos dois componenetes: \n",
        "T_eb_comp = dados[dados['num'].isin(lista_componentes)]['boiling_point']\n",
        "T_eb_comp = T_eb_comp.tolist()\n",
        "T_eb_comp"
      ],
      "execution_count": null,
      "outputs": [
        {
          "output_type": "execute_result",
          "data": {
            "text/plain": [
              "[353.3, 383.8]"
            ]
          },
          "metadata": {
            "tags": []
          },
          "execution_count": 9
        }
      ]
    },
    {
      "cell_type": "code",
      "metadata": {
        "id": "y_rKnnRshG_X"
      },
      "source": [
        "# Definindo as condições de temperatura e pressão do flash\n",
        "# Escolhendo um valor de temperatura intermediário entre os P.E dos componentes:\n",
        "T_flash = 95 + 273.15 # K\n",
        "P_flash = 760.0 # mmHg"
      ],
      "execution_count": null,
      "outputs": []
    },
    {
      "cell_type": "markdown",
      "metadata": {
        "id": "gSPxd2OFkni-"
      },
      "source": [
        "Agora iremos definir a função de Antoine:"
      ]
    },
    {
      "cell_type": "code",
      "metadata": {
        "id": "rzSPKJrFiN83"
      },
      "source": [
        "def f_Pvap_Antoine_db(Temp, i_comp, dados):\n",
        "  par_array = np.array(dados[dados['num'] == i_comp][['pvap_a','pvap_b','pvap_c']])[0]\n",
        "  par = {'a': par_array[0], 'b': par_array[1], 'c': par_array[2]}\n",
        "  a = par['a']\n",
        "  b = par['b']\n",
        "  c = par['c']\n",
        "  Pvap = np.exp(a - b/(Temp + c))\n",
        "  return Pvap, par"
      ],
      "execution_count": null,
      "outputs": []
    },
    {
      "cell_type": "markdown",
      "metadata": {
        "id": "CsOMAT6mmhcw"
      },
      "source": [
        "Encontrando a pressão de vapor do benzeno e do tolueno:"
      ]
    },
    {
      "cell_type": "code",
      "metadata": {
        "colab": {
          "base_uri": "https://localhost:8080/"
        },
        "id": "Z_5yILW7isPu",
        "outputId": "fab88665-4626-4f31-e4fc-da86a966244d"
      },
      "source": [
        "P_vap_comp = np.empty(nc)\n",
        "k = 0\n",
        "for i_comp in lista_componentes:\n",
        "  #print(i_comp)\n",
        "  print(dados[dados['num'] == i_comp]['name'])\n",
        "  P_vap_comp[k], par = f_Pvap_Antoine_db(T_flash, i_comp, dados)\n",
        "  k += 1\n",
        "P_vap_comp"
      ],
      "execution_count": null,
      "outputs": [
        {
          "output_type": "stream",
          "text": [
            "161    BENZENE\n",
            "Name: name, dtype: category\n",
            "Categories (465, object): ['1-BUTENE', '1-BUTYNE', '1-CHLORO-1,1-DIFLUOROETHANE',\n",
            "                           '1-CHLOROBUTANE', ..., 'VINYL METHYL ETHER', 'VINYLACETYLENE', 'WATER',\n",
            "                           'XENON']\n",
            "440    TOLUENE\n",
            "Name: name, dtype: category\n",
            "Categories (465, object): ['1-BUTENE', '1-BUTYNE', '1-CHLORO-1,1-DIFLUOROETHANE',\n",
            "                           '1-CHLOROBUTANE', ..., 'VINYL METHYL ETHER', 'VINYLACETYLENE', 'WATER',\n",
            "                           'XENON']\n"
          ],
          "name": "stdout"
        },
        {
          "output_type": "execute_result",
          "data": {
            "text/plain": [
              "array([1176.77514761,  476.86015725])"
            ]
          },
          "metadata": {
            "tags": []
          },
          "execution_count": 12
        }
      ]
    },
    {
      "cell_type": "markdown",
      "metadata": {
        "id": "O693qkOlrP3S"
      },
      "source": [
        "Agora, passaremos para a parte de resolução do sistema, utilizando matrizes."
      ]
    },
    {
      "cell_type": "markdown",
      "metadata": {
        "id": "ZtPKbUkVt-5U"
      },
      "source": [
        "Seguem as equações necessárias:\n",
        "\n",
        "$$(1)\\ \\sum x_i  = x_B \\ + \\ x_T \\ = 1 $$\n",
        "$$(2)\\ \\sum y_i  = y_B \\ + \\ y_T \\ = 1  $$\n",
        "$$(3)\\ BMG \\ : \\ E\\ = \\ V \\ + \\ L $$\n",
        "$$(4)\\ BMB \\ : \\ z_B \\cdot E \\ = \\ y_B\\cdot V \\ + \\ x_B\\cdot L  $$\n",
        "$$(5)\\ BMT \\ : \\ z_T \\cdot E \\ = \\ y_T\\cdot V \\ + \\ x_T\\cdot L  $$\n",
        "$$(6)\\ ELV:\\ x_T \\cdot P_{vap}^T(T_{flash}) = y_B \\cdot P_{flash} $$\n",
        "$$(7)\\ ELV:\\ x_B \\cdot P_{vap}^B(T_{flash}) = y_T \\cdot P_{flash}  $$"
      ]
    },
    {
      "cell_type": "markdown",
      "metadata": {
        "id": "p-F5_sYYA4um"
      },
      "source": [
        "Primeiro iremos resolver o sistema contendo as equações: 1,2,6 e 7."
      ]
    },
    {
      "cell_type": "code",
      "metadata": {
        "colab": {
          "base_uri": "https://localhost:8080/"
        },
        "id": "rGz6MpJlrXe-",
        "outputId": "912c2c5f-605a-4a48-e25c-3a1adf6b267d"
      },
      "source": [
        "#Construindo a matriz dos termos independentes:\n",
        "\n",
        "v_rhs = np.array([1,1,0,0])\n",
        "v_rhs"
      ],
      "execution_count": null,
      "outputs": [
        {
          "output_type": "execute_result",
          "data": {
            "text/plain": [
              "array([1, 1, 0, 0])"
            ]
          },
          "metadata": {
            "tags": []
          },
          "execution_count": 13
        }
      ]
    },
    {
      "cell_type": "code",
      "metadata": {
        "colab": {
          "base_uri": "https://localhost:8080/"
        },
        "id": "bsT_EiMLsK-i",
        "outputId": "66bc5b3c-44a8-401e-e217-d93680f8d40d"
      },
      "source": [
        "# Construindo a matriz dos coeficientes das equaões 1,2,6 e 7.\n",
        "A_elv = np.array([[1,1,0,0],\n",
        "                  [0,0,1,1],\n",
        "                  [P_vap_comp[0],0,-P_flash,0],\n",
        "                  [0, P_vap_comp[1], 0, -P_flash]])\n",
        "A_elv"
      ],
      "execution_count": null,
      "outputs": [
        {
          "output_type": "execute_result",
          "data": {
            "text/plain": [
              "array([[ 1.00000000e+00,  1.00000000e+00,  0.00000000e+00,\n",
              "         0.00000000e+00],\n",
              "       [ 0.00000000e+00,  0.00000000e+00,  1.00000000e+00,\n",
              "         1.00000000e+00],\n",
              "       [ 1.17677515e+03,  0.00000000e+00, -7.60000000e+02,\n",
              "         0.00000000e+00],\n",
              "       [ 0.00000000e+00,  4.76860157e+02,  0.00000000e+00,\n",
              "        -7.60000000e+02]])"
            ]
          },
          "metadata": {
            "tags": []
          },
          "execution_count": 14
        }
      ]
    },
    {
      "cell_type": "code",
      "metadata": {
        "colab": {
          "base_uri": "https://localhost:8080/"
        },
        "id": "xCa6FYUNs8o_",
        "outputId": "00850ad3-e6a4-4c02-fc16-a64ddf160654"
      },
      "source": [
        "# Solução utilizando matriz inversa\n",
        "sol = np.linalg.inv(A_elv) @ v_rhs\n",
        "sol"
      ],
      "execution_count": null,
      "outputs": [
        {
          "output_type": "execute_result",
          "data": {
            "text/plain": [
              "array([0.40453462, 0.59546538, 0.62637669, 0.37362331])"
            ]
          },
          "metadata": {
            "tags": []
          },
          "execution_count": 15
        }
      ]
    },
    {
      "cell_type": "code",
      "metadata": {
        "colab": {
          "base_uri": "https://localhost:8080/"
        },
        "id": "xLpVaX0uuneU",
        "outputId": "8b137aab-2cdf-4665-9aca-152a769248a1"
      },
      "source": [
        "# Arrumando os resultados:\n",
        "x_eq = np.empty(nc)\n",
        "y_eq = np.empty(nc)\n",
        "#\n",
        "x_eq[0] = sol[0]\n",
        "x_eq[1] = sol[1]\n",
        "y_eq[0] = sol[2]\n",
        "y_eq[1] = sol[3]\n",
        "\n",
        "\n",
        "x_eq, y_eq"
      ],
      "execution_count": null,
      "outputs": [
        {
          "output_type": "execute_result",
          "data": {
            "text/plain": [
              "(array([0.40453462, 0.59546538]), array([0.62637669, 0.37362331]))"
            ]
          },
          "metadata": {
            "tags": []
          },
          "execution_count": 16
        }
      ]
    },
    {
      "cell_type": "markdown",
      "metadata": {
        "id": "85wbaOlzvVY5"
      },
      "source": [
        "Agora devemos pegar as equações 3 e 4 e resolver o sistema utilizando o mesmo método de matrizes.\n"
      ]
    },
    {
      "cell_type": "code",
      "metadata": {
        "id": "BzLT3Z9qu3Dd"
      },
      "source": [
        "#Definindo vazão de entrada e a composição de entrada:\n",
        "\n",
        "E = float(50)\n",
        "z_e = np.array([0.5,0.5])"
      ],
      "execution_count": null,
      "outputs": []
    },
    {
      "cell_type": "code",
      "metadata": {
        "colab": {
          "base_uri": "https://localhost:8080/"
        },
        "id": "WvWWp4dDxF36",
        "outputId": "7d486ec2-706f-4a76-f066-07faf83efe6d"
      },
      "source": [
        "E"
      ],
      "execution_count": null,
      "outputs": [
        {
          "output_type": "execute_result",
          "data": {
            "text/plain": [
              "50.0"
            ]
          },
          "metadata": {
            "tags": []
          },
          "execution_count": 18
        }
      ]
    },
    {
      "cell_type": "markdown",
      "metadata": {
        "id": "MpTp2F-MzKdJ"
      },
      "source": [
        "Sistma de equações 3 e 4 a serem resolvidos:\n",
        "\n",
        "\n",
        "$ (3)\\ V + L = E$\n",
        "\n",
        "$ (4)\\ y_B \\cdot V + x_B \\cdot L = z_B \\cdot E$\n",
        "\n",
        "\n"
      ]
    },
    {
      "cell_type": "code",
      "metadata": {
        "colab": {
          "base_uri": "https://localhost:8080/"
        },
        "id": "kBQ6wYlmxQzs",
        "outputId": "98fb2824-637b-402a-b1af-22887d3a8906"
      },
      "source": [
        "#Montando a matriz dos coeficientes independentes:\n",
        "v_rhs_2 = np.array([E,float(z_e[0])*E])\n",
        "v_rhs_2"
      ],
      "execution_count": null,
      "outputs": [
        {
          "output_type": "execute_result",
          "data": {
            "text/plain": [
              "array([50., 25.])"
            ]
          },
          "metadata": {
            "tags": []
          },
          "execution_count": 19
        }
      ]
    },
    {
      "cell_type": "code",
      "metadata": {
        "colab": {
          "base_uri": "https://localhost:8080/"
        },
        "id": "B4C66eP_1ZSN",
        "outputId": "37e38010-3011-427c-bcc3-40912b10308f"
      },
      "source": [
        "#Monstando a matriz dos coeficientes:\n",
        "\n",
        "B_elv = np.array([[1,1],\n",
        "                  [y_eq[0], x_eq[0]]])\n",
        "B_elv"
      ],
      "execution_count": null,
      "outputs": [
        {
          "output_type": "execute_result",
          "data": {
            "text/plain": [
              "array([[1.        , 1.        ],\n",
              "       [0.62637669, 0.40453462]])"
            ]
          },
          "metadata": {
            "tags": []
          },
          "execution_count": 20
        }
      ]
    },
    {
      "cell_type": "code",
      "metadata": {
        "colab": {
          "base_uri": "https://localhost:8080/"
        },
        "id": "YZHt8I462Buz",
        "outputId": "c77e5593-4a0a-4ce6-d564-15de23a210e7"
      },
      "source": [
        "# Solução utilizando matriz inversa\n",
        "sol_2 = np.linalg.inv(B_elv) @ v_rhs_2\n",
        "sol_2 "
      ],
      "execution_count": null,
      "outputs": [
        {
          "output_type": "execute_result",
          "data": {
            "text/plain": [
              "array([21.51651889, 28.48348111])"
            ]
          },
          "metadata": {
            "tags": []
          },
          "execution_count": 21
        }
      ]
    },
    {
      "cell_type": "markdown",
      "metadata": {
        "id": "ax9UJ_DICvaf"
      },
      "source": [
        "Resposta final:\n",
        "\n",
        "$$V = 21.52$$\n",
        "$$L = 28.48$$\n",
        "$$x_B = 0.4045$$\n",
        "$$x_T = 0.5955$$\n",
        "$$y_B = 0.6264$$\n",
        "$$y_T = 0.3736$$"
      ]
    }
  ]
}