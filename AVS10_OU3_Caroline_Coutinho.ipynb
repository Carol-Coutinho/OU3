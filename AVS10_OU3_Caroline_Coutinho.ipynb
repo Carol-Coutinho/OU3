{
  "nbformat": 4,
  "nbformat_minor": 0,
  "metadata": {
    "colab": {
      "provenance": [],
      "collapsed_sections": [],
      "include_colab_link": true
    },
    "kernelspec": {
      "name": "python3",
      "display_name": "Python 3"
    },
    "language_info": {
      "name": "python"
    }
  },
  "cells": [
    {
      "cell_type": "markdown",
      "metadata": {
        "id": "view-in-github",
        "colab_type": "text"
      },
      "source": [
        "<a href=\"https://colab.research.google.com/github/Carol-Coutinho/OU3/blob/main/AVS10_OU3_Caroline_Coutinho.ipynb\" target=\"_parent\"><img src=\"https://colab.research.google.com/assets/colab-badge.svg\" alt=\"Open In Colab\"/></a>"
      ]
    },
    {
      "cell_type": "markdown",
      "metadata": {
        "id": "P_tgRf0JMC7s"
      },
      "source": [
        "# AVS_10\n",
        "\n",
        "Operações Unitárias 3\n",
        "\n",
        "Caroline Coutinho\n",
        "\n",
        "Um módulo de permeação de gás, com câmaras perfeitamente misturadas, está separando dióxido de carbono do nitrogênio usando uma membrana de poli óxido de 2,6-dimetilfenileno.  A alimentação é de 20% molar de dióxido de carbono e está a 25 °C. O módulo tem 50.0 m2 de membrana com espessura de 1.0e-4 cm.  O módulo é operado com uma pressão de retentato de 5.5 atm e uma pressão de permeado de 1.01 atm.  Se deseja que o permeado saia com 40.% molar de dióxido de carbono.\n",
        "\n",
        "\n",
        "Encontre:\n",
        "- A concentração em fração molar do dióxido de carbono no retentato;\n",
        "- A vazão molar do permeado\n",
        "- o valor do parâmetro de \"corte\"\n",
        "- A vazão molar de alimentação\n",
        "\n",
        "\n",
        "Considere as seguintes permeabilidades:\n",
        "\n",
        "\n",
        "Permeabilidade do CO2 = 75.0e−10 cm3 (STP)cm/[cm2s cmHg]  \n",
        "Permeabilidade do N2 = 4.43e−10 cm3 (STP)cm/[cm2s cmHg] "
      ]
    },
    {
      "cell_type": "markdown",
      "metadata": {
        "id": "J-L31wDIcKCJ"
      },
      "source": [
        "## Parte 1: Dados iniciais"
      ]
    },
    {
      "cell_type": "code",
      "metadata": {
        "id": "ZKeakyklcOAd"
      },
      "source": [
        "y_co2_f = 0.2 # concentração molar de CO2 na alimentação\n",
        "y_co2_p = 0.4 # concentração molar de CO2 do permeado"
      ],
      "execution_count": null,
      "outputs": []
    },
    {
      "cell_type": "code",
      "metadata": {
        "id": "jKeaBEardk8J"
      },
      "source": [
        "temp = 25 + 273.15 # k\n",
        "\n",
        "a = 50e4 # cm²\n",
        "s = 1e-4 # cm"
      ],
      "execution_count": null,
      "outputs": []
    },
    {
      "cell_type": "code",
      "metadata": {
        "id": "vNdJzwuHeVCy"
      },
      "source": [
        "P_retentato = 5.5 # atm\n",
        "P_permeado = 1.01 # atm\n",
        "P = 1 # atm"
      ],
      "execution_count": null,
      "outputs": []
    },
    {
      "cell_type": "code",
      "metadata": {
        "id": "jfHnZRbyex32"
      },
      "source": [
        "Per_CO2 = 75.0e-10   # cm3(STP)cm/[cm2s cmHg]\n",
        "Per_N2  = 4.43e-10   # cm3(STP)cm/[cm2s cmHg] "
      ],
      "execution_count": null,
      "outputs": []
    },
    {
      "cell_type": "markdown",
      "metadata": {
        "id": "BcQh_XqWhf1g"
      },
      "source": [
        "Dados completares:       "
      ]
    },
    {
      "cell_type": "code",
      "metadata": {
        "id": "sTpsC7Pghkzr"
      },
      "source": [
        "PcmHg = 76        # cmHg/atm\n",
        "V = 22400         # Volume em cm³ na CNTP\n",
        "MM_co2 = 44.01    # g/mol \n",
        "Temp = 298.15     # K\n",
        "R = 82.06        # cm³·atm/K·mol "
      ],
      "execution_count": null,
      "outputs": []
    },
    {
      "cell_type": "markdown",
      "metadata": {
        "id": "UEqqrQZ4jij6"
      },
      "source": [
        "## Parte 2: Resolução"
      ]
    },
    {
      "cell_type": "markdown",
      "metadata": {
        "id": "itJYDfSrOVmK"
      },
      "source": [
        "O fator de separação é dado por:         \n",
        "\n",
        "$$ \\alpha_{A,B} = \\frac{Permeabilidade_A}{Permeabilidade_B} $$"
      ]
    },
    {
      "cell_type": "code",
      "metadata": {
        "id": "C2n11AHMjota"
      },
      "source": [
        "alfa_AB = Per_CO2/Per_N2"
      ],
      "execution_count": null,
      "outputs": []
    },
    {
      "cell_type": "markdown",
      "metadata": {
        "id": "ywoIxHM7jwJ-"
      },
      "source": [
        "O fator de enriquecimento é dado por:    \n",
        "\n",
        "$$\\beta_A = \\frac{y^A_P}{y^A_F}$$"
      ]
    },
    {
      "cell_type": "code",
      "metadata": {
        "id": "PAtcGfyLjy8n"
      },
      "source": [
        "beta_A = y_co2_p/y_co2_f "
      ],
      "execution_count": null,
      "outputs": []
    },
    {
      "cell_type": "markdown",
      "metadata": {
        "id": "X14PWH2ZkZlN"
      },
      "source": [
        "O coeficiente de rejeição é dado por:           \n",
        "\n",
        "$$ R = 1 - \\frac{y^A_P}{y^A_F} = 1 - \\beta_A$$"
      ]
    },
    {
      "cell_type": "code",
      "metadata": {
        "id": "UiNE2uAGkgUi"
      },
      "source": [
        "R = 1- beta_A"
      ],
      "execution_count": null,
      "outputs": []
    },
    {
      "cell_type": "markdown",
      "metadata": {
        "id": "hG-CnuVlmopU"
      },
      "source": [
        "A concentração em fração molar de CO2 no retentato é encontrada através do balanço:      \n",
        "\n",
        "$$ y_A^R = \\frac{y_P \\cdot (((\\alpha_{AB}-1) \\cdot (P_p/P_r) \\cdot (1-y_P))+1)}{\\alpha_{AB} -((\\alpha_{AB}-1) \\cdot y_P)}$$"
      ]
    },
    {
      "cell_type": "code",
      "metadata": {
        "id": "BL0_58BWmviu"
      },
      "source": [
        "def y_retent(ALPHA,y_P,P_p,P_r):\n",
        "  NUM = y_P*(((ALPHA-1)*(P_p/P_r)*(1-y_P))+1)\n",
        "  DEC = ALPHA -((ALPHA-1)*y_P)\n",
        "  y_R = NUM/DEC\n",
        "  return y_R"
      ],
      "execution_count": null,
      "outputs": []
    },
    {
      "cell_type": "code",
      "metadata": {
        "colab": {
          "base_uri": "https://localhost:8080/"
        },
        "id": "hVdspcI8nuq9",
        "outputId": "c3e1f92b-58c6-43ca-9b9f-b3717e433f1f"
      },
      "source": [
        "y_CO2_R = y_retent(alfa_AB,y_co2_p,P_permeado,P_retentato)\n",
        "y_CO2_R "
      ],
      "execution_count": null,
      "outputs": [
        {
          "output_type": "execute_result",
          "data": {
            "text/plain": [
              "0.10438322850501078"
            ]
          },
          "metadata": {},
          "execution_count": 11
        }
      ]
    },
    {
      "cell_type": "markdown",
      "metadata": {
        "id": "DWxBBZFpofD9"
      },
      "source": [
        "Para o cálculo da variação de pressão temos:         \n",
        "\n",
        "$$\\Delta P_{ret} = P_{retentato} \\cdot y_A^R \\cdot P_{cmHg}$$\n",
        "\n",
        "$$\\Delta P_{per} = P_{permeado} \\cdot y_A^P \\cdot P_{cmHg}$$\n",
        "\n",
        "$$\\Delta P_{tot} = \\Delta P_{ret} - \\Delta P_{per} $$\n"
      ]
    },
    {
      "cell_type": "code",
      "metadata": {
        "id": "JcGCFPp8okwu"
      },
      "source": [
        "var_p_retent = P_retentato*y_CO2_R*PcmHg #cmHg\n",
        "var_p_permeado = P_permeado*y_co2_p*PcmHg #cmHg"
      ],
      "execution_count": null,
      "outputs": []
    },
    {
      "cell_type": "code",
      "metadata": {
        "colab": {
          "base_uri": "https://localhost:8080/"
        },
        "id": "dFNYCi7SpTB8",
        "outputId": "d1b4d79c-1ac9-412a-896c-097fee46b404"
      },
      "source": [
        "delta_P = var_p_retent - var_p_permeado\n",
        "delta_P   #cmHg"
      ],
      "execution_count": null,
      "outputs": [
        {
          "output_type": "execute_result",
          "data": {
            "text/plain": [
              "12.928189515094509"
            ]
          },
          "metadata": {},
          "execution_count": 13
        }
      ]
    },
    {
      "cell_type": "markdown",
      "metadata": {
        "id": "GRXazgOcTr_r"
      },
      "source": [
        "O fluxo de CO2 é dado por:     \n",
        "\n",
        "$$J_A = \\frac{(Pereabilidade_A \\cdot \\Delta P)}{s} $$"
      ]
    },
    {
      "cell_type": "code",
      "metadata": {
        "colab": {
          "base_uri": "https://localhost:8080/"
        },
        "id": "pe3CuTCOqRB2",
        "outputId": "136dd53f-689a-46fe-c61b-4064b9319910"
      },
      "source": [
        "J_A = (Per_CO2*delta_P)/s\n",
        "J_A   "
      ],
      "execution_count": null,
      "outputs": [
        {
          "output_type": "execute_result",
          "data": {
            "text/plain": [
              "0.0009696142136320881"
            ]
          },
          "metadata": {},
          "execution_count": 14
        }
      ]
    },
    {
      "cell_type": "markdown",
      "metadata": {
        "id": "juuzqxegq1r9"
      },
      "source": [
        "A densidade linha é dado por:    \n",
        "\n",
        "$$ \\rho = \\frac{((P \\cdot MM_A/(R \\cdot Temp))}{MM_A}$$"
      ]
    },
    {
      "cell_type": "code",
      "metadata": {
        "colab": {
          "base_uri": "https://localhost:8080/"
        },
        "id": "kfMQH_Unq3Xz",
        "outputId": "fb82e0fa-b12e-4723-b37b-fb689cd0be26"
      },
      "source": [
        "rho_linha = ((P*MM_co2/(cte_R*temp))/MM_co2)\n",
        "rho_linha"
      ],
      "execution_count": null,
      "outputs": [
        {
          "output_type": "execute_result",
          "data": {
            "text/plain": [
              "4.087273256983341e-05"
            ]
          },
          "metadata": {},
          "execution_count": 15
        }
      ]
    },
    {
      "cell_type": "markdown",
      "metadata": {
        "id": "onyIEICtrNvv"
      },
      "source": [
        "A vazão molar do permeado é dado por:    \n",
        "\n",
        "$$ Vaz_ P = \\frac{J_A \\cdot a \\cdot \\rho{linha}}{y_A^P} \\cdot 60 $$"
      ]
    },
    {
      "cell_type": "code",
      "metadata": {
        "colab": {
          "base_uri": "https://localhost:8080/"
        },
        "id": "2I7joBNIrQu1",
        "outputId": "e11caf7d-f701-45e7-fbf8-b4dba444c1df"
      },
      "source": [
        "vaz_P =(J_A*a*rho_linha/y_co2_p)*60\n",
        "vaz_P # mol/min"
      ],
      "execution_count": null,
      "outputs": [
        {
          "output_type": "execute_result",
          "data": {
            "text/plain": [
              "2.9723086837270243"
            ]
          },
          "metadata": {},
          "execution_count": 16
        }
      ]
    },
    {
      "cell_type": "markdown",
      "metadata": {
        "id": "7l3hhgz4r3vY"
      },
      "source": [
        "O fator de corte será:    \n"
      ]
    },
    {
      "cell_type": "code",
      "metadata": {
        "id": "xDuW9SoDr6kk"
      },
      "source": [
        "def f_corte(y_co2_f,y_co2_p,y_CO2_R):\n",
        "  NUM = (y_co2_f-y_CO2_R)\n",
        "  DEC = (y_co2_p-y_CO2_R)\n",
        "  cut = NUM/DEC\n",
        "  return cut"
      ],
      "execution_count": null,
      "outputs": []
    },
    {
      "cell_type": "code",
      "metadata": {
        "colab": {
          "base_uri": "https://localhost:8080/"
        },
        "id": "CHHDBZmxsOUI",
        "outputId": "6dfbab4d-6a6a-4c26-b550-fe02d6580c53"
      },
      "source": [
        "corte = f_corte(y_co2_f,y_co2_p,y_CO2_R)\n",
        "corte"
      ],
      "execution_count": null,
      "outputs": [
        {
          "output_type": "execute_result",
          "data": {
            "text/plain": [
              "0.3234483991264682"
            ]
          },
          "metadata": {},
          "execution_count": 18
        }
      ]
    },
    {
      "cell_type": "markdown",
      "metadata": {
        "id": "OV1b_8ADsrhT"
      },
      "source": [
        "O cálculo da vazão molar de alimentação é dado por:     \n",
        "\n",
        "$$ F = \\frac{Vaz_P}{corte}$$"
      ]
    },
    {
      "cell_type": "code",
      "metadata": {
        "colab": {
          "base_uri": "https://localhost:8080/"
        },
        "id": "LfPFxh8QsxGc",
        "outputId": "62eda7f0-c060-42a7-9183-6d3dc7b8a703"
      },
      "source": [
        "F = vaz_P/corte\n",
        "F # mol/min"
      ],
      "execution_count": null,
      "outputs": [
        {
          "output_type": "execute_result",
          "data": {
            "text/plain": [
              "9.189436991354075"
            ]
          },
          "metadata": {},
          "execution_count": 19
        }
      ]
    },
    {
      "cell_type": "markdown",
      "metadata": {
        "id": "jB_MFbvQtTmD"
      },
      "source": [
        "Cálculo de retentado a partir do balanço:    \n",
        "\n",
        "$$R = F - Vaz_P$$"
      ]
    },
    {
      "cell_type": "code",
      "metadata": {
        "colab": {
          "base_uri": "https://localhost:8080/"
        },
        "id": "c40zOq5lts7M",
        "outputId": "b7ae2cdf-2939-4eb3-a019-eb338521480c"
      },
      "source": [
        "R = F-vaz_P\n",
        "R # mol/min"
      ],
      "execution_count": null,
      "outputs": [
        {
          "output_type": "execute_result",
          "data": {
            "text/plain": [
              "6.217128307627051"
            ]
          },
          "metadata": {},
          "execution_count": 20
        }
      ]
    },
    {
      "cell_type": "markdown",
      "metadata": {
        "id": "3rVgm552WMSF"
      },
      "source": [
        "## Resultados:      "
      ]
    },
    {
      "cell_type": "code",
      "metadata": {
        "colab": {
          "base_uri": "https://localhost:8080/"
        },
        "id": "KVx6gph5WPU3",
        "outputId": "0aa9b980-8af6-4dc0-b87e-825f67b89202"
      },
      "source": [
        "print(\"Concentração em fração molar do dióxido de carbono no retentato: \", y_CO2_R)\n",
        "print(\"Vazão molar do permeado: \", vaz_P)\n",
        "print(\"Valor do parâmetro de corte: \", corte)\n",
        "print(\"Vazão molar de alimentação: \", F)"
      ],
      "execution_count": null,
      "outputs": [
        {
          "output_type": "stream",
          "name": "stdout",
          "text": [
            "Concentração em fração molar do dióxido de carbono no retentato:  0.10438322850501078\n",
            "Vazão molar do permeado:  2.9723086837270243\n",
            "Valor do parâmetro de corte:  0.3234483991264682\n",
            "Vazão molar de alimentação:  9.189436991354075\n"
          ]
        }
      ]
    }
  ]
}